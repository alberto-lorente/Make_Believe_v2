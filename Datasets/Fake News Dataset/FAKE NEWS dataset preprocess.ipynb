{
  "cells": [
    {
      "cell_type": "code",
      "execution_count": 1,
      "metadata": {
        "id": "Xz9vvRq3jRJ-"
      },
      "outputs": [],
      "source": [
        "import pandas as pd"
      ]
    },
    {
      "cell_type": "code",
      "execution_count": 2,
      "metadata": {
        "id": "vhQ9yscpjXHw"
      },
      "outputs": [],
      "source": [
        "data = pd.read_csv(r\"fake_or_real_news.csv\", engine=\"python\")"
      ]
    },
    {
      "cell_type": "code",
      "execution_count": 3,
      "metadata": {
        "colab": {
          "base_uri": "https://localhost:8080/",
          "height": 206
        },
        "id": "11yEcGO5kK20",
        "outputId": "440d3e35-8a3c-46cc-da50-742bbf4b0cc6"
      },
      "outputs": [
        {
          "data": {
            "text/html": [
              "<div>\n",
              "<style scoped>\n",
              "    .dataframe tbody tr th:only-of-type {\n",
              "        vertical-align: middle;\n",
              "    }\n",
              "\n",
              "    .dataframe tbody tr th {\n",
              "        vertical-align: top;\n",
              "    }\n",
              "\n",
              "    .dataframe thead th {\n",
              "        text-align: right;\n",
              "    }\n",
              "</style>\n",
              "<table border=\"1\" class=\"dataframe\">\n",
              "  <thead>\n",
              "    <tr style=\"text-align: right;\">\n",
              "      <th></th>\n",
              "      <th>Unnamed: 0</th>\n",
              "      <th>title</th>\n",
              "      <th>text</th>\n",
              "      <th>label</th>\n",
              "    </tr>\n",
              "  </thead>\n",
              "  <tbody>\n",
              "    <tr>\n",
              "      <th>0</th>\n",
              "      <td>8476</td>\n",
              "      <td>You Can Smell Hillary’s Fear</td>\n",
              "      <td>Daniel Greenfield, a Shillman Journalism Fello...</td>\n",
              "      <td>FAKE</td>\n",
              "    </tr>\n",
              "    <tr>\n",
              "      <th>1</th>\n",
              "      <td>10294</td>\n",
              "      <td>Watch The Exact Moment Paul Ryan Committed Pol...</td>\n",
              "      <td>Google Pinterest Digg Linkedin Reddit Stumbleu...</td>\n",
              "      <td>FAKE</td>\n",
              "    </tr>\n",
              "    <tr>\n",
              "      <th>2</th>\n",
              "      <td>3608</td>\n",
              "      <td>Kerry to go to Paris in gesture of sympathy</td>\n",
              "      <td>U.S. Secretary of State John F. Kerry said Mon...</td>\n",
              "      <td>REAL</td>\n",
              "    </tr>\n",
              "    <tr>\n",
              "      <th>3</th>\n",
              "      <td>10142</td>\n",
              "      <td>Bernie supporters on Twitter erupt in anger ag...</td>\n",
              "      <td>— Kaydee King (@KaydeeKing) November 9, 2016 T...</td>\n",
              "      <td>FAKE</td>\n",
              "    </tr>\n",
              "    <tr>\n",
              "      <th>4</th>\n",
              "      <td>875</td>\n",
              "      <td>The Battle of New York: Why This Primary Matters</td>\n",
              "      <td>It's primary day in New York and front-runners...</td>\n",
              "      <td>REAL</td>\n",
              "    </tr>\n",
              "  </tbody>\n",
              "</table>\n",
              "</div>"
            ],
            "text/plain": [
              "   Unnamed: 0                                              title  \\\n",
              "0        8476                       You Can Smell Hillary’s Fear   \n",
              "1       10294  Watch The Exact Moment Paul Ryan Committed Pol...   \n",
              "2        3608        Kerry to go to Paris in gesture of sympathy   \n",
              "3       10142  Bernie supporters on Twitter erupt in anger ag...   \n",
              "4         875   The Battle of New York: Why This Primary Matters   \n",
              "\n",
              "                                                text label  \n",
              "0  Daniel Greenfield, a Shillman Journalism Fello...  FAKE  \n",
              "1  Google Pinterest Digg Linkedin Reddit Stumbleu...  FAKE  \n",
              "2  U.S. Secretary of State John F. Kerry said Mon...  REAL  \n",
              "3  — Kaydee King (@KaydeeKing) November 9, 2016 T...  FAKE  \n",
              "4  It's primary day in New York and front-runners...  REAL  "
            ]
          },
          "execution_count": 3,
          "metadata": {},
          "output_type": "execute_result"
        }
      ],
      "source": [
        "data.head()"
      ]
    },
    {
      "cell_type": "code",
      "execution_count": 4,
      "metadata": {
        "colab": {
          "base_uri": "https://localhost:8080/"
        },
        "id": "JQcnt8sGkOqs",
        "outputId": "5556f047-344d-40eb-97dc-ff64d9b9831d"
      },
      "outputs": [
        {
          "name": "stdout",
          "output_type": "stream",
          "text": [
            "Number of texts: 6335\n"
          ]
        }
      ],
      "source": [
        "print(\"Number of texts:\", data.shape[0])"
      ]
    },
    {
      "cell_type": "code",
      "execution_count": 5,
      "metadata": {},
      "outputs": [
        {
          "name": "stderr",
          "output_type": "stream",
          "text": [
            "C:\\Users\\alber\\AppData\\Local\\Temp\\ipykernel_15000\\58312266.py:3: FutureWarning: Downcasting behavior in `replace` is deprecated and will be removed in a future version. To retain the old behavior, explicitly call `result.infer_objects(copy=False)`. To opt-in to the future behavior, set `pd.set_option('future.no_silent_downcasting', True)`\n",
            "  data[\"label\"] = data[\"label\"].replace(\"REAL\", 1)\n"
          ]
        }
      ],
      "source": [
        "if data[\"label\"][0] != 0 or 1:\n",
        "  data[\"label\"] = data[\"label\"].replace(\"FAKE\", 0)\n",
        "  data[\"label\"] = data[\"label\"].replace(\"REAL\", 1)\n"
      ]
    },
    {
      "cell_type": "code",
      "execution_count": 6,
      "metadata": {
        "id": "zGv4lzl2kie2"
      },
      "outputs": [],
      "source": [
        "for row in data.title:\n",
        "  if not row.endswith(\". \"):\n",
        "    row = row + \". \"\n",
        "  # print(row)"
      ]
    },
    {
      "cell_type": "code",
      "execution_count": 7,
      "metadata": {
        "id": "U-kQcpZEl0_H"
      },
      "outputs": [],
      "source": [
        "data.text = data.title + data.text"
      ]
    },
    {
      "cell_type": "code",
      "execution_count": 8,
      "metadata": {
        "colab": {
          "base_uri": "https://localhost:8080/"
        },
        "id": "vCPO8eQ2mqFh",
        "outputId": "d58a3dfd-af09-4bef-d654-22276f750205"
      },
      "outputs": [
        {
          "data": {
            "text/plain": [
              "Index(['Unnamed: 0', 'title', 'text', 'label'], dtype='object')"
            ]
          },
          "execution_count": 8,
          "metadata": {},
          "output_type": "execute_result"
        }
      ],
      "source": [
        "data.columns"
      ]
    },
    {
      "cell_type": "code",
      "execution_count": 9,
      "metadata": {},
      "outputs": [],
      "source": [
        "data = data.drop(labels=\"title\", axis=1)"
      ]
    },
    {
      "cell_type": "code",
      "execution_count": 10,
      "metadata": {
        "colab": {
          "base_uri": "https://localhost:8080/",
          "height": 423
        },
        "id": "3m_rvA4smz9n",
        "outputId": "f5bd8153-adc0-4280-e46b-6c79c21b769d"
      },
      "outputs": [
        {
          "data": {
            "text/plain": [
              "(6335, 3)"
            ]
          },
          "execution_count": 10,
          "metadata": {},
          "output_type": "execute_result"
        }
      ],
      "source": [
        "data.rename(columns={\"Unnamed: 0\":\"id\"}, inplace=True)\n",
        "data.shape"
      ]
    },
    {
      "cell_type": "code",
      "execution_count": 11,
      "metadata": {},
      "outputs": [
        {
          "data": {
            "text/plain": [
              "Index(['id', 'text', 'label'], dtype='object')"
            ]
          },
          "execution_count": 11,
          "metadata": {},
          "output_type": "execute_result"
        }
      ],
      "source": [
        "data.columns"
      ]
    },
    {
      "cell_type": "code",
      "execution_count": 12,
      "metadata": {
        "colab": {
          "base_uri": "https://localhost:8080/"
        },
        "id": "0a1LO9M5nUIK",
        "outputId": "af0f4016-3cad-4591-b073-043a43bb057d"
      },
      "outputs": [
        {
          "data": {
            "text/plain": [
              "array([False])"
            ]
          },
          "execution_count": 12,
          "metadata": {},
          "output_type": "execute_result"
        }
      ],
      "source": [
        "data.id.duplicated().unique()\n"
      ]
    },
    {
      "cell_type": "code",
      "execution_count": 13,
      "metadata": {
        "id": "bF-Z3YRtoKN8"
      },
      "outputs": [],
      "source": [
        "# separating the data according to polarity because the TCT script does not keep the Polarity column\n",
        "\n",
        "data.rename(columns={\"label\":\"Polarity\"}, inplace=True)\n",
        "# fake_test = data[data.Polarity == 0]\n",
        "# true_test = data[data.Polarity == 1]"
      ]
    },
    {
      "cell_type": "code",
      "execution_count": 14,
      "metadata": {},
      "outputs": [],
      "source": [
        "# fake_test"
      ]
    },
    {
      "cell_type": "code",
      "execution_count": 15,
      "metadata": {},
      "outputs": [],
      "source": [
        "# true_test"
      ]
    },
    {
      "cell_type": "code",
      "execution_count": 16,
      "metadata": {},
      "outputs": [],
      "source": [
        "\n",
        "data.to_csv('fake_news_preprocess.csv', index=False)\n"
      ]
    },
    {
      "cell_type": "markdown",
      "metadata": {},
      "source": [
        "Getting Subjectivity and Polarity scores"
      ]
    },
    {
      "cell_type": "code",
      "execution_count": 19,
      "metadata": {},
      "outputs": [],
      "source": [
        "from textblob import TextBlob\n",
        "import nltk\n",
        "# nltk.download('vader_lexicon')\n",
        "# nltk.download('punkt')\n",
        "from nltk.sentiment.vader import SentimentIntensityAnalyzer"
      ]
    },
    {
      "cell_type": "code",
      "execution_count": 20,
      "metadata": {},
      "outputs": [],
      "source": [
        "sent = SentimentIntensityAnalyzer()\n",
        "\n",
        "data[\"Overall_Sentiment\"] = data[\"text\"].apply(lambda row:sent.polarity_scores(row)[\"compound\"])\n",
        "data[\"Positive_Sentiment\"] = data[\"text\"].apply(lambda row:sent.polarity_scores(row)[\"neg\"])\n",
        "data[\"Negative_Sentiment\"] = data[\"text\"].apply(lambda row:sent.polarity_scores(row)[\"pos\"])\n",
        "data[\"Neutral_Sentiment\"] = data[\"text\"].apply(lambda row:sent.polarity_scores(row)[\"neu\"])\n",
        "\n",
        "data[\"Subjectivity\"] = data[\"text\"].apply(lambda row:TextBlob(row).sentiment[1])"
      ]
    },
    {
      "cell_type": "markdown",
      "metadata": {},
      "source": [
        "#Fake News dataset Normalization"
      ]
    },
    {
      "cell_type": "code",
      "execution_count": 61,
      "metadata": {},
      "outputs": [],
      "source": [
        "true_data_pre = pd.read_table('true_test.tsv', delimiter = '\\t')\n",
        "\n",
        "fake_data_pre = pd.read_table('fake_test.tsv', delimiter = '\\t')"
      ]
    },
    {
      "cell_type": "code",
      "execution_count": 62,
      "metadata": {},
      "outputs": [],
      "source": [
        "true_df = true_data_pre.drop(labels=[\"text_key\", \"id\"], axis=1)\n",
        "fake_df = fake_data_pre.drop(labels=[\"text_key\", \"id\"], axis=1)\n",
        "\n"
      ]
    },
    {
      "cell_type": "code",
      "execution_count": 63,
      "metadata": {},
      "outputs": [],
      "source": [
        "true_df[\"Polarity\"] = 1\n",
        "fake_df[\"Polarity\"] = 0"
      ]
    },
    {
      "cell_type": "code",
      "execution_count": 64,
      "metadata": {},
      "outputs": [],
      "source": [
        "dfs = [fake_df, true_df]\n",
        "true_and_fake = pd.concat(dfs, axis = 0)"
      ]
    },
    {
      "cell_type": "code",
      "execution_count": 65,
      "metadata": {},
      "outputs": [
        {
          "data": {
            "text/html": [
              "<div>\n",
              "<style scoped>\n",
              "    .dataframe tbody tr th:only-of-type {\n",
              "        vertical-align: middle;\n",
              "    }\n",
              "\n",
              "    .dataframe tbody tr th {\n",
              "        vertical-align: top;\n",
              "    }\n",
              "\n",
              "    .dataframe thead th {\n",
              "        text-align: right;\n",
              "    }\n",
              "</style>\n",
              "<table border=\"1\" class=\"dataframe\">\n",
              "  <thead>\n",
              "    <tr style=\"text-align: right;\">\n",
              "      <th></th>\n",
              "      <th>Polarity</th>\n",
              "    </tr>\n",
              "  </thead>\n",
              "  <tbody>\n",
              "    <tr>\n",
              "      <th>0</th>\n",
              "      <td>0</td>\n",
              "    </tr>\n",
              "    <tr>\n",
              "      <th>1</th>\n",
              "      <td>0</td>\n",
              "    </tr>\n",
              "    <tr>\n",
              "      <th>2</th>\n",
              "      <td>0</td>\n",
              "    </tr>\n",
              "    <tr>\n",
              "      <th>3</th>\n",
              "      <td>0</td>\n",
              "    </tr>\n",
              "    <tr>\n",
              "      <th>4</th>\n",
              "      <td>0</td>\n",
              "    </tr>\n",
              "    <tr>\n",
              "      <th>...</th>\n",
              "      <td>...</td>\n",
              "    </tr>\n",
              "    <tr>\n",
              "      <th>6337</th>\n",
              "      <td>1</td>\n",
              "    </tr>\n",
              "    <tr>\n",
              "      <th>6338</th>\n",
              "      <td>1</td>\n",
              "    </tr>\n",
              "    <tr>\n",
              "      <th>6339</th>\n",
              "      <td>1</td>\n",
              "    </tr>\n",
              "    <tr>\n",
              "      <th>6340</th>\n",
              "      <td>1</td>\n",
              "    </tr>\n",
              "    <tr>\n",
              "      <th>6341</th>\n",
              "      <td>1</td>\n",
              "    </tr>\n",
              "  </tbody>\n",
              "</table>\n",
              "<p>12665 rows × 1 columns</p>\n",
              "</div>"
            ],
            "text/plain": [
              "      Polarity\n",
              "0            0\n",
              "1            0\n",
              "2            0\n",
              "3            0\n",
              "4            0\n",
              "...        ...\n",
              "6337         1\n",
              "6338         1\n",
              "6339         1\n",
              "6340         1\n",
              "6341         1\n",
              "\n",
              "[12665 rows x 1 columns]"
            ]
          },
          "execution_count": 65,
          "metadata": {},
          "output_type": "execute_result"
        }
      ],
      "source": [
        "y = true_and_fake[[\"Polarity\"]]\n",
        "y"
      ]
    },
    {
      "cell_type": "code",
      "execution_count": 66,
      "metadata": {},
      "outputs": [],
      "source": [
        "true_and_fake = true_and_fake.drop(\"Polarity\", axis=1)"
      ]
    },
    {
      "cell_type": "code",
      "execution_count": 67,
      "metadata": {},
      "outputs": [
        {
          "name": "stderr",
          "output_type": "stream",
          "text": [
            "c:\\Users\\alber\\AppData\\Local\\Programs\\Python\\Python312\\Lib\\site-packages\\sklearn\\preprocessing\\_data.py:480: RuntimeWarning: All-NaN slice encountered\n",
            "  data_min = np.nanmin(X, axis=0)\n",
            "c:\\Users\\alber\\AppData\\Local\\Programs\\Python\\Python312\\Lib\\site-packages\\sklearn\\preprocessing\\_data.py:481: RuntimeWarning: All-NaN slice encountered\n",
            "  data_max = np.nanmax(X, axis=0)\n"
          ]
        }
      ],
      "source": [
        "from sklearn.preprocessing import MinMaxScaler\n",
        "\n",
        "scaler = MinMaxScaler()\n",
        "\n",
        "cols = list(true_and_fake.columns)\n",
        "\n",
        "true_and_fake[cols] = scaler.fit_transform(true_and_fake[cols])"
      ]
    },
    {
      "cell_type": "code",
      "execution_count": 68,
      "metadata": {},
      "outputs": [
        {
          "data": {
            "text/html": [
              "<div>\n",
              "<style scoped>\n",
              "    .dataframe tbody tr th:only-of-type {\n",
              "        vertical-align: middle;\n",
              "    }\n",
              "\n",
              "    .dataframe tbody tr th {\n",
              "        vertical-align: top;\n",
              "    }\n",
              "\n",
              "    .dataframe thead th {\n",
              "        text-align: right;\n",
              "    }\n",
              "</style>\n",
              "<table border=\"1\" class=\"dataframe\">\n",
              "  <thead>\n",
              "    <tr style=\"text-align: right;\">\n",
              "      <th></th>\n",
              "      <th>DESPC</th>\n",
              "      <th>DESSC</th>\n",
              "      <th>DESWC</th>\n",
              "      <th>DESPL</th>\n",
              "      <th>DESPLd</th>\n",
              "      <th>DESPLw</th>\n",
              "      <th>DESSL</th>\n",
              "      <th>DESSLd</th>\n",
              "      <th>DESWLsy</th>\n",
              "      <th>DESWLsyd</th>\n",
              "      <th>...</th>\n",
              "      <th>WORD_PROPERTY_WRDHYPn</th>\n",
              "      <th>WORD_PROPERTY_WRDHYPv</th>\n",
              "      <th>WORD_PROPERTY_WRDHYPnv</th>\n",
              "      <th>WORD_PROPERTY_AOA</th>\n",
              "      <th>WORD_PROPERTY_AOA_MAX</th>\n",
              "      <th>WORD_PROPERTY_CONCRETENESS</th>\n",
              "      <th>WORD_PROPERTY_PREVALENCE</th>\n",
              "      <th>WORD_PROPERTY_PREVALENCE_MIN</th>\n",
              "      <th>WORD_SET_INCIDENCE_C4_COMMON_WORDS</th>\n",
              "      <th>Polarity</th>\n",
              "    </tr>\n",
              "  </thead>\n",
              "  <tbody>\n",
              "    <tr>\n",
              "      <th>0</th>\n",
              "      <td>0.066524</td>\n",
              "      <td>0.114973</td>\n",
              "      <td>0.163885</td>\n",
              "      <td>0.011949</td>\n",
              "      <td>0.008981</td>\n",
              "      <td>0.009704</td>\n",
              "      <td>0.100626</td>\n",
              "      <td>0.055083</td>\n",
              "      <td>0.108689</td>\n",
              "      <td>0.138153</td>\n",
              "      <td>...</td>\n",
              "      <td>0.297788</td>\n",
              "      <td>0.192568</td>\n",
              "      <td>0.447776</td>\n",
              "      <td>0.387497</td>\n",
              "      <td>0.864543</td>\n",
              "      <td>0.388921</td>\n",
              "      <td>0.703376</td>\n",
              "      <td>0.703376</td>\n",
              "      <td>0.594802</td>\n",
              "      <td>0</td>\n",
              "    </tr>\n",
              "    <tr>\n",
              "      <th>1</th>\n",
              "      <td>0.000000</td>\n",
              "      <td>0.000000</td>\n",
              "      <td>0.000000</td>\n",
              "      <td>0.004061</td>\n",
              "      <td>NaN</td>\n",
              "      <td>0.000000</td>\n",
              "      <td>0.000000</td>\n",
              "      <td>NaN</td>\n",
              "      <td>0.000000</td>\n",
              "      <td>NaN</td>\n",
              "      <td>...</td>\n",
              "      <td>NaN</td>\n",
              "      <td>NaN</td>\n",
              "      <td>NaN</td>\n",
              "      <td>NaN</td>\n",
              "      <td>NaN</td>\n",
              "      <td>NaN</td>\n",
              "      <td>NaN</td>\n",
              "      <td>NaN</td>\n",
              "      <td>0.000000</td>\n",
              "      <td>0</td>\n",
              "    </tr>\n",
              "    <tr>\n",
              "      <th>2</th>\n",
              "      <td>0.017167</td>\n",
              "      <td>0.033422</td>\n",
              "      <td>0.056790</td>\n",
              "      <td>0.012730</td>\n",
              "      <td>0.011417</td>\n",
              "      <td>0.012110</td>\n",
              "      <td>0.117941</td>\n",
              "      <td>0.050079</td>\n",
              "      <td>0.111677</td>\n",
              "      <td>0.134749</td>\n",
              "      <td>...</td>\n",
              "      <td>0.268293</td>\n",
              "      <td>0.256614</td>\n",
              "      <td>0.408195</td>\n",
              "      <td>0.370717</td>\n",
              "      <td>0.668614</td>\n",
              "      <td>0.432614</td>\n",
              "      <td>0.661672</td>\n",
              "      <td>0.661672</td>\n",
              "      <td>0.445675</td>\n",
              "      <td>0</td>\n",
              "    </tr>\n",
              "    <tr>\n",
              "      <th>3</th>\n",
              "      <td>0.000000</td>\n",
              "      <td>0.000000</td>\n",
              "      <td>0.000000</td>\n",
              "      <td>0.004061</td>\n",
              "      <td>NaN</td>\n",
              "      <td>0.000000</td>\n",
              "      <td>0.000000</td>\n",
              "      <td>NaN</td>\n",
              "      <td>0.000000</td>\n",
              "      <td>NaN</td>\n",
              "      <td>...</td>\n",
              "      <td>NaN</td>\n",
              "      <td>NaN</td>\n",
              "      <td>NaN</td>\n",
              "      <td>NaN</td>\n",
              "      <td>NaN</td>\n",
              "      <td>NaN</td>\n",
              "      <td>NaN</td>\n",
              "      <td>NaN</td>\n",
              "      <td>0.000000</td>\n",
              "      <td>0</td>\n",
              "    </tr>\n",
              "    <tr>\n",
              "      <th>4</th>\n",
              "      <td>0.027897</td>\n",
              "      <td>0.029412</td>\n",
              "      <td>0.052948</td>\n",
              "      <td>0.007591</td>\n",
              "      <td>0.006916</td>\n",
              "      <td>0.007650</td>\n",
              "      <td>0.124694</td>\n",
              "      <td>0.104946</td>\n",
              "      <td>0.139152</td>\n",
              "      <td>0.152819</td>\n",
              "      <td>...</td>\n",
              "      <td>0.295022</td>\n",
              "      <td>0.265957</td>\n",
              "      <td>0.475238</td>\n",
              "      <td>0.440411</td>\n",
              "      <td>0.724853</td>\n",
              "      <td>0.410302</td>\n",
              "      <td>0.667496</td>\n",
              "      <td>0.667496</td>\n",
              "      <td>0.441176</td>\n",
              "      <td>0</td>\n",
              "    </tr>\n",
              "    <tr>\n",
              "      <th>...</th>\n",
              "      <td>...</td>\n",
              "      <td>...</td>\n",
              "      <td>...</td>\n",
              "      <td>...</td>\n",
              "      <td>...</td>\n",
              "      <td>...</td>\n",
              "      <td>...</td>\n",
              "      <td>...</td>\n",
              "      <td>...</td>\n",
              "      <td>...</td>\n",
              "      <td>...</td>\n",
              "      <td>...</td>\n",
              "      <td>...</td>\n",
              "      <td>...</td>\n",
              "      <td>...</td>\n",
              "      <td>...</td>\n",
              "      <td>...</td>\n",
              "      <td>...</td>\n",
              "      <td>...</td>\n",
              "      <td>...</td>\n",
              "      <td>...</td>\n",
              "    </tr>\n",
              "    <tr>\n",
              "      <th>6337</th>\n",
              "      <td>0.000000</td>\n",
              "      <td>0.000000</td>\n",
              "      <td>0.000000</td>\n",
              "      <td>0.004061</td>\n",
              "      <td>NaN</td>\n",
              "      <td>0.000000</td>\n",
              "      <td>0.000000</td>\n",
              "      <td>NaN</td>\n",
              "      <td>0.000000</td>\n",
              "      <td>NaN</td>\n",
              "      <td>...</td>\n",
              "      <td>NaN</td>\n",
              "      <td>NaN</td>\n",
              "      <td>NaN</td>\n",
              "      <td>NaN</td>\n",
              "      <td>NaN</td>\n",
              "      <td>NaN</td>\n",
              "      <td>NaN</td>\n",
              "      <td>NaN</td>\n",
              "      <td>0.000000</td>\n",
              "      <td>1</td>\n",
              "    </tr>\n",
              "    <tr>\n",
              "      <th>6338</th>\n",
              "      <td>0.111588</td>\n",
              "      <td>0.056150</td>\n",
              "      <td>0.140713</td>\n",
              "      <td>0.006780</td>\n",
              "      <td>0.005163</td>\n",
              "      <td>0.009884</td>\n",
              "      <td>0.179874</td>\n",
              "      <td>0.073824</td>\n",
              "      <td>0.132160</td>\n",
              "      <td>0.148080</td>\n",
              "      <td>...</td>\n",
              "      <td>0.278280</td>\n",
              "      <td>0.258865</td>\n",
              "      <td>0.470854</td>\n",
              "      <td>0.403559</td>\n",
              "      <td>0.822817</td>\n",
              "      <td>0.441066</td>\n",
              "      <td>0.705736</td>\n",
              "      <td>0.705736</td>\n",
              "      <td>0.531969</td>\n",
              "      <td>1</td>\n",
              "    </tr>\n",
              "    <tr>\n",
              "      <th>6339</th>\n",
              "      <td>0.000000</td>\n",
              "      <td>0.000000</td>\n",
              "      <td>0.000000</td>\n",
              "      <td>0.004061</td>\n",
              "      <td>NaN</td>\n",
              "      <td>0.000000</td>\n",
              "      <td>0.000000</td>\n",
              "      <td>NaN</td>\n",
              "      <td>0.000000</td>\n",
              "      <td>NaN</td>\n",
              "      <td>...</td>\n",
              "      <td>NaN</td>\n",
              "      <td>NaN</td>\n",
              "      <td>NaN</td>\n",
              "      <td>NaN</td>\n",
              "      <td>NaN</td>\n",
              "      <td>NaN</td>\n",
              "      <td>NaN</td>\n",
              "      <td>NaN</td>\n",
              "      <td>0.000000</td>\n",
              "      <td>1</td>\n",
              "    </tr>\n",
              "    <tr>\n",
              "      <th>6340</th>\n",
              "      <td>0.103004</td>\n",
              "      <td>0.070856</td>\n",
              "      <td>0.107576</td>\n",
              "      <td>0.009385</td>\n",
              "      <td>0.007927</td>\n",
              "      <td>0.008090</td>\n",
              "      <td>0.106855</td>\n",
              "      <td>0.049176</td>\n",
              "      <td>0.089082</td>\n",
              "      <td>0.117580</td>\n",
              "      <td>...</td>\n",
              "      <td>0.331088</td>\n",
              "      <td>0.228448</td>\n",
              "      <td>0.443200</td>\n",
              "      <td>0.354220</td>\n",
              "      <td>0.758717</td>\n",
              "      <td>0.458203</td>\n",
              "      <td>0.690942</td>\n",
              "      <td>0.690942</td>\n",
              "      <td>0.442029</td>\n",
              "      <td>1</td>\n",
              "    </tr>\n",
              "    <tr>\n",
              "      <th>6341</th>\n",
              "      <td>0.000000</td>\n",
              "      <td>0.000000</td>\n",
              "      <td>0.000000</td>\n",
              "      <td>0.004061</td>\n",
              "      <td>NaN</td>\n",
              "      <td>0.000000</td>\n",
              "      <td>0.000000</td>\n",
              "      <td>NaN</td>\n",
              "      <td>0.000000</td>\n",
              "      <td>NaN</td>\n",
              "      <td>...</td>\n",
              "      <td>NaN</td>\n",
              "      <td>NaN</td>\n",
              "      <td>NaN</td>\n",
              "      <td>NaN</td>\n",
              "      <td>NaN</td>\n",
              "      <td>NaN</td>\n",
              "      <td>NaN</td>\n",
              "      <td>NaN</td>\n",
              "      <td>0.000000</td>\n",
              "      <td>1</td>\n",
              "    </tr>\n",
              "  </tbody>\n",
              "</table>\n",
              "<p>12665 rows × 63 columns</p>\n",
              "</div>"
            ],
            "text/plain": [
              "         DESPC     DESSC     DESWC     DESPL    DESPLd    DESPLw     DESSL  \\\n",
              "0     0.066524  0.114973  0.163885  0.011949  0.008981  0.009704  0.100626   \n",
              "1     0.000000  0.000000  0.000000  0.004061       NaN  0.000000  0.000000   \n",
              "2     0.017167  0.033422  0.056790  0.012730  0.011417  0.012110  0.117941   \n",
              "3     0.000000  0.000000  0.000000  0.004061       NaN  0.000000  0.000000   \n",
              "4     0.027897  0.029412  0.052948  0.007591  0.006916  0.007650  0.124694   \n",
              "...        ...       ...       ...       ...       ...       ...       ...   \n",
              "6337  0.000000  0.000000  0.000000  0.004061       NaN  0.000000  0.000000   \n",
              "6338  0.111588  0.056150  0.140713  0.006780  0.005163  0.009884  0.179874   \n",
              "6339  0.000000  0.000000  0.000000  0.004061       NaN  0.000000  0.000000   \n",
              "6340  0.103004  0.070856  0.107576  0.009385  0.007927  0.008090  0.106855   \n",
              "6341  0.000000  0.000000  0.000000  0.004061       NaN  0.000000  0.000000   \n",
              "\n",
              "        DESSLd   DESWLsy  DESWLsyd  ...  WORD_PROPERTY_WRDHYPn  \\\n",
              "0     0.055083  0.108689  0.138153  ...               0.297788   \n",
              "1          NaN  0.000000       NaN  ...                    NaN   \n",
              "2     0.050079  0.111677  0.134749  ...               0.268293   \n",
              "3          NaN  0.000000       NaN  ...                    NaN   \n",
              "4     0.104946  0.139152  0.152819  ...               0.295022   \n",
              "...        ...       ...       ...  ...                    ...   \n",
              "6337       NaN  0.000000       NaN  ...                    NaN   \n",
              "6338  0.073824  0.132160  0.148080  ...               0.278280   \n",
              "6339       NaN  0.000000       NaN  ...                    NaN   \n",
              "6340  0.049176  0.089082  0.117580  ...               0.331088   \n",
              "6341       NaN  0.000000       NaN  ...                    NaN   \n",
              "\n",
              "      WORD_PROPERTY_WRDHYPv  WORD_PROPERTY_WRDHYPnv  WORD_PROPERTY_AOA  \\\n",
              "0                  0.192568                0.447776           0.387497   \n",
              "1                       NaN                     NaN                NaN   \n",
              "2                  0.256614                0.408195           0.370717   \n",
              "3                       NaN                     NaN                NaN   \n",
              "4                  0.265957                0.475238           0.440411   \n",
              "...                     ...                     ...                ...   \n",
              "6337                    NaN                     NaN                NaN   \n",
              "6338               0.258865                0.470854           0.403559   \n",
              "6339                    NaN                     NaN                NaN   \n",
              "6340               0.228448                0.443200           0.354220   \n",
              "6341                    NaN                     NaN                NaN   \n",
              "\n",
              "      WORD_PROPERTY_AOA_MAX  WORD_PROPERTY_CONCRETENESS  \\\n",
              "0                  0.864543                    0.388921   \n",
              "1                       NaN                         NaN   \n",
              "2                  0.668614                    0.432614   \n",
              "3                       NaN                         NaN   \n",
              "4                  0.724853                    0.410302   \n",
              "...                     ...                         ...   \n",
              "6337                    NaN                         NaN   \n",
              "6338               0.822817                    0.441066   \n",
              "6339                    NaN                         NaN   \n",
              "6340               0.758717                    0.458203   \n",
              "6341                    NaN                         NaN   \n",
              "\n",
              "      WORD_PROPERTY_PREVALENCE  WORD_PROPERTY_PREVALENCE_MIN  \\\n",
              "0                     0.703376                      0.703376   \n",
              "1                          NaN                           NaN   \n",
              "2                     0.661672                      0.661672   \n",
              "3                          NaN                           NaN   \n",
              "4                     0.667496                      0.667496   \n",
              "...                        ...                           ...   \n",
              "6337                       NaN                           NaN   \n",
              "6338                  0.705736                      0.705736   \n",
              "6339                       NaN                           NaN   \n",
              "6340                  0.690942                      0.690942   \n",
              "6341                       NaN                           NaN   \n",
              "\n",
              "      WORD_SET_INCIDENCE_C4_COMMON_WORDS  Polarity  \n",
              "0                               0.594802         0  \n",
              "1                               0.000000         0  \n",
              "2                               0.445675         0  \n",
              "3                               0.000000         0  \n",
              "4                               0.441176         0  \n",
              "...                                  ...       ...  \n",
              "6337                            0.000000         1  \n",
              "6338                            0.531969         1  \n",
              "6339                            0.000000         1  \n",
              "6340                            0.442029         1  \n",
              "6341                            0.000000         1  \n",
              "\n",
              "[12665 rows x 63 columns]"
            ]
          },
          "execution_count": 68,
          "metadata": {},
          "output_type": "execute_result"
        }
      ],
      "source": [
        "dfs = [true_and_fake, y]\n",
        "df_scaled = pd.concat(dfs, axis = 1)\n",
        "df_scaled"
      ]
    },
    {
      "cell_type": "code",
      "execution_count": 69,
      "metadata": {},
      "outputs": [
        {
          "data": {
            "text/plain": [
              "0       0\n",
              "1       0\n",
              "2       0\n",
              "3       0\n",
              "4       0\n",
              "       ..\n",
              "6337    1\n",
              "6338    1\n",
              "6339    1\n",
              "6340    1\n",
              "6341    1\n",
              "Name: Polarity, Length: 12665, dtype: int64"
            ]
          },
          "execution_count": 69,
          "metadata": {},
          "output_type": "execute_result"
        }
      ],
      "source": [
        "df_scaled[\"Polarity\"]"
      ]
    },
    {
      "cell_type": "code",
      "execution_count": 70,
      "metadata": {},
      "outputs": [
        {
          "data": {
            "text/plain": [
              "Index(['DESPC', 'DESSC', 'DESWC', 'DESPL', 'DESPLd', 'DESPLw', 'DESSL',\n",
              "       'DESSLd', 'DESWLsy', 'DESWLsyd', 'DESWLlt', 'DESWLltd', 'LDTTRc',\n",
              "       'LDTTRa', 'LDMTLD', 'LDHDD', 'SYNLE', 'SYNNP', 'SYNMEDpos', 'SYNMEDwrd',\n",
              "       'SYNMEDlem', 'SYNSTRUTa', 'SYNSTRUTt', 'RDFRE', 'READFKGL',\n",
              "       'TOKEN_ATTRIBUTE_RATIO_ALHPA', 'TOKEN_ATTRIBUTE_RATIO_DIGIT',\n",
              "       'TOKEN_ATTRIBUTE_RATIO_PUNCT', 'TOKEN_ATTRIBUTE_RATIO_URL',\n",
              "       'TOKEN_ATTRIBUTE_RATIO_EMAIL', 'WORD_SET_INCIDENCE_WRDPRP1s',\n",
              "       'WORD_SET_INCIDENCE_WRDPRP1p', 'WORD_SET_INCIDENCE_WRDPRP2',\n",
              "       'WORD_SET_INCIDENCE_WRDPRP3s', 'WORD_SET_INCIDENCE_WRDPRP3p',\n",
              "       'WORD_SET_INCIDENCE_CNCCaus', 'WORD_SET_INCIDENCE_CNCLogic',\n",
              "       'WORD_SET_INCIDENCE_CNCTemp', 'WORD_SET_INCIDENCE_CNCAdd',\n",
              "       'WORD_SET_INCIDENCE_CNCPos', 'WORD_SET_INCIDENCE_CNCNeg',\n",
              "       'WORD_PROPERTY_WRDNOUN', 'WORD_PROPERTY_WRDVERB',\n",
              "       'WORD_PROPERTY_WRDADJ', 'WORD_PROPERTY_WRDADV', 'WORD_PROPERTY_WRDFRQc',\n",
              "       'WORD_PROPERTY_WRDFRQa', 'WORD_PROPERTY_WRDFRQmc',\n",
              "       'WORD_PROPERTY_WRDFAMc', 'WORD_PROPERTY_WRDCNCc',\n",
              "       'WORD_PROPERTY_WRDIMGc', 'WORD_PROPERTY_WRDMEAc',\n",
              "       'WORD_PROPERTY_WRDPOLc', 'WORD_PROPERTY_WRDHYPn',\n",
              "       'WORD_PROPERTY_WRDHYPv', 'WORD_PROPERTY_WRDHYPnv', 'WORD_PROPERTY_AOA',\n",
              "       'WORD_PROPERTY_AOA_MAX', 'WORD_PROPERTY_CONCRETENESS',\n",
              "       'WORD_PROPERTY_PREVALENCE', 'WORD_PROPERTY_PREVALENCE_MIN',\n",
              "       'WORD_SET_INCIDENCE_C4_COMMON_WORDS', 'Polarity'],\n",
              "      dtype='object')"
            ]
          },
          "execution_count": 70,
          "metadata": {},
          "output_type": "execute_result"
        }
      ],
      "source": [
        "df_scaled.columns"
      ]
    },
    {
      "cell_type": "code",
      "execution_count": 71,
      "metadata": {},
      "outputs": [
        {
          "data": {
            "text/plain": [
              "Index(['id', 'text', 'Polarity', 'Overall_Sentiment', 'Positive_Sentiment',\n",
              "       'Negative_Sentiment', 'Neutral_Sentiment', 'Subjectivity'],\n",
              "      dtype='object')"
            ]
          },
          "execution_count": 71,
          "metadata": {},
          "output_type": "execute_result"
        }
      ],
      "source": [
        "data.columns"
      ]
    },
    {
      "cell_type": "code",
      "execution_count": 72,
      "metadata": {},
      "outputs": [],
      "source": [
        "data = data.drop(\"Polarity\", axis=1)"
      ]
    },
    {
      "cell_type": "code",
      "execution_count": 73,
      "metadata": {},
      "outputs": [],
      "source": [
        "df_scaled = df_scaled.reset_index(drop=True)\n",
        "df_scaled = pd.concat([df_scaled, data], axis =1)"
      ]
    },
    {
      "cell_type": "code",
      "execution_count": 74,
      "metadata": {},
      "outputs": [
        {
          "data": {
            "text/plain": [
              "Index(['DESPC', 'DESSC', 'DESWC', 'DESPL', 'DESPLd', 'DESPLw', 'DESSL',\n",
              "       'DESSLd', 'DESWLsy', 'DESWLsyd', 'DESWLlt', 'DESWLltd', 'LDTTRc',\n",
              "       'LDTTRa', 'LDMTLD', 'LDHDD', 'SYNLE', 'SYNNP', 'SYNMEDpos', 'SYNMEDwrd',\n",
              "       'SYNMEDlem', 'SYNSTRUTa', 'SYNSTRUTt', 'RDFRE', 'READFKGL',\n",
              "       'TOKEN_ATTRIBUTE_RATIO_ALHPA', 'TOKEN_ATTRIBUTE_RATIO_DIGIT',\n",
              "       'TOKEN_ATTRIBUTE_RATIO_PUNCT', 'TOKEN_ATTRIBUTE_RATIO_URL',\n",
              "       'TOKEN_ATTRIBUTE_RATIO_EMAIL', 'WORD_SET_INCIDENCE_WRDPRP1s',\n",
              "       'WORD_SET_INCIDENCE_WRDPRP1p', 'WORD_SET_INCIDENCE_WRDPRP2',\n",
              "       'WORD_SET_INCIDENCE_WRDPRP3s', 'WORD_SET_INCIDENCE_WRDPRP3p',\n",
              "       'WORD_SET_INCIDENCE_CNCCaus', 'WORD_SET_INCIDENCE_CNCLogic',\n",
              "       'WORD_SET_INCIDENCE_CNCTemp', 'WORD_SET_INCIDENCE_CNCAdd',\n",
              "       'WORD_SET_INCIDENCE_CNCPos', 'WORD_SET_INCIDENCE_CNCNeg',\n",
              "       'WORD_PROPERTY_WRDNOUN', 'WORD_PROPERTY_WRDVERB',\n",
              "       'WORD_PROPERTY_WRDADJ', 'WORD_PROPERTY_WRDADV', 'WORD_PROPERTY_WRDFRQc',\n",
              "       'WORD_PROPERTY_WRDFRQa', 'WORD_PROPERTY_WRDFRQmc',\n",
              "       'WORD_PROPERTY_WRDFAMc', 'WORD_PROPERTY_WRDCNCc',\n",
              "       'WORD_PROPERTY_WRDIMGc', 'WORD_PROPERTY_WRDMEAc',\n",
              "       'WORD_PROPERTY_WRDPOLc', 'WORD_PROPERTY_WRDHYPn',\n",
              "       'WORD_PROPERTY_WRDHYPv', 'WORD_PROPERTY_WRDHYPnv', 'WORD_PROPERTY_AOA',\n",
              "       'WORD_PROPERTY_AOA_MAX', 'WORD_PROPERTY_CONCRETENESS',\n",
              "       'WORD_PROPERTY_PREVALENCE', 'WORD_PROPERTY_PREVALENCE_MIN',\n",
              "       'WORD_SET_INCIDENCE_C4_COMMON_WORDS', 'Polarity', 'id', 'text',\n",
              "       'Overall_Sentiment', 'Positive_Sentiment', 'Negative_Sentiment',\n",
              "       'Neutral_Sentiment', 'Subjectivity'],\n",
              "      dtype='object')"
            ]
          },
          "execution_count": 74,
          "metadata": {},
          "output_type": "execute_result"
        }
      ],
      "source": [
        "df_scaled.columns"
      ]
    },
    {
      "cell_type": "code",
      "execution_count": 40,
      "metadata": {},
      "outputs": [],
      "source": [
        "# df_scaled = df_scaled.T.drop_duplicates().T #removing the duplicate Polarity column\n",
        "# del df_scaled[\"text\"]"
      ]
    },
    {
      "cell_type": "code",
      "execution_count": 75,
      "metadata": {},
      "outputs": [],
      "source": [
        "df_scaled.to_csv('test_data.csv')"
      ]
    }
  ],
  "metadata": {
    "colab": {
      "provenance": []
    },
    "kernelspec": {
      "display_name": "Python 3",
      "name": "python3"
    },
    "language_info": {
      "codemirror_mode": {
        "name": "ipython",
        "version": 3
      },
      "file_extension": ".py",
      "mimetype": "text/x-python",
      "name": "python",
      "nbconvert_exporter": "python",
      "pygments_lexer": "ipython3",
      "version": "3.12.0"
    }
  },
  "nbformat": 4,
  "nbformat_minor": 0
}
