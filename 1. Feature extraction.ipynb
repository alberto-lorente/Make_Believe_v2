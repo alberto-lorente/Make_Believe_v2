{
 "cells": [
  {
   "cell_type": "code",
   "execution_count": 1,
   "metadata": {},
   "outputs": [],
   "source": [
    "import pandas as pd\n",
    "import numpy as np\n",
    "import lftk\n",
    "import spacy"
   ]
  },
  {
   "cell_type": "code",
   "execution_count": 2,
   "metadata": {},
   "outputs": [
    {
     "name": "stderr",
     "output_type": "stream",
     "text": [
      "c:\\Users\\alber\\AppData\\Local\\Programs\\Python\\Python312\\Lib\\site-packages\\tqdm\\auto.py:21: TqdmWarning: IProgress not found. Please update jupyter and ipywidgets. See https://ipywidgets.readthedocs.io/en/stable/user_install.html\n",
      "  from .autonotebook import tqdm as notebook_tqdm\n"
     ]
    }
   ],
   "source": [
    "nlp = spacy.load(\"en_core_web_sm\")"
   ]
  },
  {
   "cell_type": "code",
   "execution_count": 3,
   "metadata": {},
   "outputs": [],
   "source": [
    "data = pd.read_csv(r\"Datasets\\Fake News Dataset\\fake_news_preprocess.csv\")"
   ]
  },
  {
   "cell_type": "code",
   "execution_count": 4,
   "metadata": {},
   "outputs": [
    {
     "data": {
      "text/html": [
       "<div>\n",
       "<style scoped>\n",
       "    .dataframe tbody tr th:only-of-type {\n",
       "        vertical-align: middle;\n",
       "    }\n",
       "\n",
       "    .dataframe tbody tr th {\n",
       "        vertical-align: top;\n",
       "    }\n",
       "\n",
       "    .dataframe thead th {\n",
       "        text-align: right;\n",
       "    }\n",
       "</style>\n",
       "<table border=\"1\" class=\"dataframe\">\n",
       "  <thead>\n",
       "    <tr style=\"text-align: right;\">\n",
       "      <th></th>\n",
       "      <th>id</th>\n",
       "      <th>text</th>\n",
       "      <th>Polarity</th>\n",
       "    </tr>\n",
       "  </thead>\n",
       "  <tbody>\n",
       "    <tr>\n",
       "      <th>0</th>\n",
       "      <td>8476</td>\n",
       "      <td>You Can Smell Hillary’s FearDaniel Greenfield,...</td>\n",
       "      <td>0</td>\n",
       "    </tr>\n",
       "    <tr>\n",
       "      <th>1</th>\n",
       "      <td>10294</td>\n",
       "      <td>Watch The Exact Moment Paul Ryan Committed Pol...</td>\n",
       "      <td>0</td>\n",
       "    </tr>\n",
       "    <tr>\n",
       "      <th>2</th>\n",
       "      <td>3608</td>\n",
       "      <td>Kerry to go to Paris in gesture of sympathyU.S...</td>\n",
       "      <td>1</td>\n",
       "    </tr>\n",
       "    <tr>\n",
       "      <th>3</th>\n",
       "      <td>10142</td>\n",
       "      <td>Bernie supporters on Twitter erupt in anger ag...</td>\n",
       "      <td>0</td>\n",
       "    </tr>\n",
       "    <tr>\n",
       "      <th>4</th>\n",
       "      <td>875</td>\n",
       "      <td>The Battle of New York: Why This Primary Matte...</td>\n",
       "      <td>1</td>\n",
       "    </tr>\n",
       "    <tr>\n",
       "      <th>...</th>\n",
       "      <td>...</td>\n",
       "      <td>...</td>\n",
       "      <td>...</td>\n",
       "    </tr>\n",
       "    <tr>\n",
       "      <th>6330</th>\n",
       "      <td>4490</td>\n",
       "      <td>State Department says it can't find emails fro...</td>\n",
       "      <td>1</td>\n",
       "    </tr>\n",
       "    <tr>\n",
       "      <th>6331</th>\n",
       "      <td>8062</td>\n",
       "      <td>The ‘P’ in PBS Should Stand for ‘Plutocratic’ ...</td>\n",
       "      <td>0</td>\n",
       "    </tr>\n",
       "    <tr>\n",
       "      <th>6332</th>\n",
       "      <td>8622</td>\n",
       "      <td>Anti-Trump Protesters Are Tools of the Oligarc...</td>\n",
       "      <td>0</td>\n",
       "    </tr>\n",
       "    <tr>\n",
       "      <th>6333</th>\n",
       "      <td>4021</td>\n",
       "      <td>In Ethiopia, Obama seeks progress on peace, se...</td>\n",
       "      <td>1</td>\n",
       "    </tr>\n",
       "    <tr>\n",
       "      <th>6334</th>\n",
       "      <td>4330</td>\n",
       "      <td>Jeb Bush Is Suddenly Attacking Trump. Here's W...</td>\n",
       "      <td>1</td>\n",
       "    </tr>\n",
       "  </tbody>\n",
       "</table>\n",
       "<p>6335 rows × 3 columns</p>\n",
       "</div>"
      ],
      "text/plain": [
       "         id                                               text  Polarity\n",
       "0      8476  You Can Smell Hillary’s FearDaniel Greenfield,...         0\n",
       "1     10294  Watch The Exact Moment Paul Ryan Committed Pol...         0\n",
       "2      3608  Kerry to go to Paris in gesture of sympathyU.S...         1\n",
       "3     10142  Bernie supporters on Twitter erupt in anger ag...         0\n",
       "4       875  The Battle of New York: Why This Primary Matte...         1\n",
       "...     ...                                                ...       ...\n",
       "6330   4490  State Department says it can't find emails fro...         1\n",
       "6331   8062  The ‘P’ in PBS Should Stand for ‘Plutocratic’ ...         0\n",
       "6332   8622  Anti-Trump Protesters Are Tools of the Oligarc...         0\n",
       "6333   4021  In Ethiopia, Obama seeks progress on peace, se...         1\n",
       "6334   4330  Jeb Bush Is Suddenly Attacking Trump. Here's W...         1\n",
       "\n",
       "[6335 rows x 3 columns]"
      ]
     },
     "execution_count": 4,
     "metadata": {},
     "output_type": "execute_result"
    }
   ],
   "source": [
    "data"
   ]
  },
  {
   "cell_type": "markdown",
   "metadata": {},
   "source": [
    "## LFTK Features"
   ]
  },
  {
   "cell_type": "code",
   "execution_count": 5,
   "metadata": {},
   "outputs": [],
   "source": [
    "features_info_df = lftk.search_features(return_format=\"pandas\")"
   ]
  },
  {
   "cell_type": "code",
   "execution_count": 6,
   "metadata": {},
   "outputs": [
    {
     "data": {
      "text/plain": [
       "220"
      ]
     },
     "execution_count": 6,
     "metadata": {},
     "output_type": "execute_result"
    }
   ],
   "source": [
    "len(features_info_df)"
   ]
  },
  {
   "cell_type": "code",
   "execution_count": 7,
   "metadata": {},
   "outputs": [],
   "source": [
    "# features_info_df.loc[:50]"
   ]
  },
  {
   "cell_type": "code",
   "execution_count": 8,
   "metadata": {},
   "outputs": [],
   "source": [
    "extra_features_exclude = [\"average_subtlex_us_zipf_of_words_per_word\", \"average_subtlex_us_zipf_of_words_per_sentence\"]"
   ]
  },
  {
   "cell_type": "code",
   "execution_count": 9,
   "metadata": {},
   "outputs": [
    {
     "name": "stdout",
     "output_type": "stream",
     "text": [
      "91\n"
     ]
    }
   ],
   "source": [
    "unique_pos_features = [feature[\"name\"] for feature in lftk.search_features(family=\"partofspeech\")]\n",
    "avg_ents_features = [feature[\"name\"] for feature in lftk.search_features(family=\"avgentity\")]\n",
    "ents_features = [feature[\"name\"] for feature in lftk.search_features(family=\"entity\")]\n",
    "\n",
    "\n",
    "features_not_include = ents_features + avg_ents_features + unique_pos_features\n",
    "print(len(features_not_include))"
   ]
  },
  {
   "cell_type": "code",
   "execution_count": 10,
   "metadata": {},
   "outputs": [],
   "source": [
    "# features_not_include"
   ]
  },
  {
   "cell_type": "code",
   "execution_count": 11,
   "metadata": {},
   "outputs": [],
   "source": [
    "features_dictionary = lftk.search_features(return_format=\"list_dict\")"
   ]
  },
  {
   "cell_type": "code",
   "execution_count": 12,
   "metadata": {},
   "outputs": [
    {
     "data": {
      "text/plain": [
       "dict_keys(['key', 'name', 'formulation', 'domain', 'family', 'language'])"
      ]
     },
     "execution_count": 12,
     "metadata": {},
     "output_type": "execute_result"
    }
   ],
   "source": [
    "features_dictionary[0].keys()"
   ]
  },
  {
   "cell_type": "code",
   "execution_count": 13,
   "metadata": {},
   "outputs": [],
   "source": [
    "features_to_extract = [feature[\"key\"] for feature in features_dictionary if feature[\"name\"] not in features_not_include]"
   ]
  },
  {
   "cell_type": "code",
   "execution_count": 14,
   "metadata": {},
   "outputs": [
    {
     "data": {
      "text/plain": [
       "128"
      ]
     },
     "execution_count": 14,
     "metadata": {},
     "output_type": "execute_result"
    }
   ],
   "source": [
    "len(features_to_extract)"
   ]
  },
  {
   "cell_type": "code",
   "execution_count": 15,
   "metadata": {},
   "outputs": [
    {
     "data": {
      "text/html": [
       "<div>\n",
       "<style scoped>\n",
       "    .dataframe tbody tr th:only-of-type {\n",
       "        vertical-align: middle;\n",
       "    }\n",
       "\n",
       "    .dataframe tbody tr th {\n",
       "        vertical-align: top;\n",
       "    }\n",
       "\n",
       "    .dataframe thead th {\n",
       "        text-align: right;\n",
       "    }\n",
       "</style>\n",
       "<table border=\"1\" class=\"dataframe\">\n",
       "  <thead>\n",
       "    <tr style=\"text-align: right;\">\n",
       "      <th></th>\n",
       "      <th>key</th>\n",
       "      <th>name</th>\n",
       "      <th>formulation</th>\n",
       "      <th>domain</th>\n",
       "      <th>family</th>\n",
       "      <th>language</th>\n",
       "    </tr>\n",
       "  </thead>\n",
       "  <tbody>\n",
       "    <tr>\n",
       "      <th>0</th>\n",
       "      <td>t_word</td>\n",
       "      <td>total_number_of_words</td>\n",
       "      <td>foundation</td>\n",
       "      <td>surface</td>\n",
       "      <td>wordsent</td>\n",
       "      <td>general</td>\n",
       "    </tr>\n",
       "    <tr>\n",
       "      <th>1</th>\n",
       "      <td>t_stopword</td>\n",
       "      <td>total_number_of_stop_words</td>\n",
       "      <td>foundation</td>\n",
       "      <td>surface</td>\n",
       "      <td>wordsent</td>\n",
       "      <td>general</td>\n",
       "    </tr>\n",
       "    <tr>\n",
       "      <th>3</th>\n",
       "      <td>t_syll</td>\n",
       "      <td>total_number_of_syllables</td>\n",
       "      <td>foundation</td>\n",
       "      <td>surface</td>\n",
       "      <td>wordsent</td>\n",
       "      <td>en</td>\n",
       "    </tr>\n",
       "    <tr>\n",
       "      <th>4</th>\n",
       "      <td>t_syll2</td>\n",
       "      <td>total_number_of_words_more_than_two_syllables</td>\n",
       "      <td>foundation</td>\n",
       "      <td>surface</td>\n",
       "      <td>wordsent</td>\n",
       "      <td>en</td>\n",
       "    </tr>\n",
       "    <tr>\n",
       "      <th>5</th>\n",
       "      <td>t_syll3</td>\n",
       "      <td>total_number_of_words_more_than_three_syllables</td>\n",
       "      <td>foundation</td>\n",
       "      <td>surface</td>\n",
       "      <td>wordsent</td>\n",
       "      <td>en</td>\n",
       "    </tr>\n",
       "    <tr>\n",
       "      <th>...</th>\n",
       "      <td>...</td>\n",
       "      <td>...</td>\n",
       "      <td>...</td>\n",
       "      <td>...</td>\n",
       "      <td>...</td>\n",
       "      <td>...</td>\n",
       "    </tr>\n",
       "    <tr>\n",
       "      <th>215</th>\n",
       "      <td>cole</td>\n",
       "      <td>coleman_liau_index</td>\n",
       "      <td>derivation</td>\n",
       "      <td>surface</td>\n",
       "      <td>readformula</td>\n",
       "      <td>en</td>\n",
       "    </tr>\n",
       "    <tr>\n",
       "      <th>216</th>\n",
       "      <td>auto</td>\n",
       "      <td>automated_readability_index</td>\n",
       "      <td>derivation</td>\n",
       "      <td>surface</td>\n",
       "      <td>readformula</td>\n",
       "      <td>en</td>\n",
       "    </tr>\n",
       "    <tr>\n",
       "      <th>217</th>\n",
       "      <td>rt_fast</td>\n",
       "      <td>reading_time_for_fast_readers</td>\n",
       "      <td>derivation</td>\n",
       "      <td>surface</td>\n",
       "      <td>readtimeformula</td>\n",
       "      <td>en</td>\n",
       "    </tr>\n",
       "    <tr>\n",
       "      <th>218</th>\n",
       "      <td>rt_average</td>\n",
       "      <td>reading_time_for_average_readers</td>\n",
       "      <td>derivation</td>\n",
       "      <td>surface</td>\n",
       "      <td>readtimeformula</td>\n",
       "      <td>en</td>\n",
       "    </tr>\n",
       "    <tr>\n",
       "      <th>219</th>\n",
       "      <td>rt_slow</td>\n",
       "      <td>reading_time_for_slow_readers</td>\n",
       "      <td>derivation</td>\n",
       "      <td>surface</td>\n",
       "      <td>readtimeformula</td>\n",
       "      <td>en</td>\n",
       "    </tr>\n",
       "  </tbody>\n",
       "</table>\n",
       "<p>128 rows × 6 columns</p>\n",
       "</div>"
      ],
      "text/plain": [
       "            key                                             name formulation  \\\n",
       "0        t_word                            total_number_of_words  foundation   \n",
       "1    t_stopword                       total_number_of_stop_words  foundation   \n",
       "3        t_syll                        total_number_of_syllables  foundation   \n",
       "4       t_syll2    total_number_of_words_more_than_two_syllables  foundation   \n",
       "5       t_syll3  total_number_of_words_more_than_three_syllables  foundation   \n",
       "..          ...                                              ...         ...   \n",
       "215        cole                               coleman_liau_index  derivation   \n",
       "216        auto                      automated_readability_index  derivation   \n",
       "217     rt_fast                    reading_time_for_fast_readers  derivation   \n",
       "218  rt_average                 reading_time_for_average_readers  derivation   \n",
       "219     rt_slow                    reading_time_for_slow_readers  derivation   \n",
       "\n",
       "      domain           family language  \n",
       "0    surface         wordsent  general  \n",
       "1    surface         wordsent  general  \n",
       "3    surface         wordsent       en  \n",
       "4    surface         wordsent       en  \n",
       "5    surface         wordsent       en  \n",
       "..       ...              ...      ...  \n",
       "215  surface      readformula       en  \n",
       "216  surface      readformula       en  \n",
       "217  surface  readtimeformula       en  \n",
       "218  surface  readtimeformula       en  \n",
       "219  surface  readtimeformula       en  \n",
       "\n",
       "[128 rows x 6 columns]"
      ]
     },
     "execution_count": 15,
     "metadata": {},
     "output_type": "execute_result"
    }
   ],
   "source": [
    "features_info_df[features_info_df[\"key\"].isin(features_to_extract)]"
   ]
  },
  {
   "cell_type": "markdown",
   "metadata": {},
   "source": [
    "# Extracting Features for a Random Sample"
   ]
  },
  {
   "cell_type": "code",
   "execution_count": 16,
   "metadata": {},
   "outputs": [
    {
     "data": {
      "text/plain": [
       "Index(['id', 'text', 'Polarity'], dtype='object')"
      ]
     },
     "execution_count": 16,
     "metadata": {},
     "output_type": "execute_result"
    }
   ],
   "source": [
    "data.columns"
   ]
  },
  {
   "cell_type": "code",
   "execution_count": 17,
   "metadata": {},
   "outputs": [],
   "source": [
    "random_sample_data_true = data[data[\"Polarity\"] == 1].sample(n=200, random_state=20)\n",
    "random_sample_data_fake = data[data[\"Polarity\"] == 0].sample(n=200, random_state=20)"
   ]
  },
  {
   "cell_type": "code",
   "execution_count": 18,
   "metadata": {},
   "outputs": [],
   "source": [
    "random_sample = random_sample_data_true[\"text\"].to_list() + random_sample_data_fake[\"text\"].to_list() \n",
    "y_random_sample = random_sample_data_true[\"Polarity\"].to_list() + random_sample_data_fake[\"Polarity\"].to_list() "
   ]
  },
  {
   "cell_type": "code",
   "execution_count": 19,
   "metadata": {},
   "outputs": [],
   "source": [
    "docs_random_sample = [nlp(news) for news in random_sample]"
   ]
  },
  {
   "cell_type": "code",
   "execution_count": 20,
   "metadata": {},
   "outputs": [],
   "source": [
    "LFTK = lftk.Extractor(docs = docs_random_sample)\n",
    "LFTK.customize(stop_words = True, round_decimal = 2)"
   ]
  },
  {
   "cell_type": "code",
   "execution_count": 21,
   "metadata": {},
   "outputs": [],
   "source": [
    "random_sample_feature_transform = LFTK.extract(features=features_to_extract)"
   ]
  },
  {
   "cell_type": "code",
   "execution_count": 22,
   "metadata": {},
   "outputs": [],
   "source": [
    "random_sample_features_df = pd.DataFrame(random_sample_feature_transform)"
   ]
  },
  {
   "cell_type": "code",
   "execution_count": 23,
   "metadata": {},
   "outputs": [
    {
     "data": {
      "text/html": [
       "<div>\n",
       "<style scoped>\n",
       "    .dataframe tbody tr th:only-of-type {\n",
       "        vertical-align: middle;\n",
       "    }\n",
       "\n",
       "    .dataframe tbody tr th {\n",
       "        vertical-align: top;\n",
       "    }\n",
       "\n",
       "    .dataframe thead th {\n",
       "        text-align: right;\n",
       "    }\n",
       "</style>\n",
       "<table border=\"1\" class=\"dataframe\">\n",
       "  <thead>\n",
       "    <tr style=\"text-align: right;\">\n",
       "      <th></th>\n",
       "      <th>t_word</th>\n",
       "      <th>t_stopword</th>\n",
       "      <th>t_syll</th>\n",
       "      <th>t_syll2</th>\n",
       "      <th>t_syll3</th>\n",
       "      <th>t_uword</th>\n",
       "      <th>t_sent</th>\n",
       "      <th>t_char</th>\n",
       "      <th>a_word_ps</th>\n",
       "      <th>a_char_ps</th>\n",
       "      <th>...</th>\n",
       "      <th>a_space_ps</th>\n",
       "      <th>fkre</th>\n",
       "      <th>fkgl</th>\n",
       "      <th>fogi</th>\n",
       "      <th>smog</th>\n",
       "      <th>cole</th>\n",
       "      <th>auto</th>\n",
       "      <th>rt_fast</th>\n",
       "      <th>rt_average</th>\n",
       "      <th>rt_slow</th>\n",
       "    </tr>\n",
       "  </thead>\n",
       "  <tbody>\n",
       "    <tr>\n",
       "      <th>0</th>\n",
       "      <td>22</td>\n",
       "      <td>9</td>\n",
       "      <td>25</td>\n",
       "      <td>1</td>\n",
       "      <td>1</td>\n",
       "      <td>22</td>\n",
       "      <td>2</td>\n",
       "      <td>92</td>\n",
       "      <td>11.00</td>\n",
       "      <td>46.00</td>\n",
       "      <td>...</td>\n",
       "      <td>0.00</td>\n",
       "      <td>99.53</td>\n",
       "      <td>2.11</td>\n",
       "      <td>6.22</td>\n",
       "      <td>4.04</td>\n",
       "      <td>6.10</td>\n",
       "      <td>3.77</td>\n",
       "      <td>0.07</td>\n",
       "      <td>0.09</td>\n",
       "      <td>0.13</td>\n",
       "    </tr>\n",
       "    <tr>\n",
       "      <th>1</th>\n",
       "      <td>331</td>\n",
       "      <td>119</td>\n",
       "      <td>476</td>\n",
       "      <td>49</td>\n",
       "      <td>19</td>\n",
       "      <td>172</td>\n",
       "      <td>13</td>\n",
       "      <td>1589</td>\n",
       "      <td>25.46</td>\n",
       "      <td>122.23</td>\n",
       "      <td>...</td>\n",
       "      <td>1.31</td>\n",
       "      <td>59.33</td>\n",
       "      <td>11.31</td>\n",
       "      <td>16.11</td>\n",
       "      <td>6.91</td>\n",
       "      <td>11.27</td>\n",
       "      <td>13.91</td>\n",
       "      <td>1.10</td>\n",
       "      <td>1.38</td>\n",
       "      <td>1.89</td>\n",
       "    </tr>\n",
       "    <tr>\n",
       "      <th>2</th>\n",
       "      <td>401</td>\n",
       "      <td>193</td>\n",
       "      <td>612</td>\n",
       "      <td>65</td>\n",
       "      <td>27</td>\n",
       "      <td>193</td>\n",
       "      <td>20</td>\n",
       "      <td>2012</td>\n",
       "      <td>20.05</td>\n",
       "      <td>100.60</td>\n",
       "      <td>...</td>\n",
       "      <td>0.40</td>\n",
       "      <td>57.37</td>\n",
       "      <td>10.24</td>\n",
       "      <td>14.50</td>\n",
       "      <td>6.64</td>\n",
       "      <td>12.23</td>\n",
       "      <td>12.23</td>\n",
       "      <td>1.34</td>\n",
       "      <td>1.67</td>\n",
       "      <td>2.29</td>\n",
       "    </tr>\n",
       "    <tr>\n",
       "      <th>3</th>\n",
       "      <td>769</td>\n",
       "      <td>336</td>\n",
       "      <td>1169</td>\n",
       "      <td>133</td>\n",
       "      <td>52</td>\n",
       "      <td>392</td>\n",
       "      <td>35</td>\n",
       "      <td>3683</td>\n",
       "      <td>21.97</td>\n",
       "      <td>105.23</td>\n",
       "      <td>...</td>\n",
       "      <td>0.74</td>\n",
       "      <td>55.93</td>\n",
       "      <td>10.92</td>\n",
       "      <td>15.71</td>\n",
       "      <td>6.96</td>\n",
       "      <td>11.01</td>\n",
       "      <td>12.11</td>\n",
       "      <td>2.56</td>\n",
       "      <td>3.20</td>\n",
       "      <td>4.39</td>\n",
       "    </tr>\n",
       "    <tr>\n",
       "      <th>4</th>\n",
       "      <td>1898</td>\n",
       "      <td>950</td>\n",
       "      <td>2650</td>\n",
       "      <td>263</td>\n",
       "      <td>88</td>\n",
       "      <td>654</td>\n",
       "      <td>83</td>\n",
       "      <td>8672</td>\n",
       "      <td>22.87</td>\n",
       "      <td>104.48</td>\n",
       "      <td>...</td>\n",
       "      <td>0.48</td>\n",
       "      <td>65.51</td>\n",
       "      <td>9.80</td>\n",
       "      <td>14.69</td>\n",
       "      <td>5.88</td>\n",
       "      <td>9.77</td>\n",
       "      <td>11.52</td>\n",
       "      <td>6.33</td>\n",
       "      <td>7.91</td>\n",
       "      <td>10.85</td>\n",
       "    </tr>\n",
       "  </tbody>\n",
       "</table>\n",
       "<p>5 rows × 128 columns</p>\n",
       "</div>"
      ],
      "text/plain": [
       "   t_word  t_stopword  t_syll  t_syll2  t_syll3  t_uword  t_sent  t_char  \\\n",
       "0      22           9      25        1        1       22       2      92   \n",
       "1     331         119     476       49       19      172      13    1589   \n",
       "2     401         193     612       65       27      193      20    2012   \n",
       "3     769         336    1169      133       52      392      35    3683   \n",
       "4    1898         950    2650      263       88      654      83    8672   \n",
       "\n",
       "   a_word_ps  a_char_ps  ...  a_space_ps   fkre   fkgl   fogi  smog   cole  \\\n",
       "0      11.00      46.00  ...        0.00  99.53   2.11   6.22  4.04   6.10   \n",
       "1      25.46     122.23  ...        1.31  59.33  11.31  16.11  6.91  11.27   \n",
       "2      20.05     100.60  ...        0.40  57.37  10.24  14.50  6.64  12.23   \n",
       "3      21.97     105.23  ...        0.74  55.93  10.92  15.71  6.96  11.01   \n",
       "4      22.87     104.48  ...        0.48  65.51   9.80  14.69  5.88   9.77   \n",
       "\n",
       "    auto  rt_fast  rt_average  rt_slow  \n",
       "0   3.77     0.07        0.09     0.13  \n",
       "1  13.91     1.10        1.38     1.89  \n",
       "2  12.23     1.34        1.67     2.29  \n",
       "3  12.11     2.56        3.20     4.39  \n",
       "4  11.52     6.33        7.91    10.85  \n",
       "\n",
       "[5 rows x 128 columns]"
      ]
     },
     "execution_count": 23,
     "metadata": {},
     "output_type": "execute_result"
    }
   ],
   "source": [
    "random_sample_features_df.head()"
   ]
  },
  {
   "cell_type": "code",
   "execution_count": 24,
   "metadata": {},
   "outputs": [],
   "source": [
    "features_mapping = {feature[\"key\"]:feature[\"name\"] for feature in features_dictionary if feature[\"key\"] in features_to_extract}"
   ]
  },
  {
   "cell_type": "code",
   "execution_count": 25,
   "metadata": {},
   "outputs": [],
   "source": [
    "# features_mapping"
   ]
  },
  {
   "cell_type": "code",
   "execution_count": 26,
   "metadata": {},
   "outputs": [],
   "source": [
    "random_sample_features_df.columns = features_mapping.values()"
   ]
  },
  {
   "cell_type": "code",
   "execution_count": 27,
   "metadata": {},
   "outputs": [],
   "source": [
    "random_sample_features_df.to_csv(r\"Datasets/Processed Data/random_sample_features_df.csv\", index=False)"
   ]
  },
  {
   "cell_type": "code",
   "execution_count": 28,
   "metadata": {},
   "outputs": [],
   "source": [
    "random_sample_features_df = pd.read_csv(r\"Datasets/Processed Data/random_sample_features_df.csv\")"
   ]
  },
  {
   "cell_type": "code",
   "execution_count": 29,
   "metadata": {},
   "outputs": [
    {
     "data": {
      "text/html": [
       "<div>\n",
       "<style scoped>\n",
       "    .dataframe tbody tr th:only-of-type {\n",
       "        vertical-align: middle;\n",
       "    }\n",
       "\n",
       "    .dataframe tbody tr th {\n",
       "        vertical-align: top;\n",
       "    }\n",
       "\n",
       "    .dataframe thead th {\n",
       "        text-align: right;\n",
       "    }\n",
       "</style>\n",
       "<table border=\"1\" class=\"dataframe\">\n",
       "  <thead>\n",
       "    <tr style=\"text-align: right;\">\n",
       "      <th></th>\n",
       "      <th>t_word</th>\n",
       "      <th>t_stopword</th>\n",
       "      <th>t_syll</th>\n",
       "      <th>t_syll2</th>\n",
       "      <th>t_syll3</th>\n",
       "      <th>t_uword</th>\n",
       "      <th>t_sent</th>\n",
       "      <th>t_char</th>\n",
       "      <th>a_word_ps</th>\n",
       "      <th>a_char_ps</th>\n",
       "      <th>...</th>\n",
       "      <th>fkre</th>\n",
       "      <th>fkgl</th>\n",
       "      <th>fogi</th>\n",
       "      <th>smog</th>\n",
       "      <th>cole</th>\n",
       "      <th>auto</th>\n",
       "      <th>rt_fast</th>\n",
       "      <th>rt_average</th>\n",
       "      <th>rt_slow</th>\n",
       "      <th>polarity</th>\n",
       "    </tr>\n",
       "  </thead>\n",
       "  <tbody>\n",
       "    <tr>\n",
       "      <th>0</th>\n",
       "      <td>22</td>\n",
       "      <td>9</td>\n",
       "      <td>25</td>\n",
       "      <td>1</td>\n",
       "      <td>1</td>\n",
       "      <td>22</td>\n",
       "      <td>2</td>\n",
       "      <td>92</td>\n",
       "      <td>11.00</td>\n",
       "      <td>46.00</td>\n",
       "      <td>...</td>\n",
       "      <td>99.53</td>\n",
       "      <td>2.11</td>\n",
       "      <td>6.22</td>\n",
       "      <td>4.04</td>\n",
       "      <td>6.10</td>\n",
       "      <td>3.77</td>\n",
       "      <td>0.07</td>\n",
       "      <td>0.09</td>\n",
       "      <td>0.13</td>\n",
       "      <td>1</td>\n",
       "    </tr>\n",
       "    <tr>\n",
       "      <th>1</th>\n",
       "      <td>331</td>\n",
       "      <td>119</td>\n",
       "      <td>476</td>\n",
       "      <td>49</td>\n",
       "      <td>19</td>\n",
       "      <td>172</td>\n",
       "      <td>13</td>\n",
       "      <td>1589</td>\n",
       "      <td>25.46</td>\n",
       "      <td>122.23</td>\n",
       "      <td>...</td>\n",
       "      <td>59.33</td>\n",
       "      <td>11.31</td>\n",
       "      <td>16.11</td>\n",
       "      <td>6.91</td>\n",
       "      <td>11.27</td>\n",
       "      <td>13.91</td>\n",
       "      <td>1.10</td>\n",
       "      <td>1.38</td>\n",
       "      <td>1.89</td>\n",
       "      <td>1</td>\n",
       "    </tr>\n",
       "    <tr>\n",
       "      <th>2</th>\n",
       "      <td>401</td>\n",
       "      <td>193</td>\n",
       "      <td>612</td>\n",
       "      <td>65</td>\n",
       "      <td>27</td>\n",
       "      <td>193</td>\n",
       "      <td>20</td>\n",
       "      <td>2012</td>\n",
       "      <td>20.05</td>\n",
       "      <td>100.60</td>\n",
       "      <td>...</td>\n",
       "      <td>57.37</td>\n",
       "      <td>10.24</td>\n",
       "      <td>14.50</td>\n",
       "      <td>6.64</td>\n",
       "      <td>12.23</td>\n",
       "      <td>12.23</td>\n",
       "      <td>1.34</td>\n",
       "      <td>1.67</td>\n",
       "      <td>2.29</td>\n",
       "      <td>1</td>\n",
       "    </tr>\n",
       "    <tr>\n",
       "      <th>3</th>\n",
       "      <td>769</td>\n",
       "      <td>336</td>\n",
       "      <td>1169</td>\n",
       "      <td>133</td>\n",
       "      <td>52</td>\n",
       "      <td>392</td>\n",
       "      <td>35</td>\n",
       "      <td>3683</td>\n",
       "      <td>21.97</td>\n",
       "      <td>105.23</td>\n",
       "      <td>...</td>\n",
       "      <td>55.93</td>\n",
       "      <td>10.92</td>\n",
       "      <td>15.71</td>\n",
       "      <td>6.96</td>\n",
       "      <td>11.01</td>\n",
       "      <td>12.11</td>\n",
       "      <td>2.56</td>\n",
       "      <td>3.20</td>\n",
       "      <td>4.39</td>\n",
       "      <td>1</td>\n",
       "    </tr>\n",
       "    <tr>\n",
       "      <th>4</th>\n",
       "      <td>1898</td>\n",
       "      <td>950</td>\n",
       "      <td>2650</td>\n",
       "      <td>263</td>\n",
       "      <td>88</td>\n",
       "      <td>654</td>\n",
       "      <td>83</td>\n",
       "      <td>8672</td>\n",
       "      <td>22.87</td>\n",
       "      <td>104.48</td>\n",
       "      <td>...</td>\n",
       "      <td>65.51</td>\n",
       "      <td>9.80</td>\n",
       "      <td>14.69</td>\n",
       "      <td>5.88</td>\n",
       "      <td>9.77</td>\n",
       "      <td>11.52</td>\n",
       "      <td>6.33</td>\n",
       "      <td>7.91</td>\n",
       "      <td>10.85</td>\n",
       "      <td>1</td>\n",
       "    </tr>\n",
       "  </tbody>\n",
       "</table>\n",
       "<p>5 rows × 129 columns</p>\n",
       "</div>"
      ],
      "text/plain": [
       "   t_word  t_stopword  t_syll  t_syll2  t_syll3  t_uword  t_sent  t_char  \\\n",
       "0      22           9      25        1        1       22       2      92   \n",
       "1     331         119     476       49       19      172      13    1589   \n",
       "2     401         193     612       65       27      193      20    2012   \n",
       "3     769         336    1169      133       52      392      35    3683   \n",
       "4    1898         950    2650      263       88      654      83    8672   \n",
       "\n",
       "   a_word_ps  a_char_ps  ...   fkre   fkgl   fogi  smog   cole   auto  \\\n",
       "0      11.00      46.00  ...  99.53   2.11   6.22  4.04   6.10   3.77   \n",
       "1      25.46     122.23  ...  59.33  11.31  16.11  6.91  11.27  13.91   \n",
       "2      20.05     100.60  ...  57.37  10.24  14.50  6.64  12.23  12.23   \n",
       "3      21.97     105.23  ...  55.93  10.92  15.71  6.96  11.01  12.11   \n",
       "4      22.87     104.48  ...  65.51   9.80  14.69  5.88   9.77  11.52   \n",
       "\n",
       "   rt_fast  rt_average  rt_slow  polarity  \n",
       "0     0.07        0.09     0.13         1  \n",
       "1     1.10        1.38     1.89         1  \n",
       "2     1.34        1.67     2.29         1  \n",
       "3     2.56        3.20     4.39         1  \n",
       "4     6.33        7.91    10.85         1  \n",
       "\n",
       "[5 rows x 129 columns]"
      ]
     },
     "execution_count": 29,
     "metadata": {},
     "output_type": "execute_result"
    }
   ],
   "source": [
    "random_sample_features_df.columns = features_mapping.keys()\n",
    "y_df = pd.DataFrame(y_random_sample, columns=[\"polarity\"])\n",
    "random_sample_features_df = pd.concat([random_sample_features_df, y_df], axis=1)\n",
    "\n",
    "random_sample_features_df.head()"
   ]
  },
  {
   "cell_type": "markdown",
   "metadata": {},
   "source": [
    "### Correlation"
   ]
  },
  {
   "cell_type": "code",
   "execution_count": 30,
   "metadata": {},
   "outputs": [
    {
     "data": {
      "text/html": [
       "<div>\n",
       "<style scoped>\n",
       "    .dataframe tbody tr th:only-of-type {\n",
       "        vertical-align: middle;\n",
       "    }\n",
       "\n",
       "    .dataframe tbody tr th {\n",
       "        vertical-align: top;\n",
       "    }\n",
       "\n",
       "    .dataframe thead th {\n",
       "        text-align: right;\n",
       "    }\n",
       "</style>\n",
       "<table border=\"1\" class=\"dataframe\">\n",
       "  <thead>\n",
       "    <tr style=\"text-align: right;\">\n",
       "      <th></th>\n",
       "      <th>t_word</th>\n",
       "      <th>t_stopword</th>\n",
       "      <th>t_syll</th>\n",
       "      <th>t_syll2</th>\n",
       "      <th>t_syll3</th>\n",
       "      <th>t_uword</th>\n",
       "      <th>t_sent</th>\n",
       "      <th>t_char</th>\n",
       "      <th>a_word_ps</th>\n",
       "      <th>a_char_ps</th>\n",
       "      <th>...</th>\n",
       "      <th>fkre</th>\n",
       "      <th>fkgl</th>\n",
       "      <th>fogi</th>\n",
       "      <th>smog</th>\n",
       "      <th>cole</th>\n",
       "      <th>auto</th>\n",
       "      <th>rt_fast</th>\n",
       "      <th>rt_average</th>\n",
       "      <th>rt_slow</th>\n",
       "      <th>polarity</th>\n",
       "    </tr>\n",
       "  </thead>\n",
       "  <tbody>\n",
       "    <tr>\n",
       "      <th>t_word</th>\n",
       "      <td>1.000000</td>\n",
       "      <td>0.991017</td>\n",
       "      <td>0.997010</td>\n",
       "      <td>0.971803</td>\n",
       "      <td>0.924479</td>\n",
       "      <td>0.962652</td>\n",
       "      <td>0.972136</td>\n",
       "      <td>0.997944</td>\n",
       "      <td>0.025432</td>\n",
       "      <td>-0.011065</td>\n",
       "      <td>...</td>\n",
       "      <td>0.059305</td>\n",
       "      <td>-0.025391</td>\n",
       "      <td>-0.022225</td>\n",
       "      <td>0.038345</td>\n",
       "      <td>-0.082812</td>\n",
       "      <td>-0.029983</td>\n",
       "      <td>0.999999</td>\n",
       "      <td>1.000000</td>\n",
       "      <td>1.000000</td>\n",
       "      <td>0.113017</td>\n",
       "    </tr>\n",
       "    <tr>\n",
       "      <th>t_stopword</th>\n",
       "      <td>0.991017</td>\n",
       "      <td>1.000000</td>\n",
       "      <td>0.984020</td>\n",
       "      <td>0.950866</td>\n",
       "      <td>0.906714</td>\n",
       "      <td>0.948347</td>\n",
       "      <td>0.972202</td>\n",
       "      <td>0.984626</td>\n",
       "      <td>0.009460</td>\n",
       "      <td>-0.034070</td>\n",
       "      <td>...</td>\n",
       "      <td>0.087669</td>\n",
       "      <td>-0.050796</td>\n",
       "      <td>-0.047717</td>\n",
       "      <td>0.021695</td>\n",
       "      <td>-0.120221</td>\n",
       "      <td>-0.058315</td>\n",
       "      <td>0.991014</td>\n",
       "      <td>0.991011</td>\n",
       "      <td>0.991021</td>\n",
       "      <td>0.110509</td>\n",
       "    </tr>\n",
       "    <tr>\n",
       "      <th>t_syll</th>\n",
       "      <td>0.997010</td>\n",
       "      <td>0.984020</td>\n",
       "      <td>1.000000</td>\n",
       "      <td>0.985685</td>\n",
       "      <td>0.944122</td>\n",
       "      <td>0.965638</td>\n",
       "      <td>0.961583</td>\n",
       "      <td>0.999563</td>\n",
       "      <td>0.040626</td>\n",
       "      <td>0.012467</td>\n",
       "      <td>...</td>\n",
       "      <td>0.018297</td>\n",
       "      <td>0.007644</td>\n",
       "      <td>0.010154</td>\n",
       "      <td>0.072566</td>\n",
       "      <td>-0.040651</td>\n",
       "      <td>-0.000043</td>\n",
       "      <td>0.997013</td>\n",
       "      <td>0.997005</td>\n",
       "      <td>0.997003</td>\n",
       "      <td>0.103568</td>\n",
       "    </tr>\n",
       "    <tr>\n",
       "      <th>t_syll2</th>\n",
       "      <td>0.971803</td>\n",
       "      <td>0.950866</td>\n",
       "      <td>0.985685</td>\n",
       "      <td>1.000000</td>\n",
       "      <td>0.962489</td>\n",
       "      <td>0.952758</td>\n",
       "      <td>0.922042</td>\n",
       "      <td>0.982907</td>\n",
       "      <td>0.072196</td>\n",
       "      <td>0.059361</td>\n",
       "      <td>...</td>\n",
       "      <td>-0.059365</td>\n",
       "      <td>0.071532</td>\n",
       "      <td>0.086774</td>\n",
       "      <td>0.140345</td>\n",
       "      <td>0.038354</td>\n",
       "      <td>0.058492</td>\n",
       "      <td>0.971820</td>\n",
       "      <td>0.971790</td>\n",
       "      <td>0.971785</td>\n",
       "      <td>0.095877</td>\n",
       "    </tr>\n",
       "    <tr>\n",
       "      <th>t_syll3</th>\n",
       "      <td>0.924479</td>\n",
       "      <td>0.906714</td>\n",
       "      <td>0.944122</td>\n",
       "      <td>0.962489</td>\n",
       "      <td>1.000000</td>\n",
       "      <td>0.927774</td>\n",
       "      <td>0.869757</td>\n",
       "      <td>0.940027</td>\n",
       "      <td>0.073847</td>\n",
       "      <td>0.069605</td>\n",
       "      <td>...</td>\n",
       "      <td>-0.090729</td>\n",
       "      <td>0.092109</td>\n",
       "      <td>0.096173</td>\n",
       "      <td>0.241223</td>\n",
       "      <td>0.071605</td>\n",
       "      <td>0.075069</td>\n",
       "      <td>0.924485</td>\n",
       "      <td>0.924457</td>\n",
       "      <td>0.924452</td>\n",
       "      <td>0.115461</td>\n",
       "    </tr>\n",
       "    <tr>\n",
       "      <th>...</th>\n",
       "      <td>...</td>\n",
       "      <td>...</td>\n",
       "      <td>...</td>\n",
       "      <td>...</td>\n",
       "      <td>...</td>\n",
       "      <td>...</td>\n",
       "      <td>...</td>\n",
       "      <td>...</td>\n",
       "      <td>...</td>\n",
       "      <td>...</td>\n",
       "      <td>...</td>\n",
       "      <td>...</td>\n",
       "      <td>...</td>\n",
       "      <td>...</td>\n",
       "      <td>...</td>\n",
       "      <td>...</td>\n",
       "      <td>...</td>\n",
       "      <td>...</td>\n",
       "      <td>...</td>\n",
       "      <td>...</td>\n",
       "      <td>...</td>\n",
       "    </tr>\n",
       "    <tr>\n",
       "      <th>auto</th>\n",
       "      <td>-0.029983</td>\n",
       "      <td>-0.058315</td>\n",
       "      <td>-0.000043</td>\n",
       "      <td>0.058492</td>\n",
       "      <td>0.075069</td>\n",
       "      <td>-0.016207</td>\n",
       "      <td>-0.170557</td>\n",
       "      <td>-0.004036</td>\n",
       "      <td>0.916105</td>\n",
       "      <td>0.978471</td>\n",
       "      <td>...</td>\n",
       "      <td>-0.862625</td>\n",
       "      <td>0.976391</td>\n",
       "      <td>0.942605</td>\n",
       "      <td>0.768755</td>\n",
       "      <td>0.757093</td>\n",
       "      <td>1.000000</td>\n",
       "      <td>-0.029952</td>\n",
       "      <td>-0.030031</td>\n",
       "      <td>-0.030036</td>\n",
       "      <td>0.065270</td>\n",
       "    </tr>\n",
       "    <tr>\n",
       "      <th>rt_fast</th>\n",
       "      <td>0.999999</td>\n",
       "      <td>0.991014</td>\n",
       "      <td>0.997013</td>\n",
       "      <td>0.971820</td>\n",
       "      <td>0.924485</td>\n",
       "      <td>0.962644</td>\n",
       "      <td>0.972154</td>\n",
       "      <td>0.997946</td>\n",
       "      <td>0.025416</td>\n",
       "      <td>-0.011054</td>\n",
       "      <td>...</td>\n",
       "      <td>0.059213</td>\n",
       "      <td>-0.025341</td>\n",
       "      <td>-0.022162</td>\n",
       "      <td>0.038421</td>\n",
       "      <td>-0.082712</td>\n",
       "      <td>-0.029952</td>\n",
       "      <td>1.000000</td>\n",
       "      <td>0.999999</td>\n",
       "      <td>0.999999</td>\n",
       "      <td>0.112974</td>\n",
       "    </tr>\n",
       "    <tr>\n",
       "      <th>rt_average</th>\n",
       "      <td>1.000000</td>\n",
       "      <td>0.991011</td>\n",
       "      <td>0.997005</td>\n",
       "      <td>0.971790</td>\n",
       "      <td>0.924457</td>\n",
       "      <td>0.962665</td>\n",
       "      <td>0.972149</td>\n",
       "      <td>0.997940</td>\n",
       "      <td>0.025386</td>\n",
       "      <td>-0.011113</td>\n",
       "      <td>...</td>\n",
       "      <td>0.059348</td>\n",
       "      <td>-0.025440</td>\n",
       "      <td>-0.022271</td>\n",
       "      <td>0.038324</td>\n",
       "      <td>-0.082851</td>\n",
       "      <td>-0.030031</td>\n",
       "      <td>0.999999</td>\n",
       "      <td>1.000000</td>\n",
       "      <td>0.999999</td>\n",
       "      <td>0.112956</td>\n",
       "    </tr>\n",
       "    <tr>\n",
       "      <th>rt_slow</th>\n",
       "      <td>1.000000</td>\n",
       "      <td>0.991021</td>\n",
       "      <td>0.997003</td>\n",
       "      <td>0.971785</td>\n",
       "      <td>0.924452</td>\n",
       "      <td>0.962651</td>\n",
       "      <td>0.972154</td>\n",
       "      <td>0.997940</td>\n",
       "      <td>0.025396</td>\n",
       "      <td>-0.011113</td>\n",
       "      <td>...</td>\n",
       "      <td>0.059354</td>\n",
       "      <td>-0.025440</td>\n",
       "      <td>-0.022289</td>\n",
       "      <td>0.038306</td>\n",
       "      <td>-0.082871</td>\n",
       "      <td>-0.030036</td>\n",
       "      <td>0.999999</td>\n",
       "      <td>0.999999</td>\n",
       "      <td>1.000000</td>\n",
       "      <td>0.112993</td>\n",
       "    </tr>\n",
       "    <tr>\n",
       "      <th>polarity</th>\n",
       "      <td>0.113017</td>\n",
       "      <td>0.110509</td>\n",
       "      <td>0.103568</td>\n",
       "      <td>0.095877</td>\n",
       "      <td>0.115461</td>\n",
       "      <td>0.116484</td>\n",
       "      <td>0.084913</td>\n",
       "      <td>0.107621</td>\n",
       "      <td>0.092048</td>\n",
       "      <td>0.068734</td>\n",
       "      <td>...</td>\n",
       "      <td>-0.026532</td>\n",
       "      <td>0.060170</td>\n",
       "      <td>0.075194</td>\n",
       "      <td>0.188198</td>\n",
       "      <td>0.008676</td>\n",
       "      <td>0.065270</td>\n",
       "      <td>0.112974</td>\n",
       "      <td>0.112956</td>\n",
       "      <td>0.112993</td>\n",
       "      <td>1.000000</td>\n",
       "    </tr>\n",
       "  </tbody>\n",
       "</table>\n",
       "<p>129 rows × 129 columns</p>\n",
       "</div>"
      ],
      "text/plain": [
       "              t_word  t_stopword    t_syll   t_syll2   t_syll3   t_uword  \\\n",
       "t_word      1.000000    0.991017  0.997010  0.971803  0.924479  0.962652   \n",
       "t_stopword  0.991017    1.000000  0.984020  0.950866  0.906714  0.948347   \n",
       "t_syll      0.997010    0.984020  1.000000  0.985685  0.944122  0.965638   \n",
       "t_syll2     0.971803    0.950866  0.985685  1.000000  0.962489  0.952758   \n",
       "t_syll3     0.924479    0.906714  0.944122  0.962489  1.000000  0.927774   \n",
       "...              ...         ...       ...       ...       ...       ...   \n",
       "auto       -0.029983   -0.058315 -0.000043  0.058492  0.075069 -0.016207   \n",
       "rt_fast     0.999999    0.991014  0.997013  0.971820  0.924485  0.962644   \n",
       "rt_average  1.000000    0.991011  0.997005  0.971790  0.924457  0.962665   \n",
       "rt_slow     1.000000    0.991021  0.997003  0.971785  0.924452  0.962651   \n",
       "polarity    0.113017    0.110509  0.103568  0.095877  0.115461  0.116484   \n",
       "\n",
       "              t_sent    t_char  a_word_ps  a_char_ps  ...      fkre      fkgl  \\\n",
       "t_word      0.972136  0.997944   0.025432  -0.011065  ...  0.059305 -0.025391   \n",
       "t_stopword  0.972202  0.984626   0.009460  -0.034070  ...  0.087669 -0.050796   \n",
       "t_syll      0.961583  0.999563   0.040626   0.012467  ...  0.018297  0.007644   \n",
       "t_syll2     0.922042  0.982907   0.072196   0.059361  ... -0.059365  0.071532   \n",
       "t_syll3     0.869757  0.940027   0.073847   0.069605  ... -0.090729  0.092109   \n",
       "...              ...       ...        ...        ...  ...       ...       ...   \n",
       "auto       -0.170557 -0.004036   0.916105   0.978471  ... -0.862625  0.976391   \n",
       "rt_fast     0.972154  0.997946   0.025416  -0.011054  ...  0.059213 -0.025341   \n",
       "rt_average  0.972149  0.997940   0.025386  -0.011113  ...  0.059348 -0.025440   \n",
       "rt_slow     0.972154  0.997940   0.025396  -0.011113  ...  0.059354 -0.025440   \n",
       "polarity    0.084913  0.107621   0.092048   0.068734  ... -0.026532  0.060170   \n",
       "\n",
       "                fogi      smog      cole      auto   rt_fast  rt_average  \\\n",
       "t_word     -0.022225  0.038345 -0.082812 -0.029983  0.999999    1.000000   \n",
       "t_stopword -0.047717  0.021695 -0.120221 -0.058315  0.991014    0.991011   \n",
       "t_syll      0.010154  0.072566 -0.040651 -0.000043  0.997013    0.997005   \n",
       "t_syll2     0.086774  0.140345  0.038354  0.058492  0.971820    0.971790   \n",
       "t_syll3     0.096173  0.241223  0.071605  0.075069  0.924485    0.924457   \n",
       "...              ...       ...       ...       ...       ...         ...   \n",
       "auto        0.942605  0.768755  0.757093  1.000000 -0.029952   -0.030031   \n",
       "rt_fast    -0.022162  0.038421 -0.082712 -0.029952  1.000000    0.999999   \n",
       "rt_average -0.022271  0.038324 -0.082851 -0.030031  0.999999    1.000000   \n",
       "rt_slow    -0.022289  0.038306 -0.082871 -0.030036  0.999999    0.999999   \n",
       "polarity    0.075194  0.188198  0.008676  0.065270  0.112974    0.112956   \n",
       "\n",
       "             rt_slow  polarity  \n",
       "t_word      1.000000  0.113017  \n",
       "t_stopword  0.991021  0.110509  \n",
       "t_syll      0.997003  0.103568  \n",
       "t_syll2     0.971785  0.095877  \n",
       "t_syll3     0.924452  0.115461  \n",
       "...              ...       ...  \n",
       "auto       -0.030036  0.065270  \n",
       "rt_fast     0.999999  0.112974  \n",
       "rt_average  0.999999  0.112956  \n",
       "rt_slow     1.000000  0.112993  \n",
       "polarity    0.112993  1.000000  \n",
       "\n",
       "[129 rows x 129 columns]"
      ]
     },
     "execution_count": 30,
     "metadata": {},
     "output_type": "execute_result"
    }
   ],
   "source": [
    "corr_df = random_sample_features_df.corr()\n",
    "corr_df"
   ]
  },
  {
   "cell_type": "code",
   "execution_count": 31,
   "metadata": {},
   "outputs": [
    {
     "data": {
      "image/png": "[encoded data removed]",
      "text/plain": [
       "<Figure size 2500x2500 with 1 Axes>"
      ]
     },
     "metadata": {},
     "output_type": "display_data"
    }
   ],
   "source": [
    "import matplotlib.pyplot as plt\n",
    "import seaborn as sns\n",
    "\n",
    "mask = np.triu(np.ones_like(corr_df, dtype=bool))\n",
    "\n",
    "plt.figure(figsize=(25, 25))\n",
    "\n",
    "\n",
    "cmap = sns.cubehelix_palette(as_cmap=True)\n",
    "sns.heatmap(corr_df, mask = mask, linewidths=0.004, square=True, cmap = cmap, cbar = False)\n",
    "\n",
    "\n",
    "plt.title(\"Correlation of the Initial Features\")\n",
    "plt.show()"
   ]
  },
  {
   "cell_type": "markdown",
   "metadata": {},
   "source": [
    "### Checking Colinearity - Variance Inflation Factor"
   ]
  },
  {
   "cell_type": "code",
   "execution_count": 32,
   "metadata": {},
   "outputs": [],
   "source": [
    "from statsmodels.stats.outliers_influence import variance_inflation_factor\n",
    "\n",
    "def compute_vif(features, df):\n",
    "    # print(features)\n",
    "    X = df[features]\n",
    "    X['intercept'] = 1\n",
    "    \n",
    "    vif = pd.DataFrame()\n",
    "    vif[\"Variable\"] = X.columns\n",
    "    vif[\"VIF\"] = [variance_inflation_factor(X.values, i) for i in range(X.shape[1])]\n",
    "    vif = vif[vif['Variable']!='intercept']\n",
    "    \n",
    "    max_value = vif[\"VIF\"].max()\n",
    "    \n",
    "    if max_value > 5:\n",
    "        feature_max_value = list(vif[vif[\"VIF\"] == max_value][\"Variable\"])[0]\n",
    "        print(\"Eliminating \", feature_max_value)\n",
    "        features.remove(feature_max_value)\n",
    "        # print(features)\n",
    "        print(\"Number of remaining features\", len(features))\n",
    "        vif = compute_vif(features, df)\n",
    "\n",
    "    return vif"
   ]
  },
  {
   "cell_type": "code",
   "execution_count": 33,
   "metadata": {},
   "outputs": [
    {
     "name": "stderr",
     "output_type": "stream",
     "text": [
      "c:\\Users\\alber\\AppData\\Local\\Programs\\Python\\Python312\\Lib\\site-packages\\statsmodels\\stats\\outliers_influence.py:198: RuntimeWarning: divide by zero encountered in scalar divide\n",
      "  vif = 1. / (1. - r_squared_i)\n"
     ]
    },
    {
     "name": "stdout",
     "output_type": "stream",
     "text": [
      "Eliminating  simp_ttr\n",
      "Number of remaining features 127\n"
     ]
    },
    {
     "name": "stderr",
     "output_type": "stream",
     "text": [
      "C:\\Users\\alber\\AppData\\Local\\Temp\\ipykernel_16320\\1571046673.py:6: SettingWithCopyWarning: \n",
      "A value is trying to be set on a copy of a slice from a DataFrame.\n",
      "Try using .loc[row_indexer,col_indexer] = value instead\n",
      "\n",
      "See the caveats in the documentation: https://pandas.pydata.org/pandas-docs/stable/user_guide/indexing.html#returning-a-view-versus-a-copy\n",
      "  X['intercept'] = 1\n",
      "c:\\Users\\alber\\AppData\\Local\\Programs\\Python\\Python312\\Lib\\site-packages\\statsmodels\\stats\\outliers_influence.py:198: RuntimeWarning: divide by zero encountered in scalar divide\n",
      "  vif = 1. / (1. - r_squared_i)\n"
     ]
    },
    {
     "name": "stdout",
     "output_type": "stream",
     "text": [
      "Eliminating  root_ttr\n",
      "Number of remaining features 126\n"
     ]
    },
    {
     "name": "stderr",
     "output_type": "stream",
     "text": [
      "C:\\Users\\alber\\AppData\\Local\\Temp\\ipykernel_16320\\1571046673.py:6: SettingWithCopyWarning: \n",
      "A value is trying to be set on a copy of a slice from a DataFrame.\n",
      "Try using .loc[row_indexer,col_indexer] = value instead\n",
      "\n",
      "See the caveats in the documentation: https://pandas.pydata.org/pandas-docs/stable/user_guide/indexing.html#returning-a-view-versus-a-copy\n",
      "  X['intercept'] = 1\n",
      "c:\\Users\\alber\\AppData\\Local\\Programs\\Python\\Python312\\Lib\\site-packages\\statsmodels\\stats\\outliers_influence.py:198: RuntimeWarning: divide by zero encountered in scalar divide\n",
      "  vif = 1. / (1. - r_squared_i)\n"
     ]
    },
    {
     "name": "stdout",
     "output_type": "stream",
     "text": [
      "Eliminating  corr_ttr\n",
      "Number of remaining features 125\n"
     ]
    },
    {
     "name": "stderr",
     "output_type": "stream",
     "text": [
      "C:\\Users\\alber\\AppData\\Local\\Temp\\ipykernel_16320\\1571046673.py:6: SettingWithCopyWarning: \n",
      "A value is trying to be set on a copy of a slice from a DataFrame.\n",
      "Try using .loc[row_indexer,col_indexer] = value instead\n",
      "\n",
      "See the caveats in the documentation: https://pandas.pydata.org/pandas-docs/stable/user_guide/indexing.html#returning-a-view-versus-a-copy\n",
      "  X['intercept'] = 1\n",
      "c:\\Users\\alber\\AppData\\Local\\Programs\\Python\\Python312\\Lib\\site-packages\\statsmodels\\stats\\outliers_influence.py:198: RuntimeWarning: divide by zero encountered in scalar divide\n",
      "  vif = 1. / (1. - r_squared_i)\n"
     ]
    },
    {
     "name": "stdout",
     "output_type": "stream",
     "text": [
      "Eliminating  bilog_ttr\n",
      "Number of remaining features 124\n"
     ]
    },
    {
     "name": "stderr",
     "output_type": "stream",
     "text": [
      "C:\\Users\\alber\\AppData\\Local\\Temp\\ipykernel_16320\\1571046673.py:6: SettingWithCopyWarning: \n",
      "A value is trying to be set on a copy of a slice from a DataFrame.\n",
      "Try using .loc[row_indexer,col_indexer] = value instead\n",
      "\n",
      "See the caveats in the documentation: https://pandas.pydata.org/pandas-docs/stable/user_guide/indexing.html#returning-a-view-versus-a-copy\n",
      "  X['intercept'] = 1\n",
      "c:\\Users\\alber\\AppData\\Local\\Programs\\Python\\Python312\\Lib\\site-packages\\statsmodels\\stats\\outliers_influence.py:198: RuntimeWarning: divide by zero encountered in scalar divide\n",
      "  vif = 1. / (1. - r_squared_i)\n"
     ]
    },
    {
     "name": "stdout",
     "output_type": "stream",
     "text": [
      "Eliminating  uber_ttr\n",
      "Number of remaining features 123\n"
     ]
    },
    {
     "name": "stderr",
     "output_type": "stream",
     "text": [
      "C:\\Users\\alber\\AppData\\Local\\Temp\\ipykernel_16320\\1571046673.py:6: SettingWithCopyWarning: \n",
      "A value is trying to be set on a copy of a slice from a DataFrame.\n",
      "Try using .loc[row_indexer,col_indexer] = value instead\n",
      "\n",
      "See the caveats in the documentation: https://pandas.pydata.org/pandas-docs/stable/user_guide/indexing.html#returning-a-view-versus-a-copy\n",
      "  X['intercept'] = 1\n"
     ]
    },
    {
     "name": "stdout",
     "output_type": "stream",
     "text": [
      "Eliminating  t_word\n",
      "Number of remaining features 122\n"
     ]
    },
    {
     "name": "stderr",
     "output_type": "stream",
     "text": [
      "C:\\Users\\alber\\AppData\\Local\\Temp\\ipykernel_16320\\1571046673.py:6: SettingWithCopyWarning: \n",
      "A value is trying to be set on a copy of a slice from a DataFrame.\n",
      "Try using .loc[row_indexer,col_indexer] = value instead\n",
      "\n",
      "See the caveats in the documentation: https://pandas.pydata.org/pandas-docs/stable/user_guide/indexing.html#returning-a-view-versus-a-copy\n",
      "  X['intercept'] = 1\n"
     ]
    },
    {
     "name": "stdout",
     "output_type": "stream",
     "text": [
      "Eliminating  fkgl\n",
      "Number of remaining features 121\n"
     ]
    },
    {
     "name": "stderr",
     "output_type": "stream",
     "text": [
      "C:\\Users\\alber\\AppData\\Local\\Temp\\ipykernel_16320\\1571046673.py:6: SettingWithCopyWarning: \n",
      "A value is trying to be set on a copy of a slice from a DataFrame.\n",
      "Try using .loc[row_indexer,col_indexer] = value instead\n",
      "\n",
      "See the caveats in the documentation: https://pandas.pydata.org/pandas-docs/stable/user_guide/indexing.html#returning-a-view-versus-a-copy\n",
      "  X['intercept'] = 1\n"
     ]
    },
    {
     "name": "stdout",
     "output_type": "stream",
     "text": [
      "Eliminating  rt_slow\n",
      "Number of remaining features 120\n"
     ]
    },
    {
     "name": "stderr",
     "output_type": "stream",
     "text": [
      "C:\\Users\\alber\\AppData\\Local\\Temp\\ipykernel_16320\\1571046673.py:6: SettingWithCopyWarning: \n",
      "A value is trying to be set on a copy of a slice from a DataFrame.\n",
      "Try using .loc[row_indexer,col_indexer] = value instead\n",
      "\n",
      "See the caveats in the documentation: https://pandas.pydata.org/pandas-docs/stable/user_guide/indexing.html#returning-a-view-versus-a-copy\n",
      "  X['intercept'] = 1\n"
     ]
    },
    {
     "name": "stdout",
     "output_type": "stream",
     "text": [
      "Eliminating  rt_fast\n",
      "Number of remaining features 119\n"
     ]
    },
    {
     "name": "stderr",
     "output_type": "stream",
     "text": [
      "C:\\Users\\alber\\AppData\\Local\\Temp\\ipykernel_16320\\1571046673.py:6: SettingWithCopyWarning: \n",
      "A value is trying to be set on a copy of a slice from a DataFrame.\n",
      "Try using .loc[row_indexer,col_indexer] = value instead\n",
      "\n",
      "See the caveats in the documentation: https://pandas.pydata.org/pandas-docs/stable/user_guide/indexing.html#returning-a-view-versus-a-copy\n",
      "  X['intercept'] = 1\n"
     ]
    },
    {
     "name": "stdout",
     "output_type": "stream",
     "text": [
      "Eliminating  corr_ttr_no_lem\n",
      "Number of remaining features 118\n"
     ]
    },
    {
     "name": "stderr",
     "output_type": "stream",
     "text": [
      "C:\\Users\\alber\\AppData\\Local\\Temp\\ipykernel_16320\\1571046673.py:6: SettingWithCopyWarning: \n",
      "A value is trying to be set on a copy of a slice from a DataFrame.\n",
      "Try using .loc[row_indexer,col_indexer] = value instead\n",
      "\n",
      "See the caveats in the documentation: https://pandas.pydata.org/pandas-docs/stable/user_guide/indexing.html#returning-a-view-versus-a-copy\n",
      "  X['intercept'] = 1\n"
     ]
    },
    {
     "name": "stdout",
     "output_type": "stream",
     "text": [
      "Eliminating  corr_noun_var\n",
      "Number of remaining features 117\n"
     ]
    },
    {
     "name": "stderr",
     "output_type": "stream",
     "text": [
      "C:\\Users\\alber\\AppData\\Local\\Temp\\ipykernel_16320\\1571046673.py:6: SettingWithCopyWarning: \n",
      "A value is trying to be set on a copy of a slice from a DataFrame.\n",
      "Try using .loc[row_indexer,col_indexer] = value instead\n",
      "\n",
      "See the caveats in the documentation: https://pandas.pydata.org/pandas-docs/stable/user_guide/indexing.html#returning-a-view-versus-a-copy\n",
      "  X['intercept'] = 1\n"
     ]
    },
    {
     "name": "stdout",
     "output_type": "stream",
     "text": [
      "Eliminating  corr_verb_var\n",
      "Number of remaining features 116\n"
     ]
    },
    {
     "name": "stderr",
     "output_type": "stream",
     "text": [
      "C:\\Users\\alber\\AppData\\Local\\Temp\\ipykernel_16320\\1571046673.py:6: SettingWithCopyWarning: \n",
      "A value is trying to be set on a copy of a slice from a DataFrame.\n",
      "Try using .loc[row_indexer,col_indexer] = value instead\n",
      "\n",
      "See the caveats in the documentation: https://pandas.pydata.org/pandas-docs/stable/user_guide/indexing.html#returning-a-view-versus-a-copy\n",
      "  X['intercept'] = 1\n"
     ]
    },
    {
     "name": "stdout",
     "output_type": "stream",
     "text": [
      "Eliminating  root_adj_var\n",
      "Number of remaining features 115\n"
     ]
    },
    {
     "name": "stderr",
     "output_type": "stream",
     "text": [
      "C:\\Users\\alber\\AppData\\Local\\Temp\\ipykernel_16320\\1571046673.py:6: SettingWithCopyWarning: \n",
      "A value is trying to be set on a copy of a slice from a DataFrame.\n",
      "Try using .loc[row_indexer,col_indexer] = value instead\n",
      "\n",
      "See the caveats in the documentation: https://pandas.pydata.org/pandas-docs/stable/user_guide/indexing.html#returning-a-view-versus-a-copy\n",
      "  X['intercept'] = 1\n"
     ]
    },
    {
     "name": "stdout",
     "output_type": "stream",
     "text": [
      "Eliminating  corr_propn_var\n",
      "Number of remaining features 114\n"
     ]
    },
    {
     "name": "stderr",
     "output_type": "stream",
     "text": [
      "C:\\Users\\alber\\AppData\\Local\\Temp\\ipykernel_16320\\1571046673.py:6: SettingWithCopyWarning: \n",
      "A value is trying to be set on a copy of a slice from a DataFrame.\n",
      "Try using .loc[row_indexer,col_indexer] = value instead\n",
      "\n",
      "See the caveats in the documentation: https://pandas.pydata.org/pandas-docs/stable/user_guide/indexing.html#returning-a-view-versus-a-copy\n",
      "  X['intercept'] = 1\n"
     ]
    },
    {
     "name": "stdout",
     "output_type": "stream",
     "text": [
      "Eliminating  corr_intj_var\n",
      "Number of remaining features 113\n"
     ]
    },
    {
     "name": "stderr",
     "output_type": "stream",
     "text": [
      "C:\\Users\\alber\\AppData\\Local\\Temp\\ipykernel_16320\\1571046673.py:6: SettingWithCopyWarning: \n",
      "A value is trying to be set on a copy of a slice from a DataFrame.\n",
      "Try using .loc[row_indexer,col_indexer] = value instead\n",
      "\n",
      "See the caveats in the documentation: https://pandas.pydata.org/pandas-docs/stable/user_guide/indexing.html#returning-a-view-versus-a-copy\n",
      "  X['intercept'] = 1\n"
     ]
    },
    {
     "name": "stdout",
     "output_type": "stream",
     "text": [
      "Eliminating  corr_adv_var\n",
      "Number of remaining features 112\n"
     ]
    },
    {
     "name": "stderr",
     "output_type": "stream",
     "text": [
      "C:\\Users\\alber\\AppData\\Local\\Temp\\ipykernel_16320\\1571046673.py:6: SettingWithCopyWarning: \n",
      "A value is trying to be set on a copy of a slice from a DataFrame.\n",
      "Try using .loc[row_indexer,col_indexer] = value instead\n",
      "\n",
      "See the caveats in the documentation: https://pandas.pydata.org/pandas-docs/stable/user_guide/indexing.html#returning-a-view-versus-a-copy\n",
      "  X['intercept'] = 1\n"
     ]
    },
    {
     "name": "stdout",
     "output_type": "stream",
     "text": [
      "Eliminating  auto\n",
      "Number of remaining features 111\n"
     ]
    },
    {
     "name": "stderr",
     "output_type": "stream",
     "text": [
      "C:\\Users\\alber\\AppData\\Local\\Temp\\ipykernel_16320\\1571046673.py:6: SettingWithCopyWarning: \n",
      "A value is trying to be set on a copy of a slice from a DataFrame.\n",
      "Try using .loc[row_indexer,col_indexer] = value instead\n",
      "\n",
      "See the caveats in the documentation: https://pandas.pydata.org/pandas-docs/stable/user_guide/indexing.html#returning-a-view-versus-a-copy\n",
      "  X['intercept'] = 1\n"
     ]
    },
    {
     "name": "stdout",
     "output_type": "stream",
     "text": [
      "Eliminating  corr_sym_var\n",
      "Number of remaining features 110\n"
     ]
    },
    {
     "name": "stderr",
     "output_type": "stream",
     "text": [
      "C:\\Users\\alber\\AppData\\Local\\Temp\\ipykernel_16320\\1571046673.py:6: SettingWithCopyWarning: \n",
      "A value is trying to be set on a copy of a slice from a DataFrame.\n",
      "Try using .loc[row_indexer,col_indexer] = value instead\n",
      "\n",
      "See the caveats in the documentation: https://pandas.pydata.org/pandas-docs/stable/user_guide/indexing.html#returning-a-view-versus-a-copy\n",
      "  X['intercept'] = 1\n"
     ]
    },
    {
     "name": "stdout",
     "output_type": "stream",
     "text": [
      "Eliminating  corr_num_var\n",
      "Number of remaining features 109\n"
     ]
    },
    {
     "name": "stderr",
     "output_type": "stream",
     "text": [
      "C:\\Users\\alber\\AppData\\Local\\Temp\\ipykernel_16320\\1571046673.py:6: SettingWithCopyWarning: \n",
      "A value is trying to be set on a copy of a slice from a DataFrame.\n",
      "Try using .loc[row_indexer,col_indexer] = value instead\n",
      "\n",
      "See the caveats in the documentation: https://pandas.pydata.org/pandas-docs/stable/user_guide/indexing.html#returning-a-view-versus-a-copy\n",
      "  X['intercept'] = 1\n"
     ]
    },
    {
     "name": "stdout",
     "output_type": "stream",
     "text": [
      "Eliminating  root_sconj_var\n",
      "Number of remaining features 108\n"
     ]
    },
    {
     "name": "stderr",
     "output_type": "stream",
     "text": [
      "C:\\Users\\alber\\AppData\\Local\\Temp\\ipykernel_16320\\1571046673.py:6: SettingWithCopyWarning: \n",
      "A value is trying to be set on a copy of a slice from a DataFrame.\n",
      "Try using .loc[row_indexer,col_indexer] = value instead\n",
      "\n",
      "See the caveats in the documentation: https://pandas.pydata.org/pandas-docs/stable/user_guide/indexing.html#returning-a-view-versus-a-copy\n",
      "  X['intercept'] = 1\n"
     ]
    },
    {
     "name": "stdout",
     "output_type": "stream",
     "text": [
      "Eliminating  root_pron_var\n",
      "Number of remaining features 107\n"
     ]
    },
    {
     "name": "stderr",
     "output_type": "stream",
     "text": [
      "C:\\Users\\alber\\AppData\\Local\\Temp\\ipykernel_16320\\1571046673.py:6: SettingWithCopyWarning: \n",
      "A value is trying to be set on a copy of a slice from a DataFrame.\n",
      "Try using .loc[row_indexer,col_indexer] = value instead\n",
      "\n",
      "See the caveats in the documentation: https://pandas.pydata.org/pandas-docs/stable/user_guide/indexing.html#returning-a-view-versus-a-copy\n",
      "  X['intercept'] = 1\n"
     ]
    },
    {
     "name": "stdout",
     "output_type": "stream",
     "text": [
      "Eliminating  root_adp_var\n",
      "Number of remaining features 106\n"
     ]
    },
    {
     "name": "stderr",
     "output_type": "stream",
     "text": [
      "C:\\Users\\alber\\AppData\\Local\\Temp\\ipykernel_16320\\1571046673.py:6: SettingWithCopyWarning: \n",
      "A value is trying to be set on a copy of a slice from a DataFrame.\n",
      "Try using .loc[row_indexer,col_indexer] = value instead\n",
      "\n",
      "See the caveats in the documentation: https://pandas.pydata.org/pandas-docs/stable/user_guide/indexing.html#returning-a-view-versus-a-copy\n",
      "  X['intercept'] = 1\n"
     ]
    },
    {
     "name": "stdout",
     "output_type": "stream",
     "text": [
      "Eliminating  a_word_ps\n",
      "Number of remaining features 105\n"
     ]
    },
    {
     "name": "stderr",
     "output_type": "stream",
     "text": [
      "C:\\Users\\alber\\AppData\\Local\\Temp\\ipykernel_16320\\1571046673.py:6: SettingWithCopyWarning: \n",
      "A value is trying to be set on a copy of a slice from a DataFrame.\n",
      "Try using .loc[row_indexer,col_indexer] = value instead\n",
      "\n",
      "See the caveats in the documentation: https://pandas.pydata.org/pandas-docs/stable/user_guide/indexing.html#returning-a-view-versus-a-copy\n",
      "  X['intercept'] = 1\n"
     ]
    },
    {
     "name": "stdout",
     "output_type": "stream",
     "text": [
      "Eliminating  t_syll\n",
      "Number of remaining features 104\n"
     ]
    },
    {
     "name": "stderr",
     "output_type": "stream",
     "text": [
      "C:\\Users\\alber\\AppData\\Local\\Temp\\ipykernel_16320\\1571046673.py:6: SettingWithCopyWarning: \n",
      "A value is trying to be set on a copy of a slice from a DataFrame.\n",
      "Try using .loc[row_indexer,col_indexer] = value instead\n",
      "\n",
      "See the caveats in the documentation: https://pandas.pydata.org/pandas-docs/stable/user_guide/indexing.html#returning-a-view-versus-a-copy\n",
      "  X['intercept'] = 1\n"
     ]
    },
    {
     "name": "stdout",
     "output_type": "stream",
     "text": [
      "Eliminating  corr_aux_var\n",
      "Number of remaining features 103\n"
     ]
    },
    {
     "name": "stderr",
     "output_type": "stream",
     "text": [
      "C:\\Users\\alber\\AppData\\Local\\Temp\\ipykernel_16320\\1571046673.py:6: SettingWithCopyWarning: \n",
      "A value is trying to be set on a copy of a slice from a DataFrame.\n",
      "Try using .loc[row_indexer,col_indexer] = value instead\n",
      "\n",
      "See the caveats in the documentation: https://pandas.pydata.org/pandas-docs/stable/user_guide/indexing.html#returning-a-view-versus-a-copy\n",
      "  X['intercept'] = 1\n"
     ]
    },
    {
     "name": "stdout",
     "output_type": "stream",
     "text": [
      "Eliminating  corr_space_var\n",
      "Number of remaining features 102\n"
     ]
    },
    {
     "name": "stderr",
     "output_type": "stream",
     "text": [
      "C:\\Users\\alber\\AppData\\Local\\Temp\\ipykernel_16320\\1571046673.py:6: SettingWithCopyWarning: \n",
      "A value is trying to be set on a copy of a slice from a DataFrame.\n",
      "Try using .loc[row_indexer,col_indexer] = value instead\n",
      "\n",
      "See the caveats in the documentation: https://pandas.pydata.org/pandas-docs/stable/user_guide/indexing.html#returning-a-view-versus-a-copy\n",
      "  X['intercept'] = 1\n"
     ]
    },
    {
     "name": "stdout",
     "output_type": "stream",
     "text": [
      "Eliminating  root_punct_var\n",
      "Number of remaining features 101\n"
     ]
    },
    {
     "name": "stderr",
     "output_type": "stream",
     "text": [
      "C:\\Users\\alber\\AppData\\Local\\Temp\\ipykernel_16320\\1571046673.py:6: SettingWithCopyWarning: \n",
      "A value is trying to be set on a copy of a slice from a DataFrame.\n",
      "Try using .loc[row_indexer,col_indexer] = value instead\n",
      "\n",
      "See the caveats in the documentation: https://pandas.pydata.org/pandas-docs/stable/user_guide/indexing.html#returning-a-view-versus-a-copy\n",
      "  X['intercept'] = 1\n"
     ]
    },
    {
     "name": "stdout",
     "output_type": "stream",
     "text": [
      "Eliminating  root_cconj_var\n",
      "Number of remaining features 100\n"
     ]
    },
    {
     "name": "stderr",
     "output_type": "stream",
     "text": [
      "C:\\Users\\alber\\AppData\\Local\\Temp\\ipykernel_16320\\1571046673.py:6: SettingWithCopyWarning: \n",
      "A value is trying to be set on a copy of a slice from a DataFrame.\n",
      "Try using .loc[row_indexer,col_indexer] = value instead\n",
      "\n",
      "See the caveats in the documentation: https://pandas.pydata.org/pandas-docs/stable/user_guide/indexing.html#returning-a-view-versus-a-copy\n",
      "  X['intercept'] = 1\n"
     ]
    },
    {
     "name": "stdout",
     "output_type": "stream",
     "text": [
      "Eliminating  t_subtlex_us_zipf\n",
      "Number of remaining features 99\n"
     ]
    },
    {
     "name": "stderr",
     "output_type": "stream",
     "text": [
      "C:\\Users\\alber\\AppData\\Local\\Temp\\ipykernel_16320\\1571046673.py:6: SettingWithCopyWarning: \n",
      "A value is trying to be set on a copy of a slice from a DataFrame.\n",
      "Try using .loc[row_indexer,col_indexer] = value instead\n",
      "\n",
      "See the caveats in the documentation: https://pandas.pydata.org/pandas-docs/stable/user_guide/indexing.html#returning-a-view-versus-a-copy\n",
      "  X['intercept'] = 1\n"
     ]
    },
    {
     "name": "stdout",
     "output_type": "stream",
     "text": [
      "Eliminating  fkre\n",
      "Number of remaining features 98\n"
     ]
    },
    {
     "name": "stderr",
     "output_type": "stream",
     "text": [
      "C:\\Users\\alber\\AppData\\Local\\Temp\\ipykernel_16320\\1571046673.py:6: SettingWithCopyWarning: \n",
      "A value is trying to be set on a copy of a slice from a DataFrame.\n",
      "Try using .loc[row_indexer,col_indexer] = value instead\n",
      "\n",
      "See the caveats in the documentation: https://pandas.pydata.org/pandas-docs/stable/user_guide/indexing.html#returning-a-view-versus-a-copy\n",
      "  X['intercept'] = 1\n"
     ]
    },
    {
     "name": "stdout",
     "output_type": "stream",
     "text": [
      "Eliminating  corr_part_var\n",
      "Number of remaining features 97\n"
     ]
    },
    {
     "name": "stderr",
     "output_type": "stream",
     "text": [
      "C:\\Users\\alber\\AppData\\Local\\Temp\\ipykernel_16320\\1571046673.py:6: SettingWithCopyWarning: \n",
      "A value is trying to be set on a copy of a slice from a DataFrame.\n",
      "Try using .loc[row_indexer,col_indexer] = value instead\n",
      "\n",
      "See the caveats in the documentation: https://pandas.pydata.org/pandas-docs/stable/user_guide/indexing.html#returning-a-view-versus-a-copy\n",
      "  X['intercept'] = 1\n"
     ]
    },
    {
     "name": "stdout",
     "output_type": "stream",
     "text": [
      "Eliminating  t_char\n",
      "Number of remaining features 96\n"
     ]
    },
    {
     "name": "stderr",
     "output_type": "stream",
     "text": [
      "C:\\Users\\alber\\AppData\\Local\\Temp\\ipykernel_16320\\1571046673.py:6: SettingWithCopyWarning: \n",
      "A value is trying to be set on a copy of a slice from a DataFrame.\n",
      "Try using .loc[row_indexer,col_indexer] = value instead\n",
      "\n",
      "See the caveats in the documentation: https://pandas.pydata.org/pandas-docs/stable/user_guide/indexing.html#returning-a-view-versus-a-copy\n",
      "  X['intercept'] = 1\n"
     ]
    },
    {
     "name": "stdout",
     "output_type": "stream",
     "text": [
      "Eliminating  root_det_var\n",
      "Number of remaining features 95\n"
     ]
    },
    {
     "name": "stderr",
     "output_type": "stream",
     "text": [
      "C:\\Users\\alber\\AppData\\Local\\Temp\\ipykernel_16320\\1571046673.py:6: SettingWithCopyWarning: \n",
      "A value is trying to be set on a copy of a slice from a DataFrame.\n",
      "Try using .loc[row_indexer,col_indexer] = value instead\n",
      "\n",
      "See the caveats in the documentation: https://pandas.pydata.org/pandas-docs/stable/user_guide/indexing.html#returning-a-view-versus-a-copy\n",
      "  X['intercept'] = 1\n"
     ]
    },
    {
     "name": "stdout",
     "output_type": "stream",
     "text": [
      "Eliminating  a_char_ps\n",
      "Number of remaining features 94\n"
     ]
    },
    {
     "name": "stderr",
     "output_type": "stream",
     "text": [
      "C:\\Users\\alber\\AppData\\Local\\Temp\\ipykernel_16320\\1571046673.py:6: SettingWithCopyWarning: \n",
      "A value is trying to be set on a copy of a slice from a DataFrame.\n",
      "Try using .loc[row_indexer,col_indexer] = value instead\n",
      "\n",
      "See the caveats in the documentation: https://pandas.pydata.org/pandas-docs/stable/user_guide/indexing.html#returning-a-view-versus-a-copy\n",
      "  X['intercept'] = 1\n"
     ]
    },
    {
     "name": "stdout",
     "output_type": "stream",
     "text": [
      "Eliminating  t_kup\n",
      "Number of remaining features 93\n"
     ]
    },
    {
     "name": "stderr",
     "output_type": "stream",
     "text": [
      "C:\\Users\\alber\\AppData\\Local\\Temp\\ipykernel_16320\\1571046673.py:6: SettingWithCopyWarning: \n",
      "A value is trying to be set on a copy of a slice from a DataFrame.\n",
      "Try using .loc[row_indexer,col_indexer] = value instead\n",
      "\n",
      "See the caveats in the documentation: https://pandas.pydata.org/pandas-docs/stable/user_guide/indexing.html#returning-a-view-versus-a-copy\n",
      "  X['intercept'] = 1\n"
     ]
    },
    {
     "name": "stdout",
     "output_type": "stream",
     "text": [
      "Eliminating  a_kup_ps\n",
      "Number of remaining features 92\n"
     ]
    },
    {
     "name": "stderr",
     "output_type": "stream",
     "text": [
      "C:\\Users\\alber\\AppData\\Local\\Temp\\ipykernel_16320\\1571046673.py:6: SettingWithCopyWarning: \n",
      "A value is trying to be set on a copy of a slice from a DataFrame.\n",
      "Try using .loc[row_indexer,col_indexer] = value instead\n",
      "\n",
      "See the caveats in the documentation: https://pandas.pydata.org/pandas-docs/stable/user_guide/indexing.html#returning-a-view-versus-a-copy\n",
      "  X['intercept'] = 1\n"
     ]
    },
    {
     "name": "stdout",
     "output_type": "stream",
     "text": [
      "Eliminating  a_subtlex_us_zipf_ps\n",
      "Number of remaining features 91\n"
     ]
    },
    {
     "name": "stderr",
     "output_type": "stream",
     "text": [
      "C:\\Users\\alber\\AppData\\Local\\Temp\\ipykernel_16320\\1571046673.py:6: SettingWithCopyWarning: \n",
      "A value is trying to be set on a copy of a slice from a DataFrame.\n",
      "Try using .loc[row_indexer,col_indexer] = value instead\n",
      "\n",
      "See the caveats in the documentation: https://pandas.pydata.org/pandas-docs/stable/user_guide/indexing.html#returning-a-view-versus-a-copy\n",
      "  X['intercept'] = 1\n"
     ]
    },
    {
     "name": "stdout",
     "output_type": "stream",
     "text": [
      "Eliminating  root_ttr_no_lem\n",
      "Number of remaining features 90\n"
     ]
    },
    {
     "name": "stderr",
     "output_type": "stream",
     "text": [
      "C:\\Users\\alber\\AppData\\Local\\Temp\\ipykernel_16320\\1571046673.py:6: SettingWithCopyWarning: \n",
      "A value is trying to be set on a copy of a slice from a DataFrame.\n",
      "Try using .loc[row_indexer,col_indexer] = value instead\n",
      "\n",
      "See the caveats in the documentation: https://pandas.pydata.org/pandas-docs/stable/user_guide/indexing.html#returning-a-view-versus-a-copy\n",
      "  X['intercept'] = 1\n"
     ]
    },
    {
     "name": "stdout",
     "output_type": "stream",
     "text": [
      "Eliminating  rt_average\n",
      "Number of remaining features 89\n"
     ]
    },
    {
     "name": "stderr",
     "output_type": "stream",
     "text": [
      "C:\\Users\\alber\\AppData\\Local\\Temp\\ipykernel_16320\\1571046673.py:6: SettingWithCopyWarning: \n",
      "A value is trying to be set on a copy of a slice from a DataFrame.\n",
      "Try using .loc[row_indexer,col_indexer] = value instead\n",
      "\n",
      "See the caveats in the documentation: https://pandas.pydata.org/pandas-docs/stable/user_guide/indexing.html#returning-a-view-versus-a-copy\n",
      "  X['intercept'] = 1\n"
     ]
    },
    {
     "name": "stdout",
     "output_type": "stream",
     "text": [
      "Eliminating  a_bry_ps\n",
      "Number of remaining features 88\n"
     ]
    },
    {
     "name": "stderr",
     "output_type": "stream",
     "text": [
      "C:\\Users\\alber\\AppData\\Local\\Temp\\ipykernel_16320\\1571046673.py:6: SettingWithCopyWarning: \n",
      "A value is trying to be set on a copy of a slice from a DataFrame.\n",
      "Try using .loc[row_indexer,col_indexer] = value instead\n",
      "\n",
      "See the caveats in the documentation: https://pandas.pydata.org/pandas-docs/stable/user_guide/indexing.html#returning-a-view-versus-a-copy\n",
      "  X['intercept'] = 1\n"
     ]
    },
    {
     "name": "stdout",
     "output_type": "stream",
     "text": [
      "Eliminating  t_bry\n",
      "Number of remaining features 87\n"
     ]
    },
    {
     "name": "stderr",
     "output_type": "stream",
     "text": [
      "C:\\Users\\alber\\AppData\\Local\\Temp\\ipykernel_16320\\1571046673.py:6: SettingWithCopyWarning: \n",
      "A value is trying to be set on a copy of a slice from a DataFrame.\n",
      "Try using .loc[row_indexer,col_indexer] = value instead\n",
      "\n",
      "See the caveats in the documentation: https://pandas.pydata.org/pandas-docs/stable/user_guide/indexing.html#returning-a-view-versus-a-copy\n",
      "  X['intercept'] = 1\n"
     ]
    },
    {
     "name": "stdout",
     "output_type": "stream",
     "text": [
      "Eliminating  a_syll_ps\n",
      "Number of remaining features 86\n"
     ]
    },
    {
     "name": "stderr",
     "output_type": "stream",
     "text": [
      "C:\\Users\\alber\\AppData\\Local\\Temp\\ipykernel_16320\\1571046673.py:6: SettingWithCopyWarning: \n",
      "A value is trying to be set on a copy of a slice from a DataFrame.\n",
      "Try using .loc[row_indexer,col_indexer] = value instead\n",
      "\n",
      "See the caveats in the documentation: https://pandas.pydata.org/pandas-docs/stable/user_guide/indexing.html#returning-a-view-versus-a-copy\n",
      "  X['intercept'] = 1\n"
     ]
    },
    {
     "name": "stdout",
     "output_type": "stream",
     "text": [
      "Eliminating  cole\n",
      "Number of remaining features 85\n"
     ]
    },
    {
     "name": "stderr",
     "output_type": "stream",
     "text": [
      "C:\\Users\\alber\\AppData\\Local\\Temp\\ipykernel_16320\\1571046673.py:6: SettingWithCopyWarning: \n",
      "A value is trying to be set on a copy of a slice from a DataFrame.\n",
      "Try using .loc[row_indexer,col_indexer] = value instead\n",
      "\n",
      "See the caveats in the documentation: https://pandas.pydata.org/pandas-docs/stable/user_guide/indexing.html#returning-a-view-versus-a-copy\n",
      "  X['intercept'] = 1\n"
     ]
    },
    {
     "name": "stdout",
     "output_type": "stream",
     "text": [
      "Eliminating  a_stopword_ps\n",
      "Number of remaining features 84\n"
     ]
    },
    {
     "name": "stderr",
     "output_type": "stream",
     "text": [
      "C:\\Users\\alber\\AppData\\Local\\Temp\\ipykernel_16320\\1571046673.py:6: SettingWithCopyWarning: \n",
      "A value is trying to be set on a copy of a slice from a DataFrame.\n",
      "Try using .loc[row_indexer,col_indexer] = value instead\n",
      "\n",
      "See the caveats in the documentation: https://pandas.pydata.org/pandas-docs/stable/user_guide/indexing.html#returning-a-view-versus-a-copy\n",
      "  X['intercept'] = 1\n"
     ]
    },
    {
     "name": "stdout",
     "output_type": "stream",
     "text": [
      "Eliminating  simp_ttr_no_lem\n",
      "Number of remaining features 83\n"
     ]
    },
    {
     "name": "stderr",
     "output_type": "stream",
     "text": [
      "C:\\Users\\alber\\AppData\\Local\\Temp\\ipykernel_16320\\1571046673.py:6: SettingWithCopyWarning: \n",
      "A value is trying to be set on a copy of a slice from a DataFrame.\n",
      "Try using .loc[row_indexer,col_indexer] = value instead\n",
      "\n",
      "See the caveats in the documentation: https://pandas.pydata.org/pandas-docs/stable/user_guide/indexing.html#returning-a-view-versus-a-copy\n",
      "  X['intercept'] = 1\n"
     ]
    },
    {
     "name": "stdout",
     "output_type": "stream",
     "text": [
      "Eliminating  t_uword\n",
      "Number of remaining features 82\n"
     ]
    },
    {
     "name": "stderr",
     "output_type": "stream",
     "text": [
      "C:\\Users\\alber\\AppData\\Local\\Temp\\ipykernel_16320\\1571046673.py:6: SettingWithCopyWarning: \n",
      "A value is trying to be set on a copy of a slice from a DataFrame.\n",
      "Try using .loc[row_indexer,col_indexer] = value instead\n",
      "\n",
      "See the caveats in the documentation: https://pandas.pydata.org/pandas-docs/stable/user_guide/indexing.html#returning-a-view-versus-a-copy\n",
      "  X['intercept'] = 1\n"
     ]
    },
    {
     "name": "stdout",
     "output_type": "stream",
     "text": [
      "Eliminating  t_stopword\n",
      "Number of remaining features 81\n"
     ]
    },
    {
     "name": "stderr",
     "output_type": "stream",
     "text": [
      "C:\\Users\\alber\\AppData\\Local\\Temp\\ipykernel_16320\\1571046673.py:6: SettingWithCopyWarning: \n",
      "A value is trying to be set on a copy of a slice from a DataFrame.\n",
      "Try using .loc[row_indexer,col_indexer] = value instead\n",
      "\n",
      "See the caveats in the documentation: https://pandas.pydata.org/pandas-docs/stable/user_guide/indexing.html#returning-a-view-versus-a-copy\n",
      "  X['intercept'] = 1\n"
     ]
    },
    {
     "name": "stdout",
     "output_type": "stream",
     "text": [
      "Eliminating  a_propn_pw\n",
      "Number of remaining features 80\n"
     ]
    },
    {
     "name": "stderr",
     "output_type": "stream",
     "text": [
      "C:\\Users\\alber\\AppData\\Local\\Temp\\ipykernel_16320\\1571046673.py:6: SettingWithCopyWarning: \n",
      "A value is trying to be set on a copy of a slice from a DataFrame.\n",
      "Try using .loc[row_indexer,col_indexer] = value instead\n",
      "\n",
      "See the caveats in the documentation: https://pandas.pydata.org/pandas-docs/stable/user_guide/indexing.html#returning-a-view-versus-a-copy\n",
      "  X['intercept'] = 1\n"
     ]
    },
    {
     "name": "stdout",
     "output_type": "stream",
     "text": [
      "Eliminating  root_noun_var\n",
      "Number of remaining features 79\n"
     ]
    },
    {
     "name": "stderr",
     "output_type": "stream",
     "text": [
      "C:\\Users\\alber\\AppData\\Local\\Temp\\ipykernel_16320\\1571046673.py:6: SettingWithCopyWarning: \n",
      "A value is trying to be set on a copy of a slice from a DataFrame.\n",
      "Try using .loc[row_indexer,col_indexer] = value instead\n",
      "\n",
      "See the caveats in the documentation: https://pandas.pydata.org/pandas-docs/stable/user_guide/indexing.html#returning-a-view-versus-a-copy\n",
      "  X['intercept'] = 1\n"
     ]
    },
    {
     "name": "stdout",
     "output_type": "stream",
     "text": [
      "Eliminating  t_syll2\n",
      "Number of remaining features 78\n"
     ]
    },
    {
     "name": "stderr",
     "output_type": "stream",
     "text": [
      "C:\\Users\\alber\\AppData\\Local\\Temp\\ipykernel_16320\\1571046673.py:6: SettingWithCopyWarning: \n",
      "A value is trying to be set on a copy of a slice from a DataFrame.\n",
      "Try using .loc[row_indexer,col_indexer] = value instead\n",
      "\n",
      "See the caveats in the documentation: https://pandas.pydata.org/pandas-docs/stable/user_guide/indexing.html#returning-a-view-versus-a-copy\n",
      "  X['intercept'] = 1\n"
     ]
    },
    {
     "name": "stdout",
     "output_type": "stream",
     "text": [
      "Eliminating  a_noun_ps\n",
      "Number of remaining features 77\n"
     ]
    },
    {
     "name": "stderr",
     "output_type": "stream",
     "text": [
      "C:\\Users\\alber\\AppData\\Local\\Temp\\ipykernel_16320\\1571046673.py:6: SettingWithCopyWarning: \n",
      "A value is trying to be set on a copy of a slice from a DataFrame.\n",
      "Try using .loc[row_indexer,col_indexer] = value instead\n",
      "\n",
      "See the caveats in the documentation: https://pandas.pydata.org/pandas-docs/stable/user_guide/indexing.html#returning-a-view-versus-a-copy\n",
      "  X['intercept'] = 1\n"
     ]
    },
    {
     "name": "stdout",
     "output_type": "stream",
     "text": [
      "Eliminating  root_verb_var\n",
      "Number of remaining features 76\n"
     ]
    },
    {
     "name": "stderr",
     "output_type": "stream",
     "text": [
      "C:\\Users\\alber\\AppData\\Local\\Temp\\ipykernel_16320\\1571046673.py:6: SettingWithCopyWarning: \n",
      "A value is trying to be set on a copy of a slice from a DataFrame.\n",
      "Try using .loc[row_indexer,col_indexer] = value instead\n",
      "\n",
      "See the caveats in the documentation: https://pandas.pydata.org/pandas-docs/stable/user_guide/indexing.html#returning-a-view-versus-a-copy\n",
      "  X['intercept'] = 1\n"
     ]
    },
    {
     "name": "stdout",
     "output_type": "stream",
     "text": [
      "Eliminating  a_adp_ps\n",
      "Number of remaining features 75\n"
     ]
    },
    {
     "name": "stderr",
     "output_type": "stream",
     "text": [
      "C:\\Users\\alber\\AppData\\Local\\Temp\\ipykernel_16320\\1571046673.py:6: SettingWithCopyWarning: \n",
      "A value is trying to be set on a copy of a slice from a DataFrame.\n",
      "Try using .loc[row_indexer,col_indexer] = value instead\n",
      "\n",
      "See the caveats in the documentation: https://pandas.pydata.org/pandas-docs/stable/user_guide/indexing.html#returning-a-view-versus-a-copy\n",
      "  X['intercept'] = 1\n"
     ]
    },
    {
     "name": "stdout",
     "output_type": "stream",
     "text": [
      "Eliminating  a_punct_ps\n",
      "Number of remaining features 74\n"
     ]
    },
    {
     "name": "stderr",
     "output_type": "stream",
     "text": [
      "C:\\Users\\alber\\AppData\\Local\\Temp\\ipykernel_16320\\1571046673.py:6: SettingWithCopyWarning: \n",
      "A value is trying to be set on a copy of a slice from a DataFrame.\n",
      "Try using .loc[row_indexer,col_indexer] = value instead\n",
      "\n",
      "See the caveats in the documentation: https://pandas.pydata.org/pandas-docs/stable/user_guide/indexing.html#returning-a-view-versus-a-copy\n",
      "  X['intercept'] = 1\n"
     ]
    },
    {
     "name": "stdout",
     "output_type": "stream",
     "text": [
      "Eliminating  fogi\n",
      "Number of remaining features 73\n"
     ]
    },
    {
     "name": "stderr",
     "output_type": "stream",
     "text": [
      "C:\\Users\\alber\\AppData\\Local\\Temp\\ipykernel_16320\\1571046673.py:6: SettingWithCopyWarning: \n",
      "A value is trying to be set on a copy of a slice from a DataFrame.\n",
      "Try using .loc[row_indexer,col_indexer] = value instead\n",
      "\n",
      "See the caveats in the documentation: https://pandas.pydata.org/pandas-docs/stable/user_guide/indexing.html#returning-a-view-versus-a-copy\n",
      "  X['intercept'] = 1\n"
     ]
    },
    {
     "name": "stdout",
     "output_type": "stream",
     "text": [
      "Eliminating  a_verb_ps\n",
      "Number of remaining features 72\n"
     ]
    },
    {
     "name": "stderr",
     "output_type": "stream",
     "text": [
      "C:\\Users\\alber\\AppData\\Local\\Temp\\ipykernel_16320\\1571046673.py:6: SettingWithCopyWarning: \n",
      "A value is trying to be set on a copy of a slice from a DataFrame.\n",
      "Try using .loc[row_indexer,col_indexer] = value instead\n",
      "\n",
      "See the caveats in the documentation: https://pandas.pydata.org/pandas-docs/stable/user_guide/indexing.html#returning-a-view-versus-a-copy\n",
      "  X['intercept'] = 1\n"
     ]
    },
    {
     "name": "stdout",
     "output_type": "stream",
     "text": [
      "Eliminating  a_pron_pw\n",
      "Number of remaining features 71\n"
     ]
    },
    {
     "name": "stderr",
     "output_type": "stream",
     "text": [
      "C:\\Users\\alber\\AppData\\Local\\Temp\\ipykernel_16320\\1571046673.py:6: SettingWithCopyWarning: \n",
      "A value is trying to be set on a copy of a slice from a DataFrame.\n",
      "Try using .loc[row_indexer,col_indexer] = value instead\n",
      "\n",
      "See the caveats in the documentation: https://pandas.pydata.org/pandas-docs/stable/user_guide/indexing.html#returning-a-view-versus-a-copy\n",
      "  X['intercept'] = 1\n"
     ]
    },
    {
     "name": "stdout",
     "output_type": "stream",
     "text": [
      "Eliminating  simp_det_var\n",
      "Number of remaining features 70\n"
     ]
    },
    {
     "name": "stderr",
     "output_type": "stream",
     "text": [
      "C:\\Users\\alber\\AppData\\Local\\Temp\\ipykernel_16320\\1571046673.py:6: SettingWithCopyWarning: \n",
      "A value is trying to be set on a copy of a slice from a DataFrame.\n",
      "Try using .loc[row_indexer,col_indexer] = value instead\n",
      "\n",
      "See the caveats in the documentation: https://pandas.pydata.org/pandas-docs/stable/user_guide/indexing.html#returning-a-view-versus-a-copy\n",
      "  X['intercept'] = 1\n"
     ]
    },
    {
     "name": "stdout",
     "output_type": "stream",
     "text": [
      "Eliminating  a_det_ps\n",
      "Number of remaining features 69\n"
     ]
    },
    {
     "name": "stderr",
     "output_type": "stream",
     "text": [
      "C:\\Users\\alber\\AppData\\Local\\Temp\\ipykernel_16320\\1571046673.py:6: SettingWithCopyWarning: \n",
      "A value is trying to be set on a copy of a slice from a DataFrame.\n",
      "Try using .loc[row_indexer,col_indexer] = value instead\n",
      "\n",
      "See the caveats in the documentation: https://pandas.pydata.org/pandas-docs/stable/user_guide/indexing.html#returning-a-view-versus-a-copy\n",
      "  X['intercept'] = 1\n"
     ]
    },
    {
     "name": "stdout",
     "output_type": "stream",
     "text": [
      "Eliminating  bilog_ttr_no_lem\n",
      "Number of remaining features 68\n"
     ]
    },
    {
     "name": "stderr",
     "output_type": "stream",
     "text": [
      "C:\\Users\\alber\\AppData\\Local\\Temp\\ipykernel_16320\\1571046673.py:6: SettingWithCopyWarning: \n",
      "A value is trying to be set on a copy of a slice from a DataFrame.\n",
      "Try using .loc[row_indexer,col_indexer] = value instead\n",
      "\n",
      "See the caveats in the documentation: https://pandas.pydata.org/pandas-docs/stable/user_guide/indexing.html#returning-a-view-versus-a-copy\n",
      "  X['intercept'] = 1\n"
     ]
    },
    {
     "name": "stdout",
     "output_type": "stream",
     "text": [
      "Eliminating  a_adj_ps\n",
      "Number of remaining features 67\n"
     ]
    },
    {
     "name": "stderr",
     "output_type": "stream",
     "text": [
      "C:\\Users\\alber\\AppData\\Local\\Temp\\ipykernel_16320\\1571046673.py:6: SettingWithCopyWarning: \n",
      "A value is trying to be set on a copy of a slice from a DataFrame.\n",
      "Try using .loc[row_indexer,col_indexer] = value instead\n",
      "\n",
      "See the caveats in the documentation: https://pandas.pydata.org/pandas-docs/stable/user_guide/indexing.html#returning-a-view-versus-a-copy\n",
      "  X['intercept'] = 1\n"
     ]
    },
    {
     "name": "stdout",
     "output_type": "stream",
     "text": [
      "Eliminating  a_stopword_pw\n",
      "Number of remaining features 66\n"
     ]
    },
    {
     "name": "stderr",
     "output_type": "stream",
     "text": [
      "C:\\Users\\alber\\AppData\\Local\\Temp\\ipykernel_16320\\1571046673.py:6: SettingWithCopyWarning: \n",
      "A value is trying to be set on a copy of a slice from a DataFrame.\n",
      "Try using .loc[row_indexer,col_indexer] = value instead\n",
      "\n",
      "See the caveats in the documentation: https://pandas.pydata.org/pandas-docs/stable/user_guide/indexing.html#returning-a-view-versus-a-copy\n",
      "  X['intercept'] = 1\n"
     ]
    },
    {
     "name": "stdout",
     "output_type": "stream",
     "text": [
      "Eliminating  root_sym_var\n",
      "Number of remaining features 65\n"
     ]
    },
    {
     "name": "stderr",
     "output_type": "stream",
     "text": [
      "C:\\Users\\alber\\AppData\\Local\\Temp\\ipykernel_16320\\1571046673.py:6: SettingWithCopyWarning: \n",
      "A value is trying to be set on a copy of a slice from a DataFrame.\n",
      "Try using .loc[row_indexer,col_indexer] = value instead\n",
      "\n",
      "See the caveats in the documentation: https://pandas.pydata.org/pandas-docs/stable/user_guide/indexing.html#returning-a-view-versus-a-copy\n",
      "  X['intercept'] = 1\n"
     ]
    },
    {
     "name": "stdout",
     "output_type": "stream",
     "text": [
      "Eliminating  simp_punct_var\n",
      "Number of remaining features 64\n"
     ]
    },
    {
     "name": "stderr",
     "output_type": "stream",
     "text": [
      "C:\\Users\\alber\\AppData\\Local\\Temp\\ipykernel_16320\\1571046673.py:6: SettingWithCopyWarning: \n",
      "A value is trying to be set on a copy of a slice from a DataFrame.\n",
      "Try using .loc[row_indexer,col_indexer] = value instead\n",
      "\n",
      "See the caveats in the documentation: https://pandas.pydata.org/pandas-docs/stable/user_guide/indexing.html#returning-a-view-versus-a-copy\n",
      "  X['intercept'] = 1\n"
     ]
    },
    {
     "name": "stdout",
     "output_type": "stream",
     "text": [
      "Eliminating  a_num_pw\n",
      "Number of remaining features 63\n"
     ]
    },
    {
     "name": "stderr",
     "output_type": "stream",
     "text": [
      "C:\\Users\\alber\\AppData\\Local\\Temp\\ipykernel_16320\\1571046673.py:6: SettingWithCopyWarning: \n",
      "A value is trying to be set on a copy of a slice from a DataFrame.\n",
      "Try using .loc[row_indexer,col_indexer] = value instead\n",
      "\n",
      "See the caveats in the documentation: https://pandas.pydata.org/pandas-docs/stable/user_guide/indexing.html#returning-a-view-versus-a-copy\n",
      "  X['intercept'] = 1\n"
     ]
    },
    {
     "name": "stdout",
     "output_type": "stream",
     "text": [
      "Eliminating  corr_adj_var\n",
      "Number of remaining features 62\n"
     ]
    },
    {
     "name": "stderr",
     "output_type": "stream",
     "text": [
      "C:\\Users\\alber\\AppData\\Local\\Temp\\ipykernel_16320\\1571046673.py:6: SettingWithCopyWarning: \n",
      "A value is trying to be set on a copy of a slice from a DataFrame.\n",
      "Try using .loc[row_indexer,col_indexer] = value instead\n",
      "\n",
      "See the caveats in the documentation: https://pandas.pydata.org/pandas-docs/stable/user_guide/indexing.html#returning-a-view-versus-a-copy\n",
      "  X['intercept'] = 1\n"
     ]
    },
    {
     "name": "stdout",
     "output_type": "stream",
     "text": [
      "Eliminating  a_part_ps\n",
      "Number of remaining features 61\n"
     ]
    },
    {
     "name": "stderr",
     "output_type": "stream",
     "text": [
      "C:\\Users\\alber\\AppData\\Local\\Temp\\ipykernel_16320\\1571046673.py:6: SettingWithCopyWarning: \n",
      "A value is trying to be set on a copy of a slice from a DataFrame.\n",
      "Try using .loc[row_indexer,col_indexer] = value instead\n",
      "\n",
      "See the caveats in the documentation: https://pandas.pydata.org/pandas-docs/stable/user_guide/indexing.html#returning-a-view-versus-a-copy\n",
      "  X['intercept'] = 1\n"
     ]
    },
    {
     "name": "stdout",
     "output_type": "stream",
     "text": [
      "Eliminating  root_intj_var\n",
      "Number of remaining features 60\n"
     ]
    },
    {
     "name": "stderr",
     "output_type": "stream",
     "text": [
      "C:\\Users\\alber\\AppData\\Local\\Temp\\ipykernel_16320\\1571046673.py:6: SettingWithCopyWarning: \n",
      "A value is trying to be set on a copy of a slice from a DataFrame.\n",
      "Try using .loc[row_indexer,col_indexer] = value instead\n",
      "\n",
      "See the caveats in the documentation: https://pandas.pydata.org/pandas-docs/stable/user_guide/indexing.html#returning-a-view-versus-a-copy\n",
      "  X['intercept'] = 1\n"
     ]
    },
    {
     "name": "stdout",
     "output_type": "stream",
     "text": [
      "Eliminating  a_kup_pw\n",
      "Number of remaining features 59\n"
     ]
    },
    {
     "name": "stderr",
     "output_type": "stream",
     "text": [
      "C:\\Users\\alber\\AppData\\Local\\Temp\\ipykernel_16320\\1571046673.py:6: SettingWithCopyWarning: \n",
      "A value is trying to be set on a copy of a slice from a DataFrame.\n",
      "Try using .loc[row_indexer,col_indexer] = value instead\n",
      "\n",
      "See the caveats in the documentation: https://pandas.pydata.org/pandas-docs/stable/user_guide/indexing.html#returning-a-view-versus-a-copy\n",
      "  X['intercept'] = 1\n"
     ]
    },
    {
     "name": "stdout",
     "output_type": "stream",
     "text": [
      "Eliminating  a_adv_ps\n",
      "Number of remaining features 58\n"
     ]
    },
    {
     "name": "stderr",
     "output_type": "stream",
     "text": [
      "C:\\Users\\alber\\AppData\\Local\\Temp\\ipykernel_16320\\1571046673.py:6: SettingWithCopyWarning: \n",
      "A value is trying to be set on a copy of a slice from a DataFrame.\n",
      "Try using .loc[row_indexer,col_indexer] = value instead\n",
      "\n",
      "See the caveats in the documentation: https://pandas.pydata.org/pandas-docs/stable/user_guide/indexing.html#returning-a-view-versus-a-copy\n",
      "  X['intercept'] = 1\n"
     ]
    },
    {
     "name": "stdout",
     "output_type": "stream",
     "text": [
      "Eliminating  a_syll_pw\n",
      "Number of remaining features 57\n"
     ]
    },
    {
     "name": "stderr",
     "output_type": "stream",
     "text": [
      "C:\\Users\\alber\\AppData\\Local\\Temp\\ipykernel_16320\\1571046673.py:6: SettingWithCopyWarning: \n",
      "A value is trying to be set on a copy of a slice from a DataFrame.\n",
      "Try using .loc[row_indexer,col_indexer] = value instead\n",
      "\n",
      "See the caveats in the documentation: https://pandas.pydata.org/pandas-docs/stable/user_guide/indexing.html#returning-a-view-versus-a-copy\n",
      "  X['intercept'] = 1\n"
     ]
    },
    {
     "name": "stdout",
     "output_type": "stream",
     "text": [
      "Eliminating  a_cconj_ps\n",
      "Number of remaining features 56\n"
     ]
    },
    {
     "name": "stderr",
     "output_type": "stream",
     "text": [
      "C:\\Users\\alber\\AppData\\Local\\Temp\\ipykernel_16320\\1571046673.py:6: SettingWithCopyWarning: \n",
      "A value is trying to be set on a copy of a slice from a DataFrame.\n",
      "Try using .loc[row_indexer,col_indexer] = value instead\n",
      "\n",
      "See the caveats in the documentation: https://pandas.pydata.org/pandas-docs/stable/user_guide/indexing.html#returning-a-view-versus-a-copy\n",
      "  X['intercept'] = 1\n"
     ]
    },
    {
     "name": "stdout",
     "output_type": "stream",
     "text": [
      "Eliminating  a_space_ps\n",
      "Number of remaining features 55\n"
     ]
    },
    {
     "name": "stderr",
     "output_type": "stream",
     "text": [
      "C:\\Users\\alber\\AppData\\Local\\Temp\\ipykernel_16320\\1571046673.py:6: SettingWithCopyWarning: \n",
      "A value is trying to be set on a copy of a slice from a DataFrame.\n",
      "Try using .loc[row_indexer,col_indexer] = value instead\n",
      "\n",
      "See the caveats in the documentation: https://pandas.pydata.org/pandas-docs/stable/user_guide/indexing.html#returning-a-view-versus-a-copy\n",
      "  X['intercept'] = 1\n"
     ]
    },
    {
     "name": "stdout",
     "output_type": "stream",
     "text": [
      "Eliminating  root_adv_var\n",
      "Number of remaining features 54\n"
     ]
    },
    {
     "name": "stderr",
     "output_type": "stream",
     "text": [
      "C:\\Users\\alber\\AppData\\Local\\Temp\\ipykernel_16320\\1571046673.py:6: SettingWithCopyWarning: \n",
      "A value is trying to be set on a copy of a slice from a DataFrame.\n",
      "Try using .loc[row_indexer,col_indexer] = value instead\n",
      "\n",
      "See the caveats in the documentation: https://pandas.pydata.org/pandas-docs/stable/user_guide/indexing.html#returning-a-view-versus-a-copy\n",
      "  X['intercept'] = 1\n"
     ]
    },
    {
     "name": "stdout",
     "output_type": "stream",
     "text": [
      "Eliminating  a_sconj_ps\n",
      "Number of remaining features 53\n"
     ]
    },
    {
     "name": "stderr",
     "output_type": "stream",
     "text": [
      "C:\\Users\\alber\\AppData\\Local\\Temp\\ipykernel_16320\\1571046673.py:6: SettingWithCopyWarning: \n",
      "A value is trying to be set on a copy of a slice from a DataFrame.\n",
      "Try using .loc[row_indexer,col_indexer] = value instead\n",
      "\n",
      "See the caveats in the documentation: https://pandas.pydata.org/pandas-docs/stable/user_guide/indexing.html#returning-a-view-versus-a-copy\n",
      "  X['intercept'] = 1\n"
     ]
    },
    {
     "name": "stdout",
     "output_type": "stream",
     "text": [
      "Eliminating  simp_adp_var\n",
      "Number of remaining features 52\n"
     ]
    },
    {
     "name": "stderr",
     "output_type": "stream",
     "text": [
      "C:\\Users\\alber\\AppData\\Local\\Temp\\ipykernel_16320\\1571046673.py:6: SettingWithCopyWarning: \n",
      "A value is trying to be set on a copy of a slice from a DataFrame.\n",
      "Try using .loc[row_indexer,col_indexer] = value instead\n",
      "\n",
      "See the caveats in the documentation: https://pandas.pydata.org/pandas-docs/stable/user_guide/indexing.html#returning-a-view-versus-a-copy\n",
      "  X['intercept'] = 1\n"
     ]
    },
    {
     "name": "stdout",
     "output_type": "stream",
     "text": [
      "Eliminating  t_sent\n",
      "Number of remaining features 51\n"
     ]
    },
    {
     "name": "stderr",
     "output_type": "stream",
     "text": [
      "C:\\Users\\alber\\AppData\\Local\\Temp\\ipykernel_16320\\1571046673.py:6: SettingWithCopyWarning: \n",
      "A value is trying to be set on a copy of a slice from a DataFrame.\n",
      "Try using .loc[row_indexer,col_indexer] = value instead\n",
      "\n",
      "See the caveats in the documentation: https://pandas.pydata.org/pandas-docs/stable/user_guide/indexing.html#returning-a-view-versus-a-copy\n",
      "  X['intercept'] = 1\n"
     ]
    },
    {
     "name": "stdout",
     "output_type": "stream",
     "text": [
      "Eliminating  simp_part_var\n",
      "Number of remaining features 50\n"
     ]
    },
    {
     "name": "stderr",
     "output_type": "stream",
     "text": [
      "C:\\Users\\alber\\AppData\\Local\\Temp\\ipykernel_16320\\1571046673.py:6: SettingWithCopyWarning: \n",
      "A value is trying to be set on a copy of a slice from a DataFrame.\n",
      "Try using .loc[row_indexer,col_indexer] = value instead\n",
      "\n",
      "See the caveats in the documentation: https://pandas.pydata.org/pandas-docs/stable/user_guide/indexing.html#returning-a-view-versus-a-copy\n",
      "  X['intercept'] = 1\n"
     ]
    },
    {
     "name": "stdout",
     "output_type": "stream",
     "text": [
      "Eliminating  simp_aux_var\n",
      "Number of remaining features 49\n"
     ]
    },
    {
     "name": "stderr",
     "output_type": "stream",
     "text": [
      "C:\\Users\\alber\\AppData\\Local\\Temp\\ipykernel_16320\\1571046673.py:6: SettingWithCopyWarning: \n",
      "A value is trying to be set on a copy of a slice from a DataFrame.\n",
      "Try using .loc[row_indexer,col_indexer] = value instead\n",
      "\n",
      "See the caveats in the documentation: https://pandas.pydata.org/pandas-docs/stable/user_guide/indexing.html#returning-a-view-versus-a-copy\n",
      "  X['intercept'] = 1\n"
     ]
    },
    {
     "name": "stdout",
     "output_type": "stream",
     "text": [
      "Eliminating  a_aux_ps\n",
      "Number of remaining features 48\n"
     ]
    },
    {
     "name": "stderr",
     "output_type": "stream",
     "text": [
      "C:\\Users\\alber\\AppData\\Local\\Temp\\ipykernel_16320\\1571046673.py:6: SettingWithCopyWarning: \n",
      "A value is trying to be set on a copy of a slice from a DataFrame.\n",
      "Try using .loc[row_indexer,col_indexer] = value instead\n",
      "\n",
      "See the caveats in the documentation: https://pandas.pydata.org/pandas-docs/stable/user_guide/indexing.html#returning-a-view-versus-a-copy\n",
      "  X['intercept'] = 1\n"
     ]
    },
    {
     "name": "stdout",
     "output_type": "stream",
     "text": [
      "Eliminating  a_bry_pw\n",
      "Number of remaining features 47\n"
     ]
    },
    {
     "name": "stderr",
     "output_type": "stream",
     "text": [
      "C:\\Users\\alber\\AppData\\Local\\Temp\\ipykernel_16320\\1571046673.py:6: SettingWithCopyWarning: \n",
      "A value is trying to be set on a copy of a slice from a DataFrame.\n",
      "Try using .loc[row_indexer,col_indexer] = value instead\n",
      "\n",
      "See the caveats in the documentation: https://pandas.pydata.org/pandas-docs/stable/user_guide/indexing.html#returning-a-view-versus-a-copy\n",
      "  X['intercept'] = 1\n"
     ]
    },
    {
     "name": "stdout",
     "output_type": "stream",
     "text": [
      "Eliminating  root_num_var\n",
      "Number of remaining features 46\n"
     ]
    },
    {
     "name": "stderr",
     "output_type": "stream",
     "text": [
      "C:\\Users\\alber\\AppData\\Local\\Temp\\ipykernel_16320\\1571046673.py:6: SettingWithCopyWarning: \n",
      "A value is trying to be set on a copy of a slice from a DataFrame.\n",
      "Try using .loc[row_indexer,col_indexer] = value instead\n",
      "\n",
      "See the caveats in the documentation: https://pandas.pydata.org/pandas-docs/stable/user_guide/indexing.html#returning-a-view-versus-a-copy\n",
      "  X['intercept'] = 1\n"
     ]
    },
    {
     "name": "stdout",
     "output_type": "stream",
     "text": [
      "Eliminating  a_sym_ps\n",
      "Number of remaining features 45\n"
     ]
    },
    {
     "name": "stderr",
     "output_type": "stream",
     "text": [
      "C:\\Users\\alber\\AppData\\Local\\Temp\\ipykernel_16320\\1571046673.py:6: SettingWithCopyWarning: \n",
      "A value is trying to be set on a copy of a slice from a DataFrame.\n",
      "Try using .loc[row_indexer,col_indexer] = value instead\n",
      "\n",
      "See the caveats in the documentation: https://pandas.pydata.org/pandas-docs/stable/user_guide/indexing.html#returning-a-view-versus-a-copy\n",
      "  X['intercept'] = 1\n"
     ]
    },
    {
     "name": "stdout",
     "output_type": "stream",
     "text": [
      "Eliminating  a_subtlex_us_zipf_pw\n",
      "Number of remaining features 44\n"
     ]
    },
    {
     "name": "stderr",
     "output_type": "stream",
     "text": [
      "C:\\Users\\alber\\AppData\\Local\\Temp\\ipykernel_16320\\1571046673.py:6: SettingWithCopyWarning: \n",
      "A value is trying to be set on a copy of a slice from a DataFrame.\n",
      "Try using .loc[row_indexer,col_indexer] = value instead\n",
      "\n",
      "See the caveats in the documentation: https://pandas.pydata.org/pandas-docs/stable/user_guide/indexing.html#returning-a-view-versus-a-copy\n",
      "  X['intercept'] = 1\n"
     ]
    },
    {
     "name": "stdout",
     "output_type": "stream",
     "text": [
      "Eliminating  simp_cconj_var\n",
      "Number of remaining features 43\n"
     ]
    },
    {
     "name": "stderr",
     "output_type": "stream",
     "text": [
      "C:\\Users\\alber\\AppData\\Local\\Temp\\ipykernel_16320\\1571046673.py:6: SettingWithCopyWarning: \n",
      "A value is trying to be set on a copy of a slice from a DataFrame.\n",
      "Try using .loc[row_indexer,col_indexer] = value instead\n",
      "\n",
      "See the caveats in the documentation: https://pandas.pydata.org/pandas-docs/stable/user_guide/indexing.html#returning-a-view-versus-a-copy\n",
      "  X['intercept'] = 1\n"
     ]
    }
   ],
   "source": [
    "vif_df = compute_vif(list(random_sample_features_df.columns)[:-1], random_sample_features_df)"
   ]
  },
  {
   "cell_type": "code",
   "execution_count": 34,
   "metadata": {},
   "outputs": [
    {
     "data": {
      "text/html": [
       "<div>\n",
       "<style scoped>\n",
       "    .dataframe tbody tr th:only-of-type {\n",
       "        vertical-align: middle;\n",
       "    }\n",
       "\n",
       "    .dataframe tbody tr th {\n",
       "        vertical-align: top;\n",
       "    }\n",
       "\n",
       "    .dataframe thead th {\n",
       "        text-align: right;\n",
       "    }\n",
       "</style>\n",
       "<table border=\"1\" class=\"dataframe\">\n",
       "  <thead>\n",
       "    <tr style=\"text-align: right;\">\n",
       "      <th></th>\n",
       "      <th>Variable</th>\n",
       "      <th>VIF</th>\n",
       "    </tr>\n",
       "  </thead>\n",
       "  <tbody>\n",
       "    <tr>\n",
       "      <th>0</th>\n",
       "      <td>t_syll3</td>\n",
       "      <td>4.786301</td>\n",
       "    </tr>\n",
       "    <tr>\n",
       "      <th>1</th>\n",
       "      <td>a_char_pw</td>\n",
       "      <td>3.858861</td>\n",
       "    </tr>\n",
       "    <tr>\n",
       "      <th>2</th>\n",
       "      <td>simp_adj_var</td>\n",
       "      <td>2.096231</td>\n",
       "    </tr>\n",
       "    <tr>\n",
       "      <th>3</th>\n",
       "      <td>simp_adv_var</td>\n",
       "      <td>1.917224</td>\n",
       "    </tr>\n",
       "    <tr>\n",
       "      <th>4</th>\n",
       "      <td>simp_intj_var</td>\n",
       "      <td>2.084603</td>\n",
       "    </tr>\n",
       "    <tr>\n",
       "      <th>5</th>\n",
       "      <td>simp_noun_var</td>\n",
       "      <td>2.872258</td>\n",
       "    </tr>\n",
       "    <tr>\n",
       "      <th>6</th>\n",
       "      <td>simp_num_var</td>\n",
       "      <td>1.387395</td>\n",
       "    </tr>\n",
       "    <tr>\n",
       "      <th>7</th>\n",
       "      <td>simp_pron_var</td>\n",
       "      <td>4.815147</td>\n",
       "    </tr>\n",
       "    <tr>\n",
       "      <th>8</th>\n",
       "      <td>simp_propn_var</td>\n",
       "      <td>3.653034</td>\n",
       "    </tr>\n",
       "    <tr>\n",
       "      <th>9</th>\n",
       "      <td>simp_sconj_var</td>\n",
       "      <td>3.564478</td>\n",
       "    </tr>\n",
       "    <tr>\n",
       "      <th>10</th>\n",
       "      <td>simp_sym_var</td>\n",
       "      <td>1.194030</td>\n",
       "    </tr>\n",
       "    <tr>\n",
       "      <th>11</th>\n",
       "      <td>simp_verb_var</td>\n",
       "      <td>3.863166</td>\n",
       "    </tr>\n",
       "    <tr>\n",
       "      <th>12</th>\n",
       "      <td>simp_space_var</td>\n",
       "      <td>4.837305</td>\n",
       "    </tr>\n",
       "    <tr>\n",
       "      <th>13</th>\n",
       "      <td>root_aux_var</td>\n",
       "      <td>1.406294</td>\n",
       "    </tr>\n",
       "    <tr>\n",
       "      <th>14</th>\n",
       "      <td>root_part_var</td>\n",
       "      <td>2.235138</td>\n",
       "    </tr>\n",
       "    <tr>\n",
       "      <th>15</th>\n",
       "      <td>root_propn_var</td>\n",
       "      <td>4.666788</td>\n",
       "    </tr>\n",
       "    <tr>\n",
       "      <th>16</th>\n",
       "      <td>root_space_var</td>\n",
       "      <td>4.359582</td>\n",
       "    </tr>\n",
       "    <tr>\n",
       "      <th>17</th>\n",
       "      <td>corr_adp_var</td>\n",
       "      <td>1.863053</td>\n",
       "    </tr>\n",
       "    <tr>\n",
       "      <th>18</th>\n",
       "      <td>corr_cconj_var</td>\n",
       "      <td>1.409711</td>\n",
       "    </tr>\n",
       "    <tr>\n",
       "      <th>19</th>\n",
       "      <td>corr_det_var</td>\n",
       "      <td>1.407035</td>\n",
       "    </tr>\n",
       "    <tr>\n",
       "      <th>20</th>\n",
       "      <td>corr_pron_var</td>\n",
       "      <td>3.318409</td>\n",
       "    </tr>\n",
       "    <tr>\n",
       "      <th>21</th>\n",
       "      <td>corr_punct_var</td>\n",
       "      <td>2.340203</td>\n",
       "    </tr>\n",
       "    <tr>\n",
       "      <th>22</th>\n",
       "      <td>corr_sconj_var</td>\n",
       "      <td>4.427069</td>\n",
       "    </tr>\n",
       "    <tr>\n",
       "      <th>23</th>\n",
       "      <td>uber_ttr_no_lem</td>\n",
       "      <td>2.430147</td>\n",
       "    </tr>\n",
       "    <tr>\n",
       "      <th>24</th>\n",
       "      <td>a_adj_pw</td>\n",
       "      <td>1.896511</td>\n",
       "    </tr>\n",
       "    <tr>\n",
       "      <th>25</th>\n",
       "      <td>a_adp_pw</td>\n",
       "      <td>2.238114</td>\n",
       "    </tr>\n",
       "    <tr>\n",
       "      <th>26</th>\n",
       "      <td>a_adv_pw</td>\n",
       "      <td>1.854670</td>\n",
       "    </tr>\n",
       "    <tr>\n",
       "      <th>27</th>\n",
       "      <td>a_aux_pw</td>\n",
       "      <td>2.096894</td>\n",
       "    </tr>\n",
       "    <tr>\n",
       "      <th>28</th>\n",
       "      <td>a_cconj_pw</td>\n",
       "      <td>1.596751</td>\n",
       "    </tr>\n",
       "    <tr>\n",
       "      <th>29</th>\n",
       "      <td>a_det_pw</td>\n",
       "      <td>1.852512</td>\n",
       "    </tr>\n",
       "    <tr>\n",
       "      <th>30</th>\n",
       "      <td>a_intj_pw</td>\n",
       "      <td>2.627185</td>\n",
       "    </tr>\n",
       "    <tr>\n",
       "      <th>31</th>\n",
       "      <td>a_noun_pw</td>\n",
       "      <td>3.021090</td>\n",
       "    </tr>\n",
       "    <tr>\n",
       "      <th>32</th>\n",
       "      <td>a_part_pw</td>\n",
       "      <td>1.699244</td>\n",
       "    </tr>\n",
       "    <tr>\n",
       "      <th>33</th>\n",
       "      <td>a_punct_pw</td>\n",
       "      <td>1.573811</td>\n",
       "    </tr>\n",
       "    <tr>\n",
       "      <th>34</th>\n",
       "      <td>a_sconj_pw</td>\n",
       "      <td>1.930035</td>\n",
       "    </tr>\n",
       "    <tr>\n",
       "      <th>35</th>\n",
       "      <td>a_sym_pw</td>\n",
       "      <td>1.350325</td>\n",
       "    </tr>\n",
       "    <tr>\n",
       "      <th>36</th>\n",
       "      <td>a_verb_pw</td>\n",
       "      <td>1.983359</td>\n",
       "    </tr>\n",
       "    <tr>\n",
       "      <th>37</th>\n",
       "      <td>a_space_pw</td>\n",
       "      <td>1.644313</td>\n",
       "    </tr>\n",
       "    <tr>\n",
       "      <th>38</th>\n",
       "      <td>a_intj_ps</td>\n",
       "      <td>3.930968</td>\n",
       "    </tr>\n",
       "    <tr>\n",
       "      <th>39</th>\n",
       "      <td>a_num_ps</td>\n",
       "      <td>1.786460</td>\n",
       "    </tr>\n",
       "    <tr>\n",
       "      <th>40</th>\n",
       "      <td>a_pron_ps</td>\n",
       "      <td>2.599982</td>\n",
       "    </tr>\n",
       "    <tr>\n",
       "      <th>41</th>\n",
       "      <td>a_propn_ps</td>\n",
       "      <td>4.975076</td>\n",
       "    </tr>\n",
       "    <tr>\n",
       "      <th>42</th>\n",
       "      <td>smog</td>\n",
       "      <td>4.437070</td>\n",
       "    </tr>\n",
       "  </tbody>\n",
       "</table>\n",
       "</div>"
      ],
      "text/plain": [
       "           Variable       VIF\n",
       "0           t_syll3  4.786301\n",
       "1         a_char_pw  3.858861\n",
       "2      simp_adj_var  2.096231\n",
       "3      simp_adv_var  1.917224\n",
       "4     simp_intj_var  2.084603\n",
       "5     simp_noun_var  2.872258\n",
       "6      simp_num_var  1.387395\n",
       "7     simp_pron_var  4.815147\n",
       "8    simp_propn_var  3.653034\n",
       "9    simp_sconj_var  3.564478\n",
       "10     simp_sym_var  1.194030\n",
       "11    simp_verb_var  3.863166\n",
       "12   simp_space_var  4.837305\n",
       "13     root_aux_var  1.406294\n",
       "14    root_part_var  2.235138\n",
       "15   root_propn_var  4.666788\n",
       "16   root_space_var  4.359582\n",
       "17     corr_adp_var  1.863053\n",
       "18   corr_cconj_var  1.409711\n",
       "19     corr_det_var  1.407035\n",
       "20    corr_pron_var  3.318409\n",
       "21   corr_punct_var  2.340203\n",
       "22   corr_sconj_var  4.427069\n",
       "23  uber_ttr_no_lem  2.430147\n",
       "24         a_adj_pw  1.896511\n",
       "25         a_adp_pw  2.238114\n",
       "26         a_adv_pw  1.854670\n",
       "27         a_aux_pw  2.096894\n",
       "28       a_cconj_pw  1.596751\n",
       "29         a_det_pw  1.852512\n",
       "30        a_intj_pw  2.627185\n",
       "31        a_noun_pw  3.021090\n",
       "32        a_part_pw  1.699244\n",
       "33       a_punct_pw  1.573811\n",
       "34       a_sconj_pw  1.930035\n",
       "35         a_sym_pw  1.350325\n",
       "36        a_verb_pw  1.983359\n",
       "37       a_space_pw  1.644313\n",
       "38        a_intj_ps  3.930968\n",
       "39         a_num_ps  1.786460\n",
       "40        a_pron_ps  2.599982\n",
       "41       a_propn_ps  4.975076\n",
       "42             smog  4.437070"
      ]
     },
     "execution_count": 34,
     "metadata": {},
     "output_type": "execute_result"
    }
   ],
   "source": [
    "vif_df"
   ]
  },
  {
   "cell_type": "code",
   "execution_count": 35,
   "metadata": {},
   "outputs": [],
   "source": [
    "vif_features = vif_df[\"Variable\"].to_list()"
   ]
  },
  {
   "cell_type": "code",
   "execution_count": 36,
   "metadata": {},
   "outputs": [],
   "source": [
    "# vif_features"
   ]
  },
  {
   "cell_type": "code",
   "execution_count": 37,
   "metadata": {},
   "outputs": [
    {
     "data": {
      "image/png": "[encoded data removed]",
      "text/plain": [
       "<Figure size 1500x1500 with 1 Axes>"
      ]
     },
     "metadata": {},
     "output_type": "display_data"
    }
   ],
   "source": [
    "mask = np.triu(np.ones_like(random_sample_features_df[vif_features].corr(), dtype=bool))\n",
    "\n",
    "plt.figure(figsize=(15, 15))\n",
    "\n",
    "\n",
    "cmap = sns.cubehelix_palette(as_cmap=True)\n",
    "sns.heatmap(random_sample_features_df[vif_features].corr(), mask = mask, linewidths=0.004, square=True, cmap = cmap, cbar = False)\n",
    "\n",
    "\n",
    "plt.title(\"Correlation of the VIF-selected Features\")\n",
    "plt.show()"
   ]
  },
  {
   "cell_type": "markdown",
   "metadata": {},
   "source": [
    "# Extracting the trimmed-down Features for the rest of the dataset"
   ]
  },
  {
   "cell_type": "code",
   "execution_count": 38,
   "metadata": {},
   "outputs": [],
   "source": [
    "data_news = data[\"text\"].to_list()\n",
    "y_data = data[\"Polarity\"].to_list()\n",
    "\n",
    "docs = [nlp(news) for news in data_news]\n",
    "\n",
    "LFTK = lftk.Extractor(docs = docs)\n",
    "LFTK.customize(stop_words = True, round_decimal = 2)\n",
    "\n",
    "data_features_extracted = LFTK.extract(features=vif_features)"
   ]
  },
  {
   "cell_type": "code",
   "execution_count": 39,
   "metadata": {},
   "outputs": [],
   "source": [
    "features_info_df = pd.DataFrame(data_features_extracted)\n",
    "data_features_extracted_df = pd.concat([pd.DataFrame(data_news, columns=[\"text\"]), \n",
    "                                        pd.DataFrame(y_data, columns=[\"Polarity\"]), \n",
    "                                        features_info_df], axis=1)"
   ]
  },
  {
   "cell_type": "code",
   "execution_count": 40,
   "metadata": {},
   "outputs": [
    {
     "data": {
      "text/plain": [
       "(6335, 45)"
      ]
     },
     "execution_count": 40,
     "metadata": {},
     "output_type": "execute_result"
    }
   ],
   "source": [
    "data_features_extracted_df.shape"
   ]
  },
  {
   "cell_type": "code",
   "execution_count": 41,
   "metadata": {},
   "outputs": [
    {
     "data": {
      "text/plain": [
       "Index(['text', 'Polarity', 't_syll3', 'a_char_pw', 'simp_adj_var',\n",
       "       'simp_adv_var', 'simp_intj_var', 'simp_noun_var', 'simp_num_var',\n",
       "       'simp_pron_var', 'simp_propn_var', 'simp_sconj_var', 'simp_sym_var',\n",
       "       'simp_verb_var', 'simp_space_var', 'root_aux_var', 'root_part_var',\n",
       "       'root_propn_var', 'root_space_var', 'corr_adp_var', 'corr_cconj_var',\n",
       "       'corr_det_var', 'corr_pron_var', 'corr_punct_var', 'corr_sconj_var',\n",
       "       'uber_ttr_no_lem', 'a_adj_pw', 'a_adp_pw', 'a_adv_pw', 'a_aux_pw',\n",
       "       'a_cconj_pw', 'a_det_pw', 'a_intj_pw', 'a_noun_pw', 'a_part_pw',\n",
       "       'a_punct_pw', 'a_sconj_pw', 'a_sym_pw', 'a_verb_pw', 'a_space_pw',\n",
       "       'a_intj_ps', 'a_num_ps', 'a_pron_ps', 'a_propn_ps', 'smog'],\n",
       "      dtype='object')"
      ]
     },
     "execution_count": 41,
     "metadata": {},
     "output_type": "execute_result"
    }
   ],
   "source": [
    "data_features_extracted_df.columns"
   ]
  },
  {
   "cell_type": "code",
   "execution_count": 42,
   "metadata": {},
   "outputs": [
    {
     "data": {
      "text/html": [
       "<div>\n",
       "<style scoped>\n",
       "    .dataframe tbody tr th:only-of-type {\n",
       "        vertical-align: middle;\n",
       "    }\n",
       "\n",
       "    .dataframe tbody tr th {\n",
       "        vertical-align: top;\n",
       "    }\n",
       "\n",
       "    .dataframe thead th {\n",
       "        text-align: right;\n",
       "    }\n",
       "</style>\n",
       "<table border=\"1\" class=\"dataframe\">\n",
       "  <thead>\n",
       "    <tr style=\"text-align: right;\">\n",
       "      <th></th>\n",
       "      <th>text</th>\n",
       "      <th>Polarity</th>\n",
       "      <th>t_syll3</th>\n",
       "      <th>a_char_pw</th>\n",
       "      <th>simp_adj_var</th>\n",
       "      <th>simp_adv_var</th>\n",
       "      <th>simp_intj_var</th>\n",
       "      <th>simp_noun_var</th>\n",
       "      <th>simp_num_var</th>\n",
       "      <th>simp_pron_var</th>\n",
       "      <th>...</th>\n",
       "      <th>a_punct_pw</th>\n",
       "      <th>a_sconj_pw</th>\n",
       "      <th>a_sym_pw</th>\n",
       "      <th>a_verb_pw</th>\n",
       "      <th>a_space_pw</th>\n",
       "      <th>a_intj_ps</th>\n",
       "      <th>a_num_ps</th>\n",
       "      <th>a_pron_ps</th>\n",
       "      <th>a_propn_ps</th>\n",
       "      <th>smog</th>\n",
       "    </tr>\n",
       "  </thead>\n",
       "  <tbody>\n",
       "    <tr>\n",
       "      <th>0</th>\n",
       "      <td>You Can Smell Hillary’s FearDaniel Greenfield,...</td>\n",
       "      <td>0</td>\n",
       "      <td>56</td>\n",
       "      <td>4.22</td>\n",
       "      <td>0.80</td>\n",
       "      <td>0.66</td>\n",
       "      <td>0.0</td>\n",
       "      <td>0.66</td>\n",
       "      <td>0.60</td>\n",
       "      <td>0.17</td>\n",
       "      <td>...</td>\n",
       "      <td>0.08</td>\n",
       "      <td>0.02</td>\n",
       "      <td>0.0</td>\n",
       "      <td>0.11</td>\n",
       "      <td>0.02</td>\n",
       "      <td>0.00</td>\n",
       "      <td>0.06</td>\n",
       "      <td>1.39</td>\n",
       "      <td>1.77</td>\n",
       "      <td>4.58</td>\n",
       "    </tr>\n",
       "    <tr>\n",
       "      <th>1</th>\n",
       "      <td>Watch The Exact Moment Paul Ryan Committed Pol...</td>\n",
       "      <td>0</td>\n",
       "      <td>21</td>\n",
       "      <td>4.67</td>\n",
       "      <td>0.97</td>\n",
       "      <td>0.96</td>\n",
       "      <td>0.0</td>\n",
       "      <td>0.90</td>\n",
       "      <td>0.67</td>\n",
       "      <td>0.33</td>\n",
       "      <td>...</td>\n",
       "      <td>0.13</td>\n",
       "      <td>0.02</td>\n",
       "      <td>0.0</td>\n",
       "      <td>0.14</td>\n",
       "      <td>0.02</td>\n",
       "      <td>0.00</td>\n",
       "      <td>0.35</td>\n",
       "      <td>1.62</td>\n",
       "      <td>2.35</td>\n",
       "      <td>5.13</td>\n",
       "    </tr>\n",
       "    <tr>\n",
       "      <th>2</th>\n",
       "      <td>Kerry to go to Paris in gesture of sympathyU.S...</td>\n",
       "      <td>1</td>\n",
       "      <td>16</td>\n",
       "      <td>4.67</td>\n",
       "      <td>0.90</td>\n",
       "      <td>0.92</td>\n",
       "      <td>0.0</td>\n",
       "      <td>0.76</td>\n",
       "      <td>0.50</td>\n",
       "      <td>0.41</td>\n",
       "      <td>...</td>\n",
       "      <td>0.09</td>\n",
       "      <td>0.03</td>\n",
       "      <td>0.0</td>\n",
       "      <td>0.12</td>\n",
       "      <td>0.02</td>\n",
       "      <td>0.00</td>\n",
       "      <td>0.12</td>\n",
       "      <td>1.71</td>\n",
       "      <td>4.59</td>\n",
       "      <td>5.54</td>\n",
       "    </tr>\n",
       "    <tr>\n",
       "      <th>3</th>\n",
       "      <td>Bernie supporters on Twitter erupt in anger ag...</td>\n",
       "      <td>0</td>\n",
       "      <td>27</td>\n",
       "      <td>5.09</td>\n",
       "      <td>0.84</td>\n",
       "      <td>1.00</td>\n",
       "      <td>0.0</td>\n",
       "      <td>0.77</td>\n",
       "      <td>0.48</td>\n",
       "      <td>0.67</td>\n",
       "      <td>...</td>\n",
       "      <td>0.18</td>\n",
       "      <td>0.01</td>\n",
       "      <td>0.0</td>\n",
       "      <td>0.10</td>\n",
       "      <td>0.03</td>\n",
       "      <td>0.00</td>\n",
       "      <td>1.21</td>\n",
       "      <td>0.95</td>\n",
       "      <td>4.58</td>\n",
       "      <td>6.81</td>\n",
       "    </tr>\n",
       "    <tr>\n",
       "      <th>4</th>\n",
       "      <td>The Battle of New York: Why This Primary Matte...</td>\n",
       "      <td>1</td>\n",
       "      <td>11</td>\n",
       "      <td>4.31</td>\n",
       "      <td>0.85</td>\n",
       "      <td>0.92</td>\n",
       "      <td>0.0</td>\n",
       "      <td>0.65</td>\n",
       "      <td>1.00</td>\n",
       "      <td>0.43</td>\n",
       "      <td>...</td>\n",
       "      <td>0.15</td>\n",
       "      <td>0.02</td>\n",
       "      <td>0.0</td>\n",
       "      <td>0.12</td>\n",
       "      <td>0.03</td>\n",
       "      <td>0.00</td>\n",
       "      <td>0.38</td>\n",
       "      <td>1.00</td>\n",
       "      <td>2.76</td>\n",
       "      <td>4.13</td>\n",
       "    </tr>\n",
       "    <tr>\n",
       "      <th>5</th>\n",
       "      <td>Tehran, USA  \\nI’m not an immigrant, but my gr...</td>\n",
       "      <td>0</td>\n",
       "      <td>121</td>\n",
       "      <td>4.44</td>\n",
       "      <td>0.62</td>\n",
       "      <td>0.54</td>\n",
       "      <td>0.0</td>\n",
       "      <td>0.63</td>\n",
       "      <td>0.90</td>\n",
       "      <td>0.09</td>\n",
       "      <td>...</td>\n",
       "      <td>0.15</td>\n",
       "      <td>0.02</td>\n",
       "      <td>0.0</td>\n",
       "      <td>0.13</td>\n",
       "      <td>0.01</td>\n",
       "      <td>0.00</td>\n",
       "      <td>0.19</td>\n",
       "      <td>2.91</td>\n",
       "      <td>1.61</td>\n",
       "      <td>6.16</td>\n",
       "    </tr>\n",
       "    <tr>\n",
       "      <th>6</th>\n",
       "      <td>Girl Horrified At What She Watches Boyfriend D...</td>\n",
       "      <td>0</td>\n",
       "      <td>12</td>\n",
       "      <td>4.44</td>\n",
       "      <td>0.95</td>\n",
       "      <td>0.86</td>\n",
       "      <td>1.0</td>\n",
       "      <td>0.74</td>\n",
       "      <td>1.00</td>\n",
       "      <td>0.28</td>\n",
       "      <td>...</td>\n",
       "      <td>0.12</td>\n",
       "      <td>0.04</td>\n",
       "      <td>0.0</td>\n",
       "      <td>0.16</td>\n",
       "      <td>0.01</td>\n",
       "      <td>0.10</td>\n",
       "      <td>0.20</td>\n",
       "      <td>4.00</td>\n",
       "      <td>1.90</td>\n",
       "      <td>4.43</td>\n",
       "    </tr>\n",
       "    <tr>\n",
       "      <th>7</th>\n",
       "      <td>‘Britain’s Schindler’ Dies at 106A Czech stock...</td>\n",
       "      <td>1</td>\n",
       "      <td>6</td>\n",
       "      <td>5.17</td>\n",
       "      <td>0.83</td>\n",
       "      <td>1.00</td>\n",
       "      <td>0.0</td>\n",
       "      <td>0.75</td>\n",
       "      <td>0.89</td>\n",
       "      <td>0.80</td>\n",
       "      <td>...</td>\n",
       "      <td>0.14</td>\n",
       "      <td>0.03</td>\n",
       "      <td>0.0</td>\n",
       "      <td>0.15</td>\n",
       "      <td>0.00</td>\n",
       "      <td>0.00</td>\n",
       "      <td>1.80</td>\n",
       "      <td>1.00</td>\n",
       "      <td>4.60</td>\n",
       "      <td>6.26</td>\n",
       "    </tr>\n",
       "    <tr>\n",
       "      <th>8</th>\n",
       "      <td>Fact check: Trump and Clinton at the 'commande...</td>\n",
       "      <td>1</td>\n",
       "      <td>80</td>\n",
       "      <td>4.52</td>\n",
       "      <td>0.57</td>\n",
       "      <td>0.59</td>\n",
       "      <td>1.0</td>\n",
       "      <td>0.43</td>\n",
       "      <td>0.71</td>\n",
       "      <td>0.16</td>\n",
       "      <td>...</td>\n",
       "      <td>0.15</td>\n",
       "      <td>0.04</td>\n",
       "      <td>0.0</td>\n",
       "      <td>0.13</td>\n",
       "      <td>0.03</td>\n",
       "      <td>0.01</td>\n",
       "      <td>0.42</td>\n",
       "      <td>1.39</td>\n",
       "      <td>4.02</td>\n",
       "      <td>5.08</td>\n",
       "    </tr>\n",
       "    <tr>\n",
       "      <th>9</th>\n",
       "      <td>Iran reportedly makes new push for uranium con...</td>\n",
       "      <td>1</td>\n",
       "      <td>27</td>\n",
       "      <td>4.82</td>\n",
       "      <td>0.67</td>\n",
       "      <td>0.84</td>\n",
       "      <td>0.0</td>\n",
       "      <td>0.60</td>\n",
       "      <td>0.87</td>\n",
       "      <td>0.33</td>\n",
       "      <td>...</td>\n",
       "      <td>0.09</td>\n",
       "      <td>0.03</td>\n",
       "      <td>0.0</td>\n",
       "      <td>0.13</td>\n",
       "      <td>0.02</td>\n",
       "      <td>0.00</td>\n",
       "      <td>0.47</td>\n",
       "      <td>0.84</td>\n",
       "      <td>2.88</td>\n",
       "      <td>5.25</td>\n",
       "    </tr>\n",
       "  </tbody>\n",
       "</table>\n",
       "<p>10 rows × 45 columns</p>\n",
       "</div>"
      ],
      "text/plain": [
       "                                                text  Polarity  t_syll3  \\\n",
       "0  You Can Smell Hillary’s FearDaniel Greenfield,...         0       56   \n",
       "1  Watch The Exact Moment Paul Ryan Committed Pol...         0       21   \n",
       "2  Kerry to go to Paris in gesture of sympathyU.S...         1       16   \n",
       "3  Bernie supporters on Twitter erupt in anger ag...         0       27   \n",
       "4  The Battle of New York: Why This Primary Matte...         1       11   \n",
       "5  Tehran, USA  \\nI’m not an immigrant, but my gr...         0      121   \n",
       "6  Girl Horrified At What She Watches Boyfriend D...         0       12   \n",
       "7  ‘Britain’s Schindler’ Dies at 106A Czech stock...         1        6   \n",
       "8  Fact check: Trump and Clinton at the 'commande...         1       80   \n",
       "9  Iran reportedly makes new push for uranium con...         1       27   \n",
       "\n",
       "   a_char_pw  simp_adj_var  simp_adv_var  simp_intj_var  simp_noun_var  \\\n",
       "0       4.22          0.80          0.66            0.0           0.66   \n",
       "1       4.67          0.97          0.96            0.0           0.90   \n",
       "2       4.67          0.90          0.92            0.0           0.76   \n",
       "3       5.09          0.84          1.00            0.0           0.77   \n",
       "4       4.31          0.85          0.92            0.0           0.65   \n",
       "5       4.44          0.62          0.54            0.0           0.63   \n",
       "6       4.44          0.95          0.86            1.0           0.74   \n",
       "7       5.17          0.83          1.00            0.0           0.75   \n",
       "8       4.52          0.57          0.59            1.0           0.43   \n",
       "9       4.82          0.67          0.84            0.0           0.60   \n",
       "\n",
       "   simp_num_var  simp_pron_var  ...  a_punct_pw  a_sconj_pw  a_sym_pw  \\\n",
       "0          0.60           0.17  ...        0.08        0.02       0.0   \n",
       "1          0.67           0.33  ...        0.13        0.02       0.0   \n",
       "2          0.50           0.41  ...        0.09        0.03       0.0   \n",
       "3          0.48           0.67  ...        0.18        0.01       0.0   \n",
       "4          1.00           0.43  ...        0.15        0.02       0.0   \n",
       "5          0.90           0.09  ...        0.15        0.02       0.0   \n",
       "6          1.00           0.28  ...        0.12        0.04       0.0   \n",
       "7          0.89           0.80  ...        0.14        0.03       0.0   \n",
       "8          0.71           0.16  ...        0.15        0.04       0.0   \n",
       "9          0.87           0.33  ...        0.09        0.03       0.0   \n",
       "\n",
       "   a_verb_pw  a_space_pw  a_intj_ps  a_num_ps  a_pron_ps  a_propn_ps  smog  \n",
       "0       0.11        0.02       0.00      0.06       1.39        1.77  4.58  \n",
       "1       0.14        0.02       0.00      0.35       1.62        2.35  5.13  \n",
       "2       0.12        0.02       0.00      0.12       1.71        4.59  5.54  \n",
       "3       0.10        0.03       0.00      1.21       0.95        4.58  6.81  \n",
       "4       0.12        0.03       0.00      0.38       1.00        2.76  4.13  \n",
       "5       0.13        0.01       0.00      0.19       2.91        1.61  6.16  \n",
       "6       0.16        0.01       0.10      0.20       4.00        1.90  4.43  \n",
       "7       0.15        0.00       0.00      1.80       1.00        4.60  6.26  \n",
       "8       0.13        0.03       0.01      0.42       1.39        4.02  5.08  \n",
       "9       0.13        0.02       0.00      0.47       0.84        2.88  5.25  \n",
       "\n",
       "[10 rows x 45 columns]"
      ]
     },
     "execution_count": 42,
     "metadata": {},
     "output_type": "execute_result"
    }
   ],
   "source": [
    "data_features_extracted_df.head(10)"
   ]
  },
  {
   "cell_type": "code",
   "execution_count": 43,
   "metadata": {},
   "outputs": [],
   "source": [
    "data_features_extracted_df.to_csv(r\"Datasets/Processed Data/data_features_extracted_df.csv\", index=False)"
   ]
  }
 ],
 "metadata": {
  "colab": {
   "provenance": []
  },
  "kernelspec": {
   "display_name": "Python 3",
   "name": "python3"
  },
  "language_info": {
   "codemirror_mode": {
    "name": "ipython",
    "version": 3
   },
   "file_extension": ".py",
   "mimetype": "text/x-python",
   "name": "python",
   "nbconvert_exporter": "python",
   "pygments_lexer": "ipython3",
   "version": "3.12.0"
  }
 },
 "nbformat": 4,
 "nbformat_minor": 0
}
