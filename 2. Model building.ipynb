{
 "cells": [
  {
   "cell_type": "code",
   "execution_count": 1,
   "metadata": {},
   "outputs": [],
   "source": [
    "import pandas as pd\n",
    "import numpy as np\n",
    "import matplotlib.pyplot as plt \n",
    "import seaborn as sns\n"
   ]
  },
  {
   "cell_type": "code",
   "execution_count": 2,
   "metadata": {},
   "outputs": [],
   "source": [
    "data_df = pd.read_csv(\"news_ling_features.csv\")"
   ]
  },
  {
   "cell_type": "code",
   "execution_count": 3,
   "metadata": {},
   "outputs": [
    {
     "data": {
      "text/html": [
       "<div>\n",
       "<style scoped>\n",
       "    .dataframe tbody tr th:only-of-type {\n",
       "        vertical-align: middle;\n",
       "    }\n",
       "\n",
       "    .dataframe tbody tr th {\n",
       "        vertical-align: top;\n",
       "    }\n",
       "\n",
       "    .dataframe thead th {\n",
       "        text-align: right;\n",
       "    }\n",
       "</style>\n",
       "<table border=\"1\" class=\"dataframe\">\n",
       "  <thead>\n",
       "    <tr style=\"text-align: right;\">\n",
       "      <th></th>\n",
       "      <th>text</th>\n",
       "      <th>Polarity</th>\n",
       "      <th>t_syll3</th>\n",
       "      <th>a_char_pw</th>\n",
       "      <th>simp_adj_var</th>\n",
       "      <th>simp_adv_var</th>\n",
       "      <th>simp_intj_var</th>\n",
       "      <th>simp_noun_var</th>\n",
       "      <th>simp_num_var</th>\n",
       "      <th>simp_pron_var</th>\n",
       "      <th>...</th>\n",
       "      <th>a_punct_pw</th>\n",
       "      <th>a_sconj_pw</th>\n",
       "      <th>a_sym_pw</th>\n",
       "      <th>a_verb_pw</th>\n",
       "      <th>a_space_pw</th>\n",
       "      <th>a_intj_ps</th>\n",
       "      <th>a_num_ps</th>\n",
       "      <th>a_pron_ps</th>\n",
       "      <th>a_propn_ps</th>\n",
       "      <th>smog</th>\n",
       "    </tr>\n",
       "  </thead>\n",
       "  <tbody>\n",
       "    <tr>\n",
       "      <th>0</th>\n",
       "      <td>You Can Smell Hillary’s FearDaniel Greenfield,...</td>\n",
       "      <td>0</td>\n",
       "      <td>56</td>\n",
       "      <td>4.22</td>\n",
       "      <td>0.80</td>\n",
       "      <td>0.66</td>\n",
       "      <td>0.0</td>\n",
       "      <td>0.66</td>\n",
       "      <td>0.60</td>\n",
       "      <td>0.17</td>\n",
       "      <td>...</td>\n",
       "      <td>0.08</td>\n",
       "      <td>0.02</td>\n",
       "      <td>0.0</td>\n",
       "      <td>0.11</td>\n",
       "      <td>0.02</td>\n",
       "      <td>0.0</td>\n",
       "      <td>0.06</td>\n",
       "      <td>1.39</td>\n",
       "      <td>1.77</td>\n",
       "      <td>4.58</td>\n",
       "    </tr>\n",
       "    <tr>\n",
       "      <th>1</th>\n",
       "      <td>Watch The Exact Moment Paul Ryan Committed Pol...</td>\n",
       "      <td>0</td>\n",
       "      <td>21</td>\n",
       "      <td>4.67</td>\n",
       "      <td>0.97</td>\n",
       "      <td>0.96</td>\n",
       "      <td>0.0</td>\n",
       "      <td>0.90</td>\n",
       "      <td>0.67</td>\n",
       "      <td>0.33</td>\n",
       "      <td>...</td>\n",
       "      <td>0.13</td>\n",
       "      <td>0.02</td>\n",
       "      <td>0.0</td>\n",
       "      <td>0.14</td>\n",
       "      <td>0.02</td>\n",
       "      <td>0.0</td>\n",
       "      <td>0.35</td>\n",
       "      <td>1.62</td>\n",
       "      <td>2.35</td>\n",
       "      <td>5.13</td>\n",
       "    </tr>\n",
       "    <tr>\n",
       "      <th>2</th>\n",
       "      <td>Kerry to go to Paris in gesture of sympathyU.S...</td>\n",
       "      <td>1</td>\n",
       "      <td>16</td>\n",
       "      <td>4.67</td>\n",
       "      <td>0.90</td>\n",
       "      <td>0.92</td>\n",
       "      <td>0.0</td>\n",
       "      <td>0.76</td>\n",
       "      <td>0.50</td>\n",
       "      <td>0.41</td>\n",
       "      <td>...</td>\n",
       "      <td>0.09</td>\n",
       "      <td>0.03</td>\n",
       "      <td>0.0</td>\n",
       "      <td>0.12</td>\n",
       "      <td>0.02</td>\n",
       "      <td>0.0</td>\n",
       "      <td>0.12</td>\n",
       "      <td>1.71</td>\n",
       "      <td>4.59</td>\n",
       "      <td>5.54</td>\n",
       "    </tr>\n",
       "    <tr>\n",
       "      <th>3</th>\n",
       "      <td>Bernie supporters on Twitter erupt in anger ag...</td>\n",
       "      <td>0</td>\n",
       "      <td>27</td>\n",
       "      <td>5.09</td>\n",
       "      <td>0.84</td>\n",
       "      <td>1.00</td>\n",
       "      <td>0.0</td>\n",
       "      <td>0.77</td>\n",
       "      <td>0.48</td>\n",
       "      <td>0.67</td>\n",
       "      <td>...</td>\n",
       "      <td>0.18</td>\n",
       "      <td>0.01</td>\n",
       "      <td>0.0</td>\n",
       "      <td>0.10</td>\n",
       "      <td>0.03</td>\n",
       "      <td>0.0</td>\n",
       "      <td>1.21</td>\n",
       "      <td>0.95</td>\n",
       "      <td>4.58</td>\n",
       "      <td>6.81</td>\n",
       "    </tr>\n",
       "    <tr>\n",
       "      <th>4</th>\n",
       "      <td>The Battle of New York: Why This Primary Matte...</td>\n",
       "      <td>1</td>\n",
       "      <td>11</td>\n",
       "      <td>4.31</td>\n",
       "      <td>0.85</td>\n",
       "      <td>0.92</td>\n",
       "      <td>0.0</td>\n",
       "      <td>0.65</td>\n",
       "      <td>1.00</td>\n",
       "      <td>0.43</td>\n",
       "      <td>...</td>\n",
       "      <td>0.15</td>\n",
       "      <td>0.02</td>\n",
       "      <td>0.0</td>\n",
       "      <td>0.12</td>\n",
       "      <td>0.03</td>\n",
       "      <td>0.0</td>\n",
       "      <td>0.38</td>\n",
       "      <td>1.00</td>\n",
       "      <td>2.76</td>\n",
       "      <td>4.13</td>\n",
       "    </tr>\n",
       "  </tbody>\n",
       "</table>\n",
       "<p>5 rows × 45 columns</p>\n",
       "</div>"
      ],
      "text/plain": [
       "                                                text  Polarity  t_syll3  \\\n",
       "0  You Can Smell Hillary’s FearDaniel Greenfield,...         0       56   \n",
       "1  Watch The Exact Moment Paul Ryan Committed Pol...         0       21   \n",
       "2  Kerry to go to Paris in gesture of sympathyU.S...         1       16   \n",
       "3  Bernie supporters on Twitter erupt in anger ag...         0       27   \n",
       "4  The Battle of New York: Why This Primary Matte...         1       11   \n",
       "\n",
       "   a_char_pw  simp_adj_var  simp_adv_var  simp_intj_var  simp_noun_var  \\\n",
       "0       4.22          0.80          0.66            0.0           0.66   \n",
       "1       4.67          0.97          0.96            0.0           0.90   \n",
       "2       4.67          0.90          0.92            0.0           0.76   \n",
       "3       5.09          0.84          1.00            0.0           0.77   \n",
       "4       4.31          0.85          0.92            0.0           0.65   \n",
       "\n",
       "   simp_num_var  simp_pron_var  ...  a_punct_pw  a_sconj_pw  a_sym_pw  \\\n",
       "0          0.60           0.17  ...        0.08        0.02       0.0   \n",
       "1          0.67           0.33  ...        0.13        0.02       0.0   \n",
       "2          0.50           0.41  ...        0.09        0.03       0.0   \n",
       "3          0.48           0.67  ...        0.18        0.01       0.0   \n",
       "4          1.00           0.43  ...        0.15        0.02       0.0   \n",
       "\n",
       "   a_verb_pw  a_space_pw  a_intj_ps  a_num_ps  a_pron_ps  a_propn_ps  smog  \n",
       "0       0.11        0.02        0.0      0.06       1.39        1.77  4.58  \n",
       "1       0.14        0.02        0.0      0.35       1.62        2.35  5.13  \n",
       "2       0.12        0.02        0.0      0.12       1.71        4.59  5.54  \n",
       "3       0.10        0.03        0.0      1.21       0.95        4.58  6.81  \n",
       "4       0.12        0.03        0.0      0.38       1.00        2.76  4.13  \n",
       "\n",
       "[5 rows x 45 columns]"
      ]
     },
     "execution_count": 3,
     "metadata": {},
     "output_type": "execute_result"
    }
   ],
   "source": [
    "data_df.head()"
   ]
  },
  {
   "cell_type": "code",
   "execution_count": 4,
   "metadata": {},
   "outputs": [],
   "source": [
    "# getting the feature info dictionaries for reference\n",
    "\n",
    "import lftk\n",
    "\n",
    "features = lftk.search_features(return_format=\"list_dict\")"
   ]
  },
  {
   "cell_type": "markdown",
   "metadata": {},
   "source": [
    "no permutation as feature selection since with colinear features, the info will be obtainable with a different feature"
   ]
  },
  {
   "cell_type": "code",
   "execution_count": 5,
   "metadata": {},
   "outputs": [],
   "source": [
    "from sklearn.ensemble import RandomForestClassifier, GradientBoostingClassifier, AdaBoostClassifier\n",
    "\n",
    "from sklearn.preprocessing import StandardScaler\n",
    "\n",
    "from sklearn.pipeline import make_pipeline\n",
    "\n",
    "from yellowbrick.model_selection import rfecv\n",
    "from sklearn.decomposition import PCA\n",
    "\n",
    "from sklearn.model_selection import train_test_split\n",
    "\n",
    "from sklearn.model_selection import cross_val_score\n",
    "from sklearn.model_selection import cross_validate\n",
    "from sklearn.model_selection import StratifiedKFold\n",
    "\n",
    "from sklearn.metrics import f1_score, precision_score, recall_score, roc_auc_score"
   ]
  },
  {
   "cell_type": "markdown",
   "metadata": {},
   "source": [
    "workflow: \n",
    "- initialize standard basic default models\n",
    "- determine PCA hyperparams - 33 components\n",
    "- make 2 pipelines: \n",
    "        pipe 1: scale, pca, train test\n",
    "        pipe 2: scale feature selection, trian test\n",
    "- compare the perf of the models\n",
    "- select 1\n",
    "- hyper param tuning"
   ]
  },
  {
   "cell_type": "code",
   "execution_count": 6,
   "metadata": {},
   "outputs": [],
   "source": [
    "scaler = StandardScaler()\n",
    "\n",
    "X = data_df.drop([\"text\", \"Polarity\"], axis=1)\n",
    "X_stand = scaler.fit_transform(X)\n",
    "\n",
    "y = data_df[\"Polarity\"]"
   ]
  },
  {
   "cell_type": "markdown",
   "metadata": {},
   "source": [
    "## PCA"
   ]
  },
  {
   "cell_type": "code",
   "execution_count": 7,
   "metadata": {},
   "outputs": [],
   "source": [
    "pca = PCA(random_state=42)\n",
    "scaler = StandardScaler()\n",
    "\n",
    "pca_fit = pca.fit(X_stand)\n",
    "cum_explained_ratio = np.cumsum(pca_fit.explained_variance_ratio_)"
   ]
  },
  {
   "cell_type": "code",
   "execution_count": 8,
   "metadata": {},
   "outputs": [
    {
     "data": {
      "image/png": "[encoded data removed]",
      "text/plain": [
       "<Figure size 800x550 with 1 Axes>"
      ]
     },
     "metadata": {},
     "output_type": "display_data"
    }
   ],
   "source": [
    "plt.plot(cum_explained_ratio)\n",
    "\n",
    "plt.axhline(y = 0.95, color = 'r', linestyle = '-')\n",
    "plt.axvline(x = 33, color = 'r', linestyle = '-')\n",
    "plt.xticks(ticks=np.arange(0, len(cum_explained_ratio), step=1))\n",
    "\n",
    "plt.title(\"Optimal number of Components\")\n",
    "plt.xlabel('Number of components')\n",
    "plt.ylabel('Cumulative explained variance')\n",
    "plt.show()"
   ]
  },
  {
   "cell_type": "markdown",
   "metadata": {},
   "source": [
    "## Recursive Feature Elimination"
   ]
  },
  {
   "cell_type": "code",
   "execution_count": 13,
   "metadata": {},
   "outputs": [
    {
     "data": {
      "image/png": "[encoded data removed]",
      "text/plain": [
       "<Figure size 800x550 with 1 Axes>"
      ]
     },
     "metadata": {},
     "output_type": "display_data"
    }
   ],
   "source": [
    "rfecv = rfecv(RandomForestClassifier(random_state=42), X_stand, y, scoring=\"f1_weighted\")"
   ]
  },
  {
   "cell_type": "markdown",
   "metadata": {},
   "source": [
    "*workflow from here onwards works with rfecv from sklearn, check that yellowbrick is the same in terms of attributes"
   ]
  },
  {
   "cell_type": "code",
   "execution_count": 9,
   "metadata": {},
   "outputs": [],
   "source": [
    "from sklearn.feature_selection import RFE\n",
    "rfe = RFE(RandomForestClassifier(random_state=42), n_features_to_select=7)"
   ]
  },
  {
   "cell_type": "code",
   "execution_count": 10,
   "metadata": {},
   "outputs": [
    {
     "data": {
      "text/html": [
       "<style>#sk-container-id-1 {\n",
       "  /* Definition of color scheme common for light and dark mode */\n",
       "  --sklearn-color-text: black;\n",
       "  --sklearn-color-line: gray;\n",
       "  /* Definition of color scheme for unfitted estimators */\n",
       "  --sklearn-color-unfitted-level-0: #fff5e6;\n",
       "  --sklearn-color-unfitted-level-1: #f6e4d2;\n",
       "  --sklearn-color-unfitted-level-2: #ffe0b3;\n",
       "  --sklearn-color-unfitted-level-3: chocolate;\n",
       "  /* Definition of color scheme for fitted estimators */\n",
       "  --sklearn-color-fitted-level-0: #f0f8ff;\n",
       "  --sklearn-color-fitted-level-1: #d4ebff;\n",
       "  --sklearn-color-fitted-level-2: #b3dbfd;\n",
       "  --sklearn-color-fitted-level-3: cornflowerblue;\n",
       "\n",
       "  /* Specific color for light theme */\n",
       "  --sklearn-color-text-on-default-background: var(--sg-text-color, var(--theme-code-foreground, var(--jp-content-font-color1, black)));\n",
       "  --sklearn-color-background: var(--sg-background-color, var(--theme-background, var(--jp-layout-color0, white)));\n",
       "  --sklearn-color-border-box: var(--sg-text-color, var(--theme-code-foreground, var(--jp-content-font-color1, black)));\n",
       "  --sklearn-color-icon: #696969;\n",
       "\n",
       "  @media (prefers-color-scheme: dark) {\n",
       "    /* Redefinition of color scheme for dark theme */\n",
       "    --sklearn-color-text-on-default-background: var(--sg-text-color, var(--theme-code-foreground, var(--jp-content-font-color1, white)));\n",
       "    --sklearn-color-background: var(--sg-background-color, var(--theme-background, var(--jp-layout-color0, #111)));\n",
       "    --sklearn-color-border-box: var(--sg-text-color, var(--theme-code-foreground, var(--jp-content-font-color1, white)));\n",
       "    --sklearn-color-icon: #878787;\n",
       "  }\n",
       "}\n",
       "\n",
       "#sk-container-id-1 {\n",
       "  color: var(--sklearn-color-text);\n",
       "}\n",
       "\n",
       "#sk-container-id-1 pre {\n",
       "  padding: 0;\n",
       "}\n",
       "\n",
       "#sk-container-id-1 input.sk-hidden--visually {\n",
       "  border: 0;\n",
       "  clip: rect(1px 1px 1px 1px);\n",
       "  clip: rect(1px, 1px, 1px, 1px);\n",
       "  height: 1px;\n",
       "  margin: -1px;\n",
       "  overflow: hidden;\n",
       "  padding: 0;\n",
       "  position: absolute;\n",
       "  width: 1px;\n",
       "}\n",
       "\n",
       "#sk-container-id-1 div.sk-dashed-wrapped {\n",
       "  border: 1px dashed var(--sklearn-color-line);\n",
       "  margin: 0 0.4em 0.5em 0.4em;\n",
       "  box-sizing: border-box;\n",
       "  padding-bottom: 0.4em;\n",
       "  background-color: var(--sklearn-color-background);\n",
       "}\n",
       "\n",
       "#sk-container-id-1 div.sk-container {\n",
       "  /* jupyter's `normalize.less` sets `[hidden] { display: none; }`\n",
       "     but bootstrap.min.css set `[hidden] { display: none !important; }`\n",
       "     so we also need the `!important` here to be able to override the\n",
       "     default hidden behavior on the sphinx rendered scikit-learn.org.\n",
       "     See: https://github.com/scikit-learn/scikit-learn/issues/21755 */\n",
       "  display: inline-block !important;\n",
       "  position: relative;\n",
       "}\n",
       "\n",
       "#sk-container-id-1 div.sk-text-repr-fallback {\n",
       "  display: none;\n",
       "}\n",
       "\n",
       "div.sk-parallel-item,\n",
       "div.sk-serial,\n",
       "div.sk-item {\n",
       "  /* draw centered vertical line to link estimators */\n",
       "  background-image: linear-gradient(var(--sklearn-color-text-on-default-background), var(--sklearn-color-text-on-default-background));\n",
       "  background-size: 2px 100%;\n",
       "  background-repeat: no-repeat;\n",
       "  background-position: center center;\n",
       "}\n",
       "\n",
       "/* Parallel-specific style estimator block */\n",
       "\n",
       "#sk-container-id-1 div.sk-parallel-item::after {\n",
       "  content: \"\";\n",
       "  width: 100%;\n",
       "  border-bottom: 2px solid var(--sklearn-color-text-on-default-background);\n",
       "  flex-grow: 1;\n",
       "}\n",
       "\n",
       "#sk-container-id-1 div.sk-parallel {\n",
       "  display: flex;\n",
       "  align-items: stretch;\n",
       "  justify-content: center;\n",
       "  background-color: var(--sklearn-color-background);\n",
       "  position: relative;\n",
       "}\n",
       "\n",
       "#sk-container-id-1 div.sk-parallel-item {\n",
       "  display: flex;\n",
       "  flex-direction: column;\n",
       "}\n",
       "\n",
       "#sk-container-id-1 div.sk-parallel-item:first-child::after {\n",
       "  align-self: flex-end;\n",
       "  width: 50%;\n",
       "}\n",
       "\n",
       "#sk-container-id-1 div.sk-parallel-item:last-child::after {\n",
       "  align-self: flex-start;\n",
       "  width: 50%;\n",
       "}\n",
       "\n",
       "#sk-container-id-1 div.sk-parallel-item:only-child::after {\n",
       "  width: 0;\n",
       "}\n",
       "\n",
       "/* Serial-specific style estimator block */\n",
       "\n",
       "#sk-container-id-1 div.sk-serial {\n",
       "  display: flex;\n",
       "  flex-direction: column;\n",
       "  align-items: center;\n",
       "  background-color: var(--sklearn-color-background);\n",
       "  padding-right: 1em;\n",
       "  padding-left: 1em;\n",
       "}\n",
       "\n",
       "\n",
       "/* Toggleable style: style used for estimator/Pipeline/ColumnTransformer box that is\n",
       "clickable and can be expanded/collapsed.\n",
       "- Pipeline and ColumnTransformer use this feature and define the default style\n",
       "- Estimators will overwrite some part of the style using the `sk-estimator` class\n",
       "*/\n",
       "\n",
       "/* Pipeline and ColumnTransformer style (default) */\n",
       "\n",
       "#sk-container-id-1 div.sk-toggleable {\n",
       "  /* Default theme specific background. It is overwritten whether we have a\n",
       "  specific estimator or a Pipeline/ColumnTransformer */\n",
       "  background-color: var(--sklearn-color-background);\n",
       "}\n",
       "\n",
       "/* Toggleable label */\n",
       "#sk-container-id-1 label.sk-toggleable__label {\n",
       "  cursor: pointer;\n",
       "  display: block;\n",
       "  width: 100%;\n",
       "  margin-bottom: 0;\n",
       "  padding: 0.5em;\n",
       "  box-sizing: border-box;\n",
       "  text-align: center;\n",
       "}\n",
       "\n",
       "#sk-container-id-1 label.sk-toggleable__label-arrow:before {\n",
       "  /* Arrow on the left of the label */\n",
       "  content: \"▸\";\n",
       "  float: left;\n",
       "  margin-right: 0.25em;\n",
       "  color: var(--sklearn-color-icon);\n",
       "}\n",
       "\n",
       "#sk-container-id-1 label.sk-toggleable__label-arrow:hover:before {\n",
       "  color: var(--sklearn-color-text);\n",
       "}\n",
       "\n",
       "/* Toggleable content - dropdown */\n",
       "\n",
       "#sk-container-id-1 div.sk-toggleable__content {\n",
       "  max-height: 0;\n",
       "  max-width: 0;\n",
       "  overflow: hidden;\n",
       "  text-align: left;\n",
       "  /* unfitted */\n",
       "  background-color: var(--sklearn-color-unfitted-level-0);\n",
       "}\n",
       "\n",
       "#sk-container-id-1 div.sk-toggleable__content.fitted {\n",
       "  /* fitted */\n",
       "  background-color: var(--sklearn-color-fitted-level-0);\n",
       "}\n",
       "\n",
       "#sk-container-id-1 div.sk-toggleable__content pre {\n",
       "  margin: 0.2em;\n",
       "  border-radius: 0.25em;\n",
       "  color: var(--sklearn-color-text);\n",
       "  /* unfitted */\n",
       "  background-color: var(--sklearn-color-unfitted-level-0);\n",
       "}\n",
       "\n",
       "#sk-container-id-1 div.sk-toggleable__content.fitted pre {\n",
       "  /* unfitted */\n",
       "  background-color: var(--sklearn-color-fitted-level-0);\n",
       "}\n",
       "\n",
       "#sk-container-id-1 input.sk-toggleable__control:checked~div.sk-toggleable__content {\n",
       "  /* Expand drop-down */\n",
       "  max-height: 200px;\n",
       "  max-width: 100%;\n",
       "  overflow: auto;\n",
       "}\n",
       "\n",
       "#sk-container-id-1 input.sk-toggleable__control:checked~label.sk-toggleable__label-arrow:before {\n",
       "  content: \"▾\";\n",
       "}\n",
       "\n",
       "/* Pipeline/ColumnTransformer-specific style */\n",
       "\n",
       "#sk-container-id-1 div.sk-label input.sk-toggleable__control:checked~label.sk-toggleable__label {\n",
       "  color: var(--sklearn-color-text);\n",
       "  background-color: var(--sklearn-color-unfitted-level-2);\n",
       "}\n",
       "\n",
       "#sk-container-id-1 div.sk-label.fitted input.sk-toggleable__control:checked~label.sk-toggleable__label {\n",
       "  background-color: var(--sklearn-color-fitted-level-2);\n",
       "}\n",
       "\n",
       "/* Estimator-specific style */\n",
       "\n",
       "/* Colorize estimator box */\n",
       "#sk-container-id-1 div.sk-estimator input.sk-toggleable__control:checked~label.sk-toggleable__label {\n",
       "  /* unfitted */\n",
       "  background-color: var(--sklearn-color-unfitted-level-2);\n",
       "}\n",
       "\n",
       "#sk-container-id-1 div.sk-estimator.fitted input.sk-toggleable__control:checked~label.sk-toggleable__label {\n",
       "  /* fitted */\n",
       "  background-color: var(--sklearn-color-fitted-level-2);\n",
       "}\n",
       "\n",
       "#sk-container-id-1 div.sk-label label.sk-toggleable__label,\n",
       "#sk-container-id-1 div.sk-label label {\n",
       "  /* The background is the default theme color */\n",
       "  color: var(--sklearn-color-text-on-default-background);\n",
       "}\n",
       "\n",
       "/* On hover, darken the color of the background */\n",
       "#sk-container-id-1 div.sk-label:hover label.sk-toggleable__label {\n",
       "  color: var(--sklearn-color-text);\n",
       "  background-color: var(--sklearn-color-unfitted-level-2);\n",
       "}\n",
       "\n",
       "/* Label box, darken color on hover, fitted */\n",
       "#sk-container-id-1 div.sk-label.fitted:hover label.sk-toggleable__label.fitted {\n",
       "  color: var(--sklearn-color-text);\n",
       "  background-color: var(--sklearn-color-fitted-level-2);\n",
       "}\n",
       "\n",
       "/* Estimator label */\n",
       "\n",
       "#sk-container-id-1 div.sk-label label {\n",
       "  font-family: monospace;\n",
       "  font-weight: bold;\n",
       "  display: inline-block;\n",
       "  line-height: 1.2em;\n",
       "}\n",
       "\n",
       "#sk-container-id-1 div.sk-label-container {\n",
       "  text-align: center;\n",
       "}\n",
       "\n",
       "/* Estimator-specific */\n",
       "#sk-container-id-1 div.sk-estimator {\n",
       "  font-family: monospace;\n",
       "  border: 1px dotted var(--sklearn-color-border-box);\n",
       "  border-radius: 0.25em;\n",
       "  box-sizing: border-box;\n",
       "  margin-bottom: 0.5em;\n",
       "  /* unfitted */\n",
       "  background-color: var(--sklearn-color-unfitted-level-0);\n",
       "}\n",
       "\n",
       "#sk-container-id-1 div.sk-estimator.fitted {\n",
       "  /* fitted */\n",
       "  background-color: var(--sklearn-color-fitted-level-0);\n",
       "}\n",
       "\n",
       "/* on hover */\n",
       "#sk-container-id-1 div.sk-estimator:hover {\n",
       "  /* unfitted */\n",
       "  background-color: var(--sklearn-color-unfitted-level-2);\n",
       "}\n",
       "\n",
       "#sk-container-id-1 div.sk-estimator.fitted:hover {\n",
       "  /* fitted */\n",
       "  background-color: var(--sklearn-color-fitted-level-2);\n",
       "}\n",
       "\n",
       "/* Specification for estimator info (e.g. \"i\" and \"?\") */\n",
       "\n",
       "/* Common style for \"i\" and \"?\" */\n",
       "\n",
       ".sk-estimator-doc-link,\n",
       "a:link.sk-estimator-doc-link,\n",
       "a:visited.sk-estimator-doc-link {\n",
       "  float: right;\n",
       "  font-size: smaller;\n",
       "  line-height: 1em;\n",
       "  font-family: monospace;\n",
       "  background-color: var(--sklearn-color-background);\n",
       "  border-radius: 1em;\n",
       "  height: 1em;\n",
       "  width: 1em;\n",
       "  text-decoration: none !important;\n",
       "  margin-left: 1ex;\n",
       "  /* unfitted */\n",
       "  border: var(--sklearn-color-unfitted-level-1) 1pt solid;\n",
       "  color: var(--sklearn-color-unfitted-level-1);\n",
       "}\n",
       "\n",
       ".sk-estimator-doc-link.fitted,\n",
       "a:link.sk-estimator-doc-link.fitted,\n",
       "a:visited.sk-estimator-doc-link.fitted {\n",
       "  /* fitted */\n",
       "  border: var(--sklearn-color-fitted-level-1) 1pt solid;\n",
       "  color: var(--sklearn-color-fitted-level-1);\n",
       "}\n",
       "\n",
       "/* On hover */\n",
       "div.sk-estimator:hover .sk-estimator-doc-link:hover,\n",
       ".sk-estimator-doc-link:hover,\n",
       "div.sk-label-container:hover .sk-estimator-doc-link:hover,\n",
       ".sk-estimator-doc-link:hover {\n",
       "  /* unfitted */\n",
       "  background-color: var(--sklearn-color-unfitted-level-3);\n",
       "  color: var(--sklearn-color-background);\n",
       "  text-decoration: none;\n",
       "}\n",
       "\n",
       "div.sk-estimator.fitted:hover .sk-estimator-doc-link.fitted:hover,\n",
       ".sk-estimator-doc-link.fitted:hover,\n",
       "div.sk-label-container:hover .sk-estimator-doc-link.fitted:hover,\n",
       ".sk-estimator-doc-link.fitted:hover {\n",
       "  /* fitted */\n",
       "  background-color: var(--sklearn-color-fitted-level-3);\n",
       "  color: var(--sklearn-color-background);\n",
       "  text-decoration: none;\n",
       "}\n",
       "\n",
       "/* Span, style for the box shown on hovering the info icon */\n",
       ".sk-estimator-doc-link span {\n",
       "  display: none;\n",
       "  z-index: 9999;\n",
       "  position: relative;\n",
       "  font-weight: normal;\n",
       "  right: .2ex;\n",
       "  padding: .5ex;\n",
       "  margin: .5ex;\n",
       "  width: min-content;\n",
       "  min-width: 20ex;\n",
       "  max-width: 50ex;\n",
       "  color: var(--sklearn-color-text);\n",
       "  box-shadow: 2pt 2pt 4pt #999;\n",
       "  /* unfitted */\n",
       "  background: var(--sklearn-color-unfitted-level-0);\n",
       "  border: .5pt solid var(--sklearn-color-unfitted-level-3);\n",
       "}\n",
       "\n",
       ".sk-estimator-doc-link.fitted span {\n",
       "  /* fitted */\n",
       "  background: var(--sklearn-color-fitted-level-0);\n",
       "  border: var(--sklearn-color-fitted-level-3);\n",
       "}\n",
       "\n",
       ".sk-estimator-doc-link:hover span {\n",
       "  display: block;\n",
       "}\n",
       "\n",
       "/* \"?\"-specific style due to the `<a>` HTML tag */\n",
       "\n",
       "#sk-container-id-1 a.estimator_doc_link {\n",
       "  float: right;\n",
       "  font-size: 1rem;\n",
       "  line-height: 1em;\n",
       "  font-family: monospace;\n",
       "  background-color: var(--sklearn-color-background);\n",
       "  border-radius: 1rem;\n",
       "  height: 1rem;\n",
       "  width: 1rem;\n",
       "  text-decoration: none;\n",
       "  /* unfitted */\n",
       "  color: var(--sklearn-color-unfitted-level-1);\n",
       "  border: var(--sklearn-color-unfitted-level-1) 1pt solid;\n",
       "}\n",
       "\n",
       "#sk-container-id-1 a.estimator_doc_link.fitted {\n",
       "  /* fitted */\n",
       "  border: var(--sklearn-color-fitted-level-1) 1pt solid;\n",
       "  color: var(--sklearn-color-fitted-level-1);\n",
       "}\n",
       "\n",
       "/* On hover */\n",
       "#sk-container-id-1 a.estimator_doc_link:hover {\n",
       "  /* unfitted */\n",
       "  background-color: var(--sklearn-color-unfitted-level-3);\n",
       "  color: var(--sklearn-color-background);\n",
       "  text-decoration: none;\n",
       "}\n",
       "\n",
       "#sk-container-id-1 a.estimator_doc_link.fitted:hover {\n",
       "  /* fitted */\n",
       "  background-color: var(--sklearn-color-fitted-level-3);\n",
       "}\n",
       "</style><div id=\"sk-container-id-1\" class=\"sk-top-container\"><div class=\"sk-text-repr-fallback\"><pre>RFE(estimator=RandomForestClassifier(random_state=42), n_features_to_select=7)</pre><b>In a Jupyter environment, please rerun this cell to show the HTML representation or trust the notebook. <br />On GitHub, the HTML representation is unable to render, please try loading this page with nbviewer.org.</b></div><div class=\"sk-container\" hidden><div class=\"sk-item sk-dashed-wrapped\"><div class=\"sk-label-container\"><div class=\"sk-label fitted sk-toggleable\"><input class=\"sk-toggleable__control sk-hidden--visually\" id=\"sk-estimator-id-1\" type=\"checkbox\" ><label for=\"sk-estimator-id-1\" class=\"sk-toggleable__label fitted sk-toggleable__label-arrow fitted\">&nbsp;&nbsp;RFE<a class=\"sk-estimator-doc-link fitted\" rel=\"noreferrer\" target=\"_blank\" href=\"https://scikit-learn.org/1.4/modules/generated/sklearn.feature_selection.RFE.html\">?<span>Documentation for RFE</span></a><span class=\"sk-estimator-doc-link fitted\">i<span>Fitted</span></span></label><div class=\"sk-toggleable__content fitted\"><pre>RFE(estimator=RandomForestClassifier(random_state=42), n_features_to_select=7)</pre></div> </div></div><div class=\"sk-parallel\"><div class=\"sk-parallel-item\"><div class=\"sk-item\"><div class=\"sk-label-container\"><div class=\"sk-label fitted sk-toggleable\"><input class=\"sk-toggleable__control sk-hidden--visually\" id=\"sk-estimator-id-2\" type=\"checkbox\" ><label for=\"sk-estimator-id-2\" class=\"sk-toggleable__label fitted sk-toggleable__label-arrow fitted\">estimator: RandomForestClassifier</label><div class=\"sk-toggleable__content fitted\"><pre>RandomForestClassifier(random_state=42)</pre></div> </div></div><div class=\"sk-serial\"><div class=\"sk-item\"><div class=\"sk-estimator fitted sk-toggleable\"><input class=\"sk-toggleable__control sk-hidden--visually\" id=\"sk-estimator-id-3\" type=\"checkbox\" ><label for=\"sk-estimator-id-3\" class=\"sk-toggleable__label fitted sk-toggleable__label-arrow fitted\">&nbsp;RandomForestClassifier<a class=\"sk-estimator-doc-link fitted\" rel=\"noreferrer\" target=\"_blank\" href=\"https://scikit-learn.org/1.4/modules/generated/sklearn.ensemble.RandomForestClassifier.html\">?<span>Documentation for RandomForestClassifier</span></a></label><div class=\"sk-toggleable__content fitted\"><pre>RandomForestClassifier(random_state=42)</pre></div> </div></div></div></div></div></div></div></div></div>"
      ],
      "text/plain": [
       "RFE(estimator=RandomForestClassifier(random_state=42), n_features_to_select=7)"
      ]
     },
     "execution_count": 10,
     "metadata": {},
     "output_type": "execute_result"
    }
   ],
   "source": [
    "rfe.fit(X_stand, y)"
   ]
  },
  {
   "cell_type": "code",
   "execution_count": 11,
   "metadata": {},
   "outputs": [
    {
     "data": {
      "text/plain": [
       "array([ True, False, False, False, False, False, False, False, False,\n",
       "       False, False, False, False, False, False,  True,  True, False,\n",
       "       False, False, False,  True, False,  True, False, False, False,\n",
       "       False, False, False, False, False, False, False, False, False,\n",
       "       False, False, False, False, False,  True,  True])"
      ]
     },
     "execution_count": 11,
     "metadata": {},
     "output_type": "execute_result"
    }
   ],
   "source": [
    "rfe.support_"
   ]
  },
  {
   "cell_type": "code",
   "execution_count": 12,
   "metadata": {},
   "outputs": [],
   "source": [
    "features_train = list(X.columns)\n",
    "selection_mask = list(rfe.support_)"
   ]
  },
  {
   "cell_type": "code",
   "execution_count": 13,
   "metadata": {},
   "outputs": [
    {
     "data": {
      "text/plain": [
       "['t_syll3',\n",
       " 'a_char_pw',\n",
       " 'simp_adj_var',\n",
       " 'simp_adv_var',\n",
       " 'simp_intj_var',\n",
       " 'simp_noun_var',\n",
       " 'simp_num_var',\n",
       " 'simp_pron_var',\n",
       " 'simp_propn_var',\n",
       " 'simp_sconj_var',\n",
       " 'simp_sym_var',\n",
       " 'simp_verb_var',\n",
       " 'simp_space_var',\n",
       " 'root_aux_var',\n",
       " 'root_part_var',\n",
       " 'root_propn_var',\n",
       " 'root_space_var',\n",
       " 'corr_adp_var',\n",
       " 'corr_cconj_var',\n",
       " 'corr_det_var',\n",
       " 'corr_pron_var',\n",
       " 'corr_punct_var',\n",
       " 'corr_sconj_var',\n",
       " 'uber_ttr_no_lem',\n",
       " 'a_adj_pw',\n",
       " 'a_adp_pw',\n",
       " 'a_adv_pw',\n",
       " 'a_aux_pw',\n",
       " 'a_cconj_pw',\n",
       " 'a_det_pw',\n",
       " 'a_intj_pw',\n",
       " 'a_noun_pw',\n",
       " 'a_part_pw',\n",
       " 'a_punct_pw',\n",
       " 'a_sconj_pw',\n",
       " 'a_sym_pw',\n",
       " 'a_verb_pw',\n",
       " 'a_space_pw',\n",
       " 'a_intj_ps',\n",
       " 'a_num_ps',\n",
       " 'a_pron_ps',\n",
       " 'a_propn_ps',\n",
       " 'smog']"
      ]
     },
     "execution_count": 13,
     "metadata": {},
     "output_type": "execute_result"
    }
   ],
   "source": [
    "features_train"
   ]
  },
  {
   "cell_type": "code",
   "execution_count": 14,
   "metadata": {},
   "outputs": [
    {
     "data": {
      "text/plain": [
       "43"
      ]
     },
     "execution_count": 14,
     "metadata": {},
     "output_type": "execute_result"
    }
   ],
   "source": [
    "len(features_train)"
   ]
  },
  {
   "cell_type": "code",
   "execution_count": 15,
   "metadata": {},
   "outputs": [
    {
     "data": {
      "text/plain": [
       "36"
      ]
     },
     "execution_count": 15,
     "metadata": {},
     "output_type": "execute_result"
    }
   ],
   "source": [
    "selection_mask.count(False)"
   ]
  },
  {
   "cell_type": "code",
   "execution_count": 16,
   "metadata": {},
   "outputs": [],
   "source": [
    "from itertools import compress\n",
    "\n",
    "selected_features = list(compress(features_train, selection_mask))"
   ]
  },
  {
   "cell_type": "code",
   "execution_count": 17,
   "metadata": {},
   "outputs": [
    {
     "data": {
      "text/plain": [
       "['t_syll3',\n",
       " 'root_propn_var',\n",
       " 'root_space_var',\n",
       " 'corr_punct_var',\n",
       " 'uber_ttr_no_lem',\n",
       " 'a_propn_ps',\n",
       " 'smog']"
      ]
     },
     "execution_count": 17,
     "metadata": {},
     "output_type": "execute_result"
    }
   ],
   "source": [
    "selected_features"
   ]
  },
  {
   "cell_type": "code",
   "execution_count": 18,
   "metadata": {},
   "outputs": [],
   "source": [
    "# features"
   ]
  },
  {
   "cell_type": "code",
   "execution_count": 19,
   "metadata": {},
   "outputs": [
    {
     "data": {
      "text/plain": [
       "['total_number_of_words_more_than_three_syllables',\n",
       " 'root_proper_nouns_variation',\n",
       " 'root_spaces_variation',\n",
       " 'corrected_punctuations_variation',\n",
       " 'uber_type_token_ratio_no_lemma',\n",
       " 'average_number_of_proper_nouns_per_sentence',\n",
       " 'smog_index']"
      ]
     },
     "execution_count": 19,
     "metadata": {},
     "output_type": "execute_result"
    }
   ],
   "source": [
    "name_selected_features = [feature[\"name\"] for feature in features if feature[\"key\"] in selected_features]\n",
    "name_selected_features"
   ]
  },
  {
   "cell_type": "markdown",
   "metadata": {},
   "source": [
    "## Models"
   ]
  },
  {
   "cell_type": "code",
   "execution_count": 20,
   "metadata": {},
   "outputs": [],
   "source": [
    "def score_models(X, y, model, selected_features=selected_features, pca=PCA(n_components=33), cv=StratifiedKFold(n_splits=5)):\n",
    "    \n",
    "    X_features = X[selected_features]\n",
    "    X_pca = pca.fit_transform(X)\n",
    "    \n",
    "    scores_rfe = cross_validate(model, X_features, y, scoring = [\"f1_weighted\", \"accuracy\", \"precision\", \"recall\"], cv=cv)\n",
    "    scores_pca = cross_validate(model, X_pca, y, scoring = [\"f1_weighted\", \"accuracy\", \"precision\", \"recall\"], cv=cv)\n",
    "    \n",
    "    processed_scores_rfe = {f\"mean_{key}\": np.mean(value) for key, value in scores_rfe.items()}\n",
    "    processed_scores_pca = {f\"mean_{key}\": np.mean(value) for key, value in scores_pca.items()}\n",
    "    \n",
    "    processed_scores_rfe[\"model_name\"] = str(model)[:-2]\n",
    "    processed_scores_pca[\"model_name\"] = str(model)[:-2]\n",
    "    \n",
    "    processed_scores_rfe[\"method\"] = \"rfe\"\n",
    "    processed_scores_pca[\"method\"] = \"pca\"\n",
    "    \n",
    "    return processed_scores_rfe, processed_scores_pca"
   ]
  },
  {
   "cell_type": "code",
   "execution_count": 21,
   "metadata": {},
   "outputs": [
    {
     "name": "stderr",
     "output_type": "stream",
     "text": [
      "c:\\Users\\alber\\AppData\\Local\\Programs\\Python\\Python312\\Lib\\site-packages\\sklearn\\ensemble\\_weight_boosting.py:519: FutureWarning: The SAMME.R algorithm (the default) is deprecated and will be removed in 1.6. Use the SAMME algorithm to circumvent this warning.\n",
      "  warnings.warn(\n",
      "c:\\Users\\alber\\AppData\\Local\\Programs\\Python\\Python312\\Lib\\site-packages\\sklearn\\ensemble\\_weight_boosting.py:519: FutureWarning: The SAMME.R algorithm (the default) is deprecated and will be removed in 1.6. Use the SAMME algorithm to circumvent this warning.\n",
      "  warnings.warn(\n",
      "c:\\Users\\alber\\AppData\\Local\\Programs\\Python\\Python312\\Lib\\site-packages\\sklearn\\ensemble\\_weight_boosting.py:519: FutureWarning: The SAMME.R algorithm (the default) is deprecated and will be removed in 1.6. Use the SAMME algorithm to circumvent this warning.\n",
      "  warnings.warn(\n",
      "c:\\Users\\alber\\AppData\\Local\\Programs\\Python\\Python312\\Lib\\site-packages\\sklearn\\ensemble\\_weight_boosting.py:519: FutureWarning: The SAMME.R algorithm (the default) is deprecated and will be removed in 1.6. Use the SAMME algorithm to circumvent this warning.\n",
      "  warnings.warn(\n",
      "c:\\Users\\alber\\AppData\\Local\\Programs\\Python\\Python312\\Lib\\site-packages\\sklearn\\ensemble\\_weight_boosting.py:519: FutureWarning: The SAMME.R algorithm (the default) is deprecated and will be removed in 1.6. Use the SAMME algorithm to circumvent this warning.\n",
      "  warnings.warn(\n",
      "c:\\Users\\alber\\AppData\\Local\\Programs\\Python\\Python312\\Lib\\site-packages\\sklearn\\ensemble\\_weight_boosting.py:519: FutureWarning: The SAMME.R algorithm (the default) is deprecated and will be removed in 1.6. Use the SAMME algorithm to circumvent this warning.\n",
      "  warnings.warn(\n",
      "c:\\Users\\alber\\AppData\\Local\\Programs\\Python\\Python312\\Lib\\site-packages\\sklearn\\ensemble\\_weight_boosting.py:519: FutureWarning: The SAMME.R algorithm (the default) is deprecated and will be removed in 1.6. Use the SAMME algorithm to circumvent this warning.\n",
      "  warnings.warn(\n",
      "c:\\Users\\alber\\AppData\\Local\\Programs\\Python\\Python312\\Lib\\site-packages\\sklearn\\ensemble\\_weight_boosting.py:519: FutureWarning: The SAMME.R algorithm (the default) is deprecated and will be removed in 1.6. Use the SAMME algorithm to circumvent this warning.\n",
      "  warnings.warn(\n",
      "c:\\Users\\alber\\AppData\\Local\\Programs\\Python\\Python312\\Lib\\site-packages\\sklearn\\ensemble\\_weight_boosting.py:519: FutureWarning: The SAMME.R algorithm (the default) is deprecated and will be removed in 1.6. Use the SAMME algorithm to circumvent this warning.\n",
      "  warnings.warn(\n",
      "c:\\Users\\alber\\AppData\\Local\\Programs\\Python\\Python312\\Lib\\site-packages\\sklearn\\ensemble\\_weight_boosting.py:519: FutureWarning: The SAMME.R algorithm (the default) is deprecated and will be removed in 1.6. Use the SAMME algorithm to circumvent this warning.\n",
      "  warnings.warn(\n"
     ]
    }
   ],
   "source": [
    "models = [RandomForestClassifier(random_state=42), GradientBoostingClassifier(random_state=42), AdaBoostClassifier(random_state=42)]\n",
    "scores = []\n",
    "\n",
    "for model in models:\n",
    "    processed_scores_rfe, processed_scores_pca = score_models(X, y, model)\n",
    "    scores.append(processed_scores_rfe)\n",
    "    scores.append(processed_scores_pca)"
   ]
  },
  {
   "cell_type": "code",
   "execution_count": 22,
   "metadata": {},
   "outputs": [
    {
     "data": {
      "text/plain": [
       "[{'mean_fit_time': 0.7524344444274902,\n",
       "  'mean_score_time': 0.024048233032226564,\n",
       "  'mean_test_f1_weighted': 0.7619450951693347,\n",
       "  'mean_test_accuracy': 0.7619573796369377,\n",
       "  'mean_test_precision': 0.760103320556673,\n",
       "  'mean_test_recall': 0.7663146128815918,\n",
       "  'model_name': 'RandomForestClassifier(random_state=4',\n",
       "  'method': 'rfe'},\n",
       " {'mean_fit_time': 2.3807211399078367,\n",
       "  'mean_score_time': 0.02126479148864746,\n",
       "  'mean_test_f1_weighted': 0.7730790144370017,\n",
       "  'mean_test_accuracy': 0.7731649565903709,\n",
       "  'mean_test_precision': 0.7833267779999182,\n",
       "  'mean_test_recall': 0.7562323952408156,\n",
       "  'model_name': 'RandomForestClassifier(random_state=4',\n",
       "  'method': 'pca'},\n",
       " {'mean_fit_time': 0.6824907779693603,\n",
       "  'mean_score_time': 0.007560539245605469,\n",
       "  'mean_test_f1_weighted': 0.751868661310545,\n",
       "  'mean_test_accuracy': 0.7521704814522494,\n",
       "  'mean_test_precision': 0.737075418989049,\n",
       "  'mean_test_recall': 0.7852385801932488,\n",
       "  'model_name': 'GradientBoostingClassifier(random_state=4',\n",
       "  'method': 'rfe'},\n",
       " {'mean_fit_time': 5.302377367019654,\n",
       "  'mean_score_time': 0.007191896438598633,\n",
       "  'mean_test_f1_weighted': 0.7603799009824622,\n",
       "  'mean_test_accuracy': 0.7605367008681926,\n",
       "  'mean_test_precision': 0.7497820401592656,\n",
       "  'mean_test_recall': 0.7830308750838322,\n",
       "  'model_name': 'GradientBoostingClassifier(random_state=4',\n",
       "  'method': 'pca'},\n",
       " {'mean_fit_time': 0.21245737075805665,\n",
       "  'mean_score_time': 0.013442897796630859,\n",
       "  'mean_test_f1_weighted': 0.7266050900284909,\n",
       "  'mean_test_accuracy': 0.72707182320442,\n",
       "  'mean_test_precision': 0.7109686291728853,\n",
       "  'mean_test_recall': 0.7666340445614644,\n",
       "  'model_name': 'AdaBoostClassifier(random_state=4',\n",
       "  'method': 'rfe'},\n",
       " {'mean_fit_time': 1.1574385643005372,\n",
       "  'mean_score_time': 0.01373753547668457,\n",
       "  'mean_test_f1_weighted': 0.7363867114199871,\n",
       "  'mean_test_accuracy': 0.736700868192581,\n",
       "  'mean_test_precision': 0.724711781929632,\n",
       "  'mean_test_recall': 0.7650507960952831,\n",
       "  'model_name': 'AdaBoostClassifier(random_state=4',\n",
       "  'method': 'pca'}]"
      ]
     },
     "execution_count": 22,
     "metadata": {},
     "output_type": "execute_result"
    }
   ],
   "source": [
    "scores"
   ]
  },
  {
   "cell_type": "markdown",
   "metadata": {},
   "source": [
    "## Results"
   ]
  },
  {
   "cell_type": "code",
   "execution_count": 23,
   "metadata": {},
   "outputs": [],
   "source": [
    "results_df = pd.DataFrame(scores)"
   ]
  },
  {
   "cell_type": "code",
   "execution_count": 24,
   "metadata": {},
   "outputs": [
    {
     "data": {
      "text/html": [
       "<div>\n",
       "<style scoped>\n",
       "    .dataframe tbody tr th:only-of-type {\n",
       "        vertical-align: middle;\n",
       "    }\n",
       "\n",
       "    .dataframe tbody tr th {\n",
       "        vertical-align: top;\n",
       "    }\n",
       "\n",
       "    .dataframe thead th {\n",
       "        text-align: right;\n",
       "    }\n",
       "</style>\n",
       "<table border=\"1\" class=\"dataframe\">\n",
       "  <thead>\n",
       "    <tr style=\"text-align: right;\">\n",
       "      <th></th>\n",
       "      <th>mean_fit_time</th>\n",
       "      <th>mean_score_time</th>\n",
       "      <th>mean_test_f1_weighted</th>\n",
       "      <th>mean_test_accuracy</th>\n",
       "      <th>mean_test_precision</th>\n",
       "      <th>mean_test_recall</th>\n",
       "      <th>model_name</th>\n",
       "      <th>method</th>\n",
       "    </tr>\n",
       "  </thead>\n",
       "  <tbody>\n",
       "    <tr>\n",
       "      <th>0</th>\n",
       "      <td>0.752434</td>\n",
       "      <td>0.024048</td>\n",
       "      <td>0.761945</td>\n",
       "      <td>0.761957</td>\n",
       "      <td>0.760103</td>\n",
       "      <td>0.766315</td>\n",
       "      <td>RandomForestClassifier(random_state=4</td>\n",
       "      <td>rfe</td>\n",
       "    </tr>\n",
       "    <tr>\n",
       "      <th>1</th>\n",
       "      <td>2.380721</td>\n",
       "      <td>0.021265</td>\n",
       "      <td>0.773079</td>\n",
       "      <td>0.773165</td>\n",
       "      <td>0.783327</td>\n",
       "      <td>0.756232</td>\n",
       "      <td>RandomForestClassifier(random_state=4</td>\n",
       "      <td>pca</td>\n",
       "    </tr>\n",
       "    <tr>\n",
       "      <th>2</th>\n",
       "      <td>0.682491</td>\n",
       "      <td>0.007561</td>\n",
       "      <td>0.751869</td>\n",
       "      <td>0.752170</td>\n",
       "      <td>0.737075</td>\n",
       "      <td>0.785239</td>\n",
       "      <td>GradientBoostingClassifier(random_state=4</td>\n",
       "      <td>rfe</td>\n",
       "    </tr>\n",
       "    <tr>\n",
       "      <th>3</th>\n",
       "      <td>5.302377</td>\n",
       "      <td>0.007192</td>\n",
       "      <td>0.760380</td>\n",
       "      <td>0.760537</td>\n",
       "      <td>0.749782</td>\n",
       "      <td>0.783031</td>\n",
       "      <td>GradientBoostingClassifier(random_state=4</td>\n",
       "      <td>pca</td>\n",
       "    </tr>\n",
       "    <tr>\n",
       "      <th>4</th>\n",
       "      <td>0.212457</td>\n",
       "      <td>0.013443</td>\n",
       "      <td>0.726605</td>\n",
       "      <td>0.727072</td>\n",
       "      <td>0.710969</td>\n",
       "      <td>0.766634</td>\n",
       "      <td>AdaBoostClassifier(random_state=4</td>\n",
       "      <td>rfe</td>\n",
       "    </tr>\n",
       "    <tr>\n",
       "      <th>5</th>\n",
       "      <td>1.157439</td>\n",
       "      <td>0.013738</td>\n",
       "      <td>0.736387</td>\n",
       "      <td>0.736701</td>\n",
       "      <td>0.724712</td>\n",
       "      <td>0.765051</td>\n",
       "      <td>AdaBoostClassifier(random_state=4</td>\n",
       "      <td>pca</td>\n",
       "    </tr>\n",
       "  </tbody>\n",
       "</table>\n",
       "</div>"
      ],
      "text/plain": [
       "   mean_fit_time  mean_score_time  mean_test_f1_weighted  mean_test_accuracy  \\\n",
       "0       0.752434         0.024048               0.761945            0.761957   \n",
       "1       2.380721         0.021265               0.773079            0.773165   \n",
       "2       0.682491         0.007561               0.751869            0.752170   \n",
       "3       5.302377         0.007192               0.760380            0.760537   \n",
       "4       0.212457         0.013443               0.726605            0.727072   \n",
       "5       1.157439         0.013738               0.736387            0.736701   \n",
       "\n",
       "   mean_test_precision  mean_test_recall  \\\n",
       "0             0.760103          0.766315   \n",
       "1             0.783327          0.756232   \n",
       "2             0.737075          0.785239   \n",
       "3             0.749782          0.783031   \n",
       "4             0.710969          0.766634   \n",
       "5             0.724712          0.765051   \n",
       "\n",
       "                                  model_name method  \n",
       "0      RandomForestClassifier(random_state=4    rfe  \n",
       "1      RandomForestClassifier(random_state=4    pca  \n",
       "2  GradientBoostingClassifier(random_state=4    rfe  \n",
       "3  GradientBoostingClassifier(random_state=4    pca  \n",
       "4          AdaBoostClassifier(random_state=4    rfe  \n",
       "5          AdaBoostClassifier(random_state=4    pca  "
      ]
     },
     "execution_count": 24,
     "metadata": {},
     "output_type": "execute_result"
    }
   ],
   "source": [
    "results_df"
   ]
  },
  {
   "cell_type": "markdown",
   "metadata": {},
   "source": [
    "go ahead with random forest and the rfe 7 features"
   ]
  },
  {
   "cell_type": "markdown",
   "metadata": {},
   "source": [
    "## GRIDSEARCH"
   ]
  },
  {
   "cell_type": "code",
   "execution_count": 25,
   "metadata": {},
   "outputs": [],
   "source": [
    "param_grid = { \n",
    "    'n_estimators': [50, 100, 200, 300], \n",
    "    'max_features': ['sqrt', 'log2', None], \n",
    "    'max_depth': [2, 4, 8, None],\n",
    "    \"min_samples_split\": [2, 5, 10, None],\n",
    "    'max_leaf_nodes': [3, 6, 9]\n",
    "    }"
   ]
  },
  {
   "cell_type": "code",
   "execution_count": 26,
   "metadata": {},
   "outputs": [
    {
     "name": "stdout",
     "output_type": "stream",
     "text": [
      "576\n",
      "[{'n_estimators': 50, 'max_features': 'sqrt', 'max_depth': 2, 'min_samples_split': 2, 'max_leaf_nodes': 3}, {'n_estimators': 50, 'max_features': 'sqrt', 'max_depth': 2, 'min_samples_split': 2, 'max_leaf_nodes': 6}, {'n_estimators': 50, 'max_features': 'sqrt', 'max_depth': 2, 'min_samples_split': 2, 'max_leaf_nodes': 9}, {'n_estimators': 50, 'max_features': 'sqrt', 'max_depth': 2, 'min_samples_split': 5, 'max_leaf_nodes': 3}, {'n_estimators': 50, 'max_features': 'sqrt', 'max_depth': 2, 'min_samples_split': 5, 'max_leaf_nodes': 6}, {'n_estimators': 50, 'max_features': 'sqrt', 'max_depth': 2, 'min_samples_split': 5, 'max_leaf_nodes': 9}, {'n_estimators': 50, 'max_features': 'sqrt', 'max_depth': 2, 'min_samples_split': 10, 'max_leaf_nodes': 3}, {'n_estimators': 50, 'max_features': 'sqrt', 'max_depth': 2, 'min_samples_split': 10, 'max_leaf_nodes': 6}, {'n_estimators': 50, 'max_features': 'sqrt', 'max_depth': 2, 'min_samples_split': 10, 'max_leaf_nodes': 9}, {'n_estimators': 50, 'max_features': 'sqrt', 'max_depth': 2, 'min_samples_split': None, 'max_leaf_nodes': 3}, {'n_estimators': 50, 'max_features': 'sqrt', 'max_depth': 2, 'min_samples_split': None, 'max_leaf_nodes': 6}, {'n_estimators': 50, 'max_features': 'sqrt', 'max_depth': 2, 'min_samples_split': None, 'max_leaf_nodes': 9}, {'n_estimators': 50, 'max_features': 'sqrt', 'max_depth': 4, 'min_samples_split': 2, 'max_leaf_nodes': 3}, {'n_estimators': 50, 'max_features': 'sqrt', 'max_depth': 4, 'min_samples_split': 2, 'max_leaf_nodes': 6}, {'n_estimators': 50, 'max_features': 'sqrt', 'max_depth': 4, 'min_samples_split': 2, 'max_leaf_nodes': 9}, {'n_estimators': 50, 'max_features': 'sqrt', 'max_depth': 4, 'min_samples_split': 5, 'max_leaf_nodes': 3}, {'n_estimators': 50, 'max_features': 'sqrt', 'max_depth': 4, 'min_samples_split': 5, 'max_leaf_nodes': 6}, {'n_estimators': 50, 'max_features': 'sqrt', 'max_depth': 4, 'min_samples_split': 5, 'max_leaf_nodes': 9}, {'n_estimators': 50, 'max_features': 'sqrt', 'max_depth': 4, 'min_samples_split': 10, 'max_leaf_nodes': 3}, {'n_estimators': 50, 'max_features': 'sqrt', 'max_depth': 4, 'min_samples_split': 10, 'max_leaf_nodes': 6}, {'n_estimators': 50, 'max_features': 'sqrt', 'max_depth': 4, 'min_samples_split': 10, 'max_leaf_nodes': 9}, {'n_estimators': 50, 'max_features': 'sqrt', 'max_depth': 4, 'min_samples_split': None, 'max_leaf_nodes': 3}, {'n_estimators': 50, 'max_features': 'sqrt', 'max_depth': 4, 'min_samples_split': None, 'max_leaf_nodes': 6}, {'n_estimators': 50, 'max_features': 'sqrt', 'max_depth': 4, 'min_samples_split': None, 'max_leaf_nodes': 9}, {'n_estimators': 50, 'max_features': 'sqrt', 'max_depth': 8, 'min_samples_split': 2, 'max_leaf_nodes': 3}, {'n_estimators': 50, 'max_features': 'sqrt', 'max_depth': 8, 'min_samples_split': 2, 'max_leaf_nodes': 6}, {'n_estimators': 50, 'max_features': 'sqrt', 'max_depth': 8, 'min_samples_split': 2, 'max_leaf_nodes': 9}, {'n_estimators': 50, 'max_features': 'sqrt', 'max_depth': 8, 'min_samples_split': 5, 'max_leaf_nodes': 3}, {'n_estimators': 50, 'max_features': 'sqrt', 'max_depth': 8, 'min_samples_split': 5, 'max_leaf_nodes': 6}, {'n_estimators': 50, 'max_features': 'sqrt', 'max_depth': 8, 'min_samples_split': 5, 'max_leaf_nodes': 9}, {'n_estimators': 50, 'max_features': 'sqrt', 'max_depth': 8, 'min_samples_split': 10, 'max_leaf_nodes': 3}, {'n_estimators': 50, 'max_features': 'sqrt', 'max_depth': 8, 'min_samples_split': 10, 'max_leaf_nodes': 6}, {'n_estimators': 50, 'max_features': 'sqrt', 'max_depth': 8, 'min_samples_split': 10, 'max_leaf_nodes': 9}, {'n_estimators': 50, 'max_features': 'sqrt', 'max_depth': 8, 'min_samples_split': None, 'max_leaf_nodes': 3}, {'n_estimators': 50, 'max_features': 'sqrt', 'max_depth': 8, 'min_samples_split': None, 'max_leaf_nodes': 6}, {'n_estimators': 50, 'max_features': 'sqrt', 'max_depth': 8, 'min_samples_split': None, 'max_leaf_nodes': 9}, {'n_estimators': 50, 'max_features': 'sqrt', 'max_depth': None, 'min_samples_split': 2, 'max_leaf_nodes': 3}, {'n_estimators': 50, 'max_features': 'sqrt', 'max_depth': None, 'min_samples_split': 2, 'max_leaf_nodes': 6}, {'n_estimators': 50, 'max_features': 'sqrt', 'max_depth': None, 'min_samples_split': 2, 'max_leaf_nodes': 9}, {'n_estimators': 50, 'max_features': 'sqrt', 'max_depth': None, 'min_samples_split': 5, 'max_leaf_nodes': 3}, {'n_estimators': 50, 'max_features': 'sqrt', 'max_depth': None, 'min_samples_split': 5, 'max_leaf_nodes': 6}, {'n_estimators': 50, 'max_features': 'sqrt', 'max_depth': None, 'min_samples_split': 5, 'max_leaf_nodes': 9}, {'n_estimators': 50, 'max_features': 'sqrt', 'max_depth': None, 'min_samples_split': 10, 'max_leaf_nodes': 3}, {'n_estimators': 50, 'max_features': 'sqrt', 'max_depth': None, 'min_samples_split': 10, 'max_leaf_nodes': 6}, {'n_estimators': 50, 'max_features': 'sqrt', 'max_depth': None, 'min_samples_split': 10, 'max_leaf_nodes': 9}, {'n_estimators': 50, 'max_features': 'sqrt', 'max_depth': None, 'min_samples_split': None, 'max_leaf_nodes': 3}, {'n_estimators': 50, 'max_features': 'sqrt', 'max_depth': None, 'min_samples_split': None, 'max_leaf_nodes': 6}, {'n_estimators': 50, 'max_features': 'sqrt', 'max_depth': None, 'min_samples_split': None, 'max_leaf_nodes': 9}, {'n_estimators': 50, 'max_features': 'log2', 'max_depth': 2, 'min_samples_split': 2, 'max_leaf_nodes': 3}, {'n_estimators': 50, 'max_features': 'log2', 'max_depth': 2, 'min_samples_split': 2, 'max_leaf_nodes': 6}, {'n_estimators': 50, 'max_features': 'log2', 'max_depth': 2, 'min_samples_split': 2, 'max_leaf_nodes': 9}, {'n_estimators': 50, 'max_features': 'log2', 'max_depth': 2, 'min_samples_split': 5, 'max_leaf_nodes': 3}, {'n_estimators': 50, 'max_features': 'log2', 'max_depth': 2, 'min_samples_split': 5, 'max_leaf_nodes': 6}, {'n_estimators': 50, 'max_features': 'log2', 'max_depth': 2, 'min_samples_split': 5, 'max_leaf_nodes': 9}, {'n_estimators': 50, 'max_features': 'log2', 'max_depth': 2, 'min_samples_split': 10, 'max_leaf_nodes': 3}, {'n_estimators': 50, 'max_features': 'log2', 'max_depth': 2, 'min_samples_split': 10, 'max_leaf_nodes': 6}, {'n_estimators': 50, 'max_features': 'log2', 'max_depth': 2, 'min_samples_split': 10, 'max_leaf_nodes': 9}, {'n_estimators': 50, 'max_features': 'log2', 'max_depth': 2, 'min_samples_split': None, 'max_leaf_nodes': 3}, {'n_estimators': 50, 'max_features': 'log2', 'max_depth': 2, 'min_samples_split': None, 'max_leaf_nodes': 6}, {'n_estimators': 50, 'max_features': 'log2', 'max_depth': 2, 'min_samples_split': None, 'max_leaf_nodes': 9}, {'n_estimators': 50, 'max_features': 'log2', 'max_depth': 4, 'min_samples_split': 2, 'max_leaf_nodes': 3}, {'n_estimators': 50, 'max_features': 'log2', 'max_depth': 4, 'min_samples_split': 2, 'max_leaf_nodes': 6}, {'n_estimators': 50, 'max_features': 'log2', 'max_depth': 4, 'min_samples_split': 2, 'max_leaf_nodes': 9}, {'n_estimators': 50, 'max_features': 'log2', 'max_depth': 4, 'min_samples_split': 5, 'max_leaf_nodes': 3}, {'n_estimators': 50, 'max_features': 'log2', 'max_depth': 4, 'min_samples_split': 5, 'max_leaf_nodes': 6}, {'n_estimators': 50, 'max_features': 'log2', 'max_depth': 4, 'min_samples_split': 5, 'max_leaf_nodes': 9}, {'n_estimators': 50, 'max_features': 'log2', 'max_depth': 4, 'min_samples_split': 10, 'max_leaf_nodes': 3}, {'n_estimators': 50, 'max_features': 'log2', 'max_depth': 4, 'min_samples_split': 10, 'max_leaf_nodes': 6}, {'n_estimators': 50, 'max_features': 'log2', 'max_depth': 4, 'min_samples_split': 10, 'max_leaf_nodes': 9}, {'n_estimators': 50, 'max_features': 'log2', 'max_depth': 4, 'min_samples_split': None, 'max_leaf_nodes': 3}, {'n_estimators': 50, 'max_features': 'log2', 'max_depth': 4, 'min_samples_split': None, 'max_leaf_nodes': 6}, {'n_estimators': 50, 'max_features': 'log2', 'max_depth': 4, 'min_samples_split': None, 'max_leaf_nodes': 9}, {'n_estimators': 50, 'max_features': 'log2', 'max_depth': 8, 'min_samples_split': 2, 'max_leaf_nodes': 3}, {'n_estimators': 50, 'max_features': 'log2', 'max_depth': 8, 'min_samples_split': 2, 'max_leaf_nodes': 6}, {'n_estimators': 50, 'max_features': 'log2', 'max_depth': 8, 'min_samples_split': 2, 'max_leaf_nodes': 9}, {'n_estimators': 50, 'max_features': 'log2', 'max_depth': 8, 'min_samples_split': 5, 'max_leaf_nodes': 3}, {'n_estimators': 50, 'max_features': 'log2', 'max_depth': 8, 'min_samples_split': 5, 'max_leaf_nodes': 6}, {'n_estimators': 50, 'max_features': 'log2', 'max_depth': 8, 'min_samples_split': 5, 'max_leaf_nodes': 9}, {'n_estimators': 50, 'max_features': 'log2', 'max_depth': 8, 'min_samples_split': 10, 'max_leaf_nodes': 3}, {'n_estimators': 50, 'max_features': 'log2', 'max_depth': 8, 'min_samples_split': 10, 'max_leaf_nodes': 6}, {'n_estimators': 50, 'max_features': 'log2', 'max_depth': 8, 'min_samples_split': 10, 'max_leaf_nodes': 9}, {'n_estimators': 50, 'max_features': 'log2', 'max_depth': 8, 'min_samples_split': None, 'max_leaf_nodes': 3}, {'n_estimators': 50, 'max_features': 'log2', 'max_depth': 8, 'min_samples_split': None, 'max_leaf_nodes': 6}, {'n_estimators': 50, 'max_features': 'log2', 'max_depth': 8, 'min_samples_split': None, 'max_leaf_nodes': 9}, {'n_estimators': 50, 'max_features': 'log2', 'max_depth': None, 'min_samples_split': 2, 'max_leaf_nodes': 3}, {'n_estimators': 50, 'max_features': 'log2', 'max_depth': None, 'min_samples_split': 2, 'max_leaf_nodes': 6}, {'n_estimators': 50, 'max_features': 'log2', 'max_depth': None, 'min_samples_split': 2, 'max_leaf_nodes': 9}, {'n_estimators': 50, 'max_features': 'log2', 'max_depth': None, 'min_samples_split': 5, 'max_leaf_nodes': 3}, {'n_estimators': 50, 'max_features': 'log2', 'max_depth': None, 'min_samples_split': 5, 'max_leaf_nodes': 6}, {'n_estimators': 50, 'max_features': 'log2', 'max_depth': None, 'min_samples_split': 5, 'max_leaf_nodes': 9}, {'n_estimators': 50, 'max_features': 'log2', 'max_depth': None, 'min_samples_split': 10, 'max_leaf_nodes': 3}, {'n_estimators': 50, 'max_features': 'log2', 'max_depth': None, 'min_samples_split': 10, 'max_leaf_nodes': 6}, {'n_estimators': 50, 'max_features': 'log2', 'max_depth': None, 'min_samples_split': 10, 'max_leaf_nodes': 9}, {'n_estimators': 50, 'max_features': 'log2', 'max_depth': None, 'min_samples_split': None, 'max_leaf_nodes': 3}, {'n_estimators': 50, 'max_features': 'log2', 'max_depth': None, 'min_samples_split': None, 'max_leaf_nodes': 6}, {'n_estimators': 50, 'max_features': 'log2', 'max_depth': None, 'min_samples_split': None, 'max_leaf_nodes': 9}, {'n_estimators': 50, 'max_features': None, 'max_depth': 2, 'min_samples_split': 2, 'max_leaf_nodes': 3}, {'n_estimators': 50, 'max_features': None, 'max_depth': 2, 'min_samples_split': 2, 'max_leaf_nodes': 6}, {'n_estimators': 50, 'max_features': None, 'max_depth': 2, 'min_samples_split': 2, 'max_leaf_nodes': 9}, {'n_estimators': 50, 'max_features': None, 'max_depth': 2, 'min_samples_split': 5, 'max_leaf_nodes': 3}, {'n_estimators': 50, 'max_features': None, 'max_depth': 2, 'min_samples_split': 5, 'max_leaf_nodes': 6}, {'n_estimators': 50, 'max_features': None, 'max_depth': 2, 'min_samples_split': 5, 'max_leaf_nodes': 9}, {'n_estimators': 50, 'max_features': None, 'max_depth': 2, 'min_samples_split': 10, 'max_leaf_nodes': 3}, {'n_estimators': 50, 'max_features': None, 'max_depth': 2, 'min_samples_split': 10, 'max_leaf_nodes': 6}, {'n_estimators': 50, 'max_features': None, 'max_depth': 2, 'min_samples_split': 10, 'max_leaf_nodes': 9}, {'n_estimators': 50, 'max_features': None, 'max_depth': 2, 'min_samples_split': None, 'max_leaf_nodes': 3}, {'n_estimators': 50, 'max_features': None, 'max_depth': 2, 'min_samples_split': None, 'max_leaf_nodes': 6}, {'n_estimators': 50, 'max_features': None, 'max_depth': 2, 'min_samples_split': None, 'max_leaf_nodes': 9}, {'n_estimators': 50, 'max_features': None, 'max_depth': 4, 'min_samples_split': 2, 'max_leaf_nodes': 3}, {'n_estimators': 50, 'max_features': None, 'max_depth': 4, 'min_samples_split': 2, 'max_leaf_nodes': 6}, {'n_estimators': 50, 'max_features': None, 'max_depth': 4, 'min_samples_split': 2, 'max_leaf_nodes': 9}, {'n_estimators': 50, 'max_features': None, 'max_depth': 4, 'min_samples_split': 5, 'max_leaf_nodes': 3}, {'n_estimators': 50, 'max_features': None, 'max_depth': 4, 'min_samples_split': 5, 'max_leaf_nodes': 6}, {'n_estimators': 50, 'max_features': None, 'max_depth': 4, 'min_samples_split': 5, 'max_leaf_nodes': 9}, {'n_estimators': 50, 'max_features': None, 'max_depth': 4, 'min_samples_split': 10, 'max_leaf_nodes': 3}, {'n_estimators': 50, 'max_features': None, 'max_depth': 4, 'min_samples_split': 10, 'max_leaf_nodes': 6}, {'n_estimators': 50, 'max_features': None, 'max_depth': 4, 'min_samples_split': 10, 'max_leaf_nodes': 9}, {'n_estimators': 50, 'max_features': None, 'max_depth': 4, 'min_samples_split': None, 'max_leaf_nodes': 3}, {'n_estimators': 50, 'max_features': None, 'max_depth': 4, 'min_samples_split': None, 'max_leaf_nodes': 6}, {'n_estimators': 50, 'max_features': None, 'max_depth': 4, 'min_samples_split': None, 'max_leaf_nodes': 9}, {'n_estimators': 50, 'max_features': None, 'max_depth': 8, 'min_samples_split': 2, 'max_leaf_nodes': 3}, {'n_estimators': 50, 'max_features': None, 'max_depth': 8, 'min_samples_split': 2, 'max_leaf_nodes': 6}, {'n_estimators': 50, 'max_features': None, 'max_depth': 8, 'min_samples_split': 2, 'max_leaf_nodes': 9}, {'n_estimators': 50, 'max_features': None, 'max_depth': 8, 'min_samples_split': 5, 'max_leaf_nodes': 3}, {'n_estimators': 50, 'max_features': None, 'max_depth': 8, 'min_samples_split': 5, 'max_leaf_nodes': 6}, {'n_estimators': 50, 'max_features': None, 'max_depth': 8, 'min_samples_split': 5, 'max_leaf_nodes': 9}, {'n_estimators': 50, 'max_features': None, 'max_depth': 8, 'min_samples_split': 10, 'max_leaf_nodes': 3}, {'n_estimators': 50, 'max_features': None, 'max_depth': 8, 'min_samples_split': 10, 'max_leaf_nodes': 6}, {'n_estimators': 50, 'max_features': None, 'max_depth': 8, 'min_samples_split': 10, 'max_leaf_nodes': 9}, {'n_estimators': 50, 'max_features': None, 'max_depth': 8, 'min_samples_split': None, 'max_leaf_nodes': 3}, {'n_estimators': 50, 'max_features': None, 'max_depth': 8, 'min_samples_split': None, 'max_leaf_nodes': 6}, {'n_estimators': 50, 'max_features': None, 'max_depth': 8, 'min_samples_split': None, 'max_leaf_nodes': 9}, {'n_estimators': 50, 'max_features': None, 'max_depth': None, 'min_samples_split': 2, 'max_leaf_nodes': 3}, {'n_estimators': 50, 'max_features': None, 'max_depth': None, 'min_samples_split': 2, 'max_leaf_nodes': 6}, {'n_estimators': 50, 'max_features': None, 'max_depth': None, 'min_samples_split': 2, 'max_leaf_nodes': 9}, {'n_estimators': 50, 'max_features': None, 'max_depth': None, 'min_samples_split': 5, 'max_leaf_nodes': 3}, {'n_estimators': 50, 'max_features': None, 'max_depth': None, 'min_samples_split': 5, 'max_leaf_nodes': 6}, {'n_estimators': 50, 'max_features': None, 'max_depth': None, 'min_samples_split': 5, 'max_leaf_nodes': 9}, {'n_estimators': 50, 'max_features': None, 'max_depth': None, 'min_samples_split': 10, 'max_leaf_nodes': 3}, {'n_estimators': 50, 'max_features': None, 'max_depth': None, 'min_samples_split': 10, 'max_leaf_nodes': 6}, {'n_estimators': 50, 'max_features': None, 'max_depth': None, 'min_samples_split': 10, 'max_leaf_nodes': 9}, {'n_estimators': 50, 'max_features': None, 'max_depth': None, 'min_samples_split': None, 'max_leaf_nodes': 3}, {'n_estimators': 50, 'max_features': None, 'max_depth': None, 'min_samples_split': None, 'max_leaf_nodes': 6}, {'n_estimators': 50, 'max_features': None, 'max_depth': None, 'min_samples_split': None, 'max_leaf_nodes': 9}, {'n_estimators': 100, 'max_features': 'sqrt', 'max_depth': 2, 'min_samples_split': 2, 'max_leaf_nodes': 3}, {'n_estimators': 100, 'max_features': 'sqrt', 'max_depth': 2, 'min_samples_split': 2, 'max_leaf_nodes': 6}, {'n_estimators': 100, 'max_features': 'sqrt', 'max_depth': 2, 'min_samples_split': 2, 'max_leaf_nodes': 9}, {'n_estimators': 100, 'max_features': 'sqrt', 'max_depth': 2, 'min_samples_split': 5, 'max_leaf_nodes': 3}, {'n_estimators': 100, 'max_features': 'sqrt', 'max_depth': 2, 'min_samples_split': 5, 'max_leaf_nodes': 6}, {'n_estimators': 100, 'max_features': 'sqrt', 'max_depth': 2, 'min_samples_split': 5, 'max_leaf_nodes': 9}, {'n_estimators': 100, 'max_features': 'sqrt', 'max_depth': 2, 'min_samples_split': 10, 'max_leaf_nodes': 3}, {'n_estimators': 100, 'max_features': 'sqrt', 'max_depth': 2, 'min_samples_split': 10, 'max_leaf_nodes': 6}, {'n_estimators': 100, 'max_features': 'sqrt', 'max_depth': 2, 'min_samples_split': 10, 'max_leaf_nodes': 9}, {'n_estimators': 100, 'max_features': 'sqrt', 'max_depth': 2, 'min_samples_split': None, 'max_leaf_nodes': 3}, {'n_estimators': 100, 'max_features': 'sqrt', 'max_depth': 2, 'min_samples_split': None, 'max_leaf_nodes': 6}, {'n_estimators': 100, 'max_features': 'sqrt', 'max_depth': 2, 'min_samples_split': None, 'max_leaf_nodes': 9}, {'n_estimators': 100, 'max_features': 'sqrt', 'max_depth': 4, 'min_samples_split': 2, 'max_leaf_nodes': 3}, {'n_estimators': 100, 'max_features': 'sqrt', 'max_depth': 4, 'min_samples_split': 2, 'max_leaf_nodes': 6}, {'n_estimators': 100, 'max_features': 'sqrt', 'max_depth': 4, 'min_samples_split': 2, 'max_leaf_nodes': 9}, {'n_estimators': 100, 'max_features': 'sqrt', 'max_depth': 4, 'min_samples_split': 5, 'max_leaf_nodes': 3}, {'n_estimators': 100, 'max_features': 'sqrt', 'max_depth': 4, 'min_samples_split': 5, 'max_leaf_nodes': 6}, {'n_estimators': 100, 'max_features': 'sqrt', 'max_depth': 4, 'min_samples_split': 5, 'max_leaf_nodes': 9}, {'n_estimators': 100, 'max_features': 'sqrt', 'max_depth': 4, 'min_samples_split': 10, 'max_leaf_nodes': 3}, {'n_estimators': 100, 'max_features': 'sqrt', 'max_depth': 4, 'min_samples_split': 10, 'max_leaf_nodes': 6}, {'n_estimators': 100, 'max_features': 'sqrt', 'max_depth': 4, 'min_samples_split': 10, 'max_leaf_nodes': 9}, {'n_estimators': 100, 'max_features': 'sqrt', 'max_depth': 4, 'min_samples_split': None, 'max_leaf_nodes': 3}, {'n_estimators': 100, 'max_features': 'sqrt', 'max_depth': 4, 'min_samples_split': None, 'max_leaf_nodes': 6}, {'n_estimators': 100, 'max_features': 'sqrt', 'max_depth': 4, 'min_samples_split': None, 'max_leaf_nodes': 9}, {'n_estimators': 100, 'max_features': 'sqrt', 'max_depth': 8, 'min_samples_split': 2, 'max_leaf_nodes': 3}, {'n_estimators': 100, 'max_features': 'sqrt', 'max_depth': 8, 'min_samples_split': 2, 'max_leaf_nodes': 6}, {'n_estimators': 100, 'max_features': 'sqrt', 'max_depth': 8, 'min_samples_split': 2, 'max_leaf_nodes': 9}, {'n_estimators': 100, 'max_features': 'sqrt', 'max_depth': 8, 'min_samples_split': 5, 'max_leaf_nodes': 3}, {'n_estimators': 100, 'max_features': 'sqrt', 'max_depth': 8, 'min_samples_split': 5, 'max_leaf_nodes': 6}, {'n_estimators': 100, 'max_features': 'sqrt', 'max_depth': 8, 'min_samples_split': 5, 'max_leaf_nodes': 9}, {'n_estimators': 100, 'max_features': 'sqrt', 'max_depth': 8, 'min_samples_split': 10, 'max_leaf_nodes': 3}, {'n_estimators': 100, 'max_features': 'sqrt', 'max_depth': 8, 'min_samples_split': 10, 'max_leaf_nodes': 6}, {'n_estimators': 100, 'max_features': 'sqrt', 'max_depth': 8, 'min_samples_split': 10, 'max_leaf_nodes': 9}, {'n_estimators': 100, 'max_features': 'sqrt', 'max_depth': 8, 'min_samples_split': None, 'max_leaf_nodes': 3}, {'n_estimators': 100, 'max_features': 'sqrt', 'max_depth': 8, 'min_samples_split': None, 'max_leaf_nodes': 6}, {'n_estimators': 100, 'max_features': 'sqrt', 'max_depth': 8, 'min_samples_split': None, 'max_leaf_nodes': 9}, {'n_estimators': 100, 'max_features': 'sqrt', 'max_depth': None, 'min_samples_split': 2, 'max_leaf_nodes': 3}, {'n_estimators': 100, 'max_features': 'sqrt', 'max_depth': None, 'min_samples_split': 2, 'max_leaf_nodes': 6}, {'n_estimators': 100, 'max_features': 'sqrt', 'max_depth': None, 'min_samples_split': 2, 'max_leaf_nodes': 9}, {'n_estimators': 100, 'max_features': 'sqrt', 'max_depth': None, 'min_samples_split': 5, 'max_leaf_nodes': 3}, {'n_estimators': 100, 'max_features': 'sqrt', 'max_depth': None, 'min_samples_split': 5, 'max_leaf_nodes': 6}, {'n_estimators': 100, 'max_features': 'sqrt', 'max_depth': None, 'min_samples_split': 5, 'max_leaf_nodes': 9}, {'n_estimators': 100, 'max_features': 'sqrt', 'max_depth': None, 'min_samples_split': 10, 'max_leaf_nodes': 3}, {'n_estimators': 100, 'max_features': 'sqrt', 'max_depth': None, 'min_samples_split': 10, 'max_leaf_nodes': 6}, {'n_estimators': 100, 'max_features': 'sqrt', 'max_depth': None, 'min_samples_split': 10, 'max_leaf_nodes': 9}, {'n_estimators': 100, 'max_features': 'sqrt', 'max_depth': None, 'min_samples_split': None, 'max_leaf_nodes': 3}, {'n_estimators': 100, 'max_features': 'sqrt', 'max_depth': None, 'min_samples_split': None, 'max_leaf_nodes': 6}, {'n_estimators': 100, 'max_features': 'sqrt', 'max_depth': None, 'min_samples_split': None, 'max_leaf_nodes': 9}, {'n_estimators': 100, 'max_features': 'log2', 'max_depth': 2, 'min_samples_split': 2, 'max_leaf_nodes': 3}, {'n_estimators': 100, 'max_features': 'log2', 'max_depth': 2, 'min_samples_split': 2, 'max_leaf_nodes': 6}, {'n_estimators': 100, 'max_features': 'log2', 'max_depth': 2, 'min_samples_split': 2, 'max_leaf_nodes': 9}, {'n_estimators': 100, 'max_features': 'log2', 'max_depth': 2, 'min_samples_split': 5, 'max_leaf_nodes': 3}, {'n_estimators': 100, 'max_features': 'log2', 'max_depth': 2, 'min_samples_split': 5, 'max_leaf_nodes': 6}, {'n_estimators': 100, 'max_features': 'log2', 'max_depth': 2, 'min_samples_split': 5, 'max_leaf_nodes': 9}, {'n_estimators': 100, 'max_features': 'log2', 'max_depth': 2, 'min_samples_split': 10, 'max_leaf_nodes': 3}, {'n_estimators': 100, 'max_features': 'log2', 'max_depth': 2, 'min_samples_split': 10, 'max_leaf_nodes': 6}, {'n_estimators': 100, 'max_features': 'log2', 'max_depth': 2, 'min_samples_split': 10, 'max_leaf_nodes': 9}, {'n_estimators': 100, 'max_features': 'log2', 'max_depth': 2, 'min_samples_split': None, 'max_leaf_nodes': 3}, {'n_estimators': 100, 'max_features': 'log2', 'max_depth': 2, 'min_samples_split': None, 'max_leaf_nodes': 6}, {'n_estimators': 100, 'max_features': 'log2', 'max_depth': 2, 'min_samples_split': None, 'max_leaf_nodes': 9}, {'n_estimators': 100, 'max_features': 'log2', 'max_depth': 4, 'min_samples_split': 2, 'max_leaf_nodes': 3}, {'n_estimators': 100, 'max_features': 'log2', 'max_depth': 4, 'min_samples_split': 2, 'max_leaf_nodes': 6}, {'n_estimators': 100, 'max_features': 'log2', 'max_depth': 4, 'min_samples_split': 2, 'max_leaf_nodes': 9}, {'n_estimators': 100, 'max_features': 'log2', 'max_depth': 4, 'min_samples_split': 5, 'max_leaf_nodes': 3}, {'n_estimators': 100, 'max_features': 'log2', 'max_depth': 4, 'min_samples_split': 5, 'max_leaf_nodes': 6}, {'n_estimators': 100, 'max_features': 'log2', 'max_depth': 4, 'min_samples_split': 5, 'max_leaf_nodes': 9}, {'n_estimators': 100, 'max_features': 'log2', 'max_depth': 4, 'min_samples_split': 10, 'max_leaf_nodes': 3}, {'n_estimators': 100, 'max_features': 'log2', 'max_depth': 4, 'min_samples_split': 10, 'max_leaf_nodes': 6}, {'n_estimators': 100, 'max_features': 'log2', 'max_depth': 4, 'min_samples_split': 10, 'max_leaf_nodes': 9}, {'n_estimators': 100, 'max_features': 'log2', 'max_depth': 4, 'min_samples_split': None, 'max_leaf_nodes': 3}, {'n_estimators': 100, 'max_features': 'log2', 'max_depth': 4, 'min_samples_split': None, 'max_leaf_nodes': 6}, {'n_estimators': 100, 'max_features': 'log2', 'max_depth': 4, 'min_samples_split': None, 'max_leaf_nodes': 9}, {'n_estimators': 100, 'max_features': 'log2', 'max_depth': 8, 'min_samples_split': 2, 'max_leaf_nodes': 3}, {'n_estimators': 100, 'max_features': 'log2', 'max_depth': 8, 'min_samples_split': 2, 'max_leaf_nodes': 6}, {'n_estimators': 100, 'max_features': 'log2', 'max_depth': 8, 'min_samples_split': 2, 'max_leaf_nodes': 9}, {'n_estimators': 100, 'max_features': 'log2', 'max_depth': 8, 'min_samples_split': 5, 'max_leaf_nodes': 3}, {'n_estimators': 100, 'max_features': 'log2', 'max_depth': 8, 'min_samples_split': 5, 'max_leaf_nodes': 6}, {'n_estimators': 100, 'max_features': 'log2', 'max_depth': 8, 'min_samples_split': 5, 'max_leaf_nodes': 9}, {'n_estimators': 100, 'max_features': 'log2', 'max_depth': 8, 'min_samples_split': 10, 'max_leaf_nodes': 3}, {'n_estimators': 100, 'max_features': 'log2', 'max_depth': 8, 'min_samples_split': 10, 'max_leaf_nodes': 6}, {'n_estimators': 100, 'max_features': 'log2', 'max_depth': 8, 'min_samples_split': 10, 'max_leaf_nodes': 9}, {'n_estimators': 100, 'max_features': 'log2', 'max_depth': 8, 'min_samples_split': None, 'max_leaf_nodes': 3}, {'n_estimators': 100, 'max_features': 'log2', 'max_depth': 8, 'min_samples_split': None, 'max_leaf_nodes': 6}, {'n_estimators': 100, 'max_features': 'log2', 'max_depth': 8, 'min_samples_split': None, 'max_leaf_nodes': 9}, {'n_estimators': 100, 'max_features': 'log2', 'max_depth': None, 'min_samples_split': 2, 'max_leaf_nodes': 3}, {'n_estimators': 100, 'max_features': 'log2', 'max_depth': None, 'min_samples_split': 2, 'max_leaf_nodes': 6}, {'n_estimators': 100, 'max_features': 'log2', 'max_depth': None, 'min_samples_split': 2, 'max_leaf_nodes': 9}, {'n_estimators': 100, 'max_features': 'log2', 'max_depth': None, 'min_samples_split': 5, 'max_leaf_nodes': 3}, {'n_estimators': 100, 'max_features': 'log2', 'max_depth': None, 'min_samples_split': 5, 'max_leaf_nodes': 6}, {'n_estimators': 100, 'max_features': 'log2', 'max_depth': None, 'min_samples_split': 5, 'max_leaf_nodes': 9}, {'n_estimators': 100, 'max_features': 'log2', 'max_depth': None, 'min_samples_split': 10, 'max_leaf_nodes': 3}, {'n_estimators': 100, 'max_features': 'log2', 'max_depth': None, 'min_samples_split': 10, 'max_leaf_nodes': 6}, {'n_estimators': 100, 'max_features': 'log2', 'max_depth': None, 'min_samples_split': 10, 'max_leaf_nodes': 9}, {'n_estimators': 100, 'max_features': 'log2', 'max_depth': None, 'min_samples_split': None, 'max_leaf_nodes': 3}, {'n_estimators': 100, 'max_features': 'log2', 'max_depth': None, 'min_samples_split': None, 'max_leaf_nodes': 6}, {'n_estimators': 100, 'max_features': 'log2', 'max_depth': None, 'min_samples_split': None, 'max_leaf_nodes': 9}, {'n_estimators': 100, 'max_features': None, 'max_depth': 2, 'min_samples_split': 2, 'max_leaf_nodes': 3}, {'n_estimators': 100, 'max_features': None, 'max_depth': 2, 'min_samples_split': 2, 'max_leaf_nodes': 6}, {'n_estimators': 100, 'max_features': None, 'max_depth': 2, 'min_samples_split': 2, 'max_leaf_nodes': 9}, {'n_estimators': 100, 'max_features': None, 'max_depth': 2, 'min_samples_split': 5, 'max_leaf_nodes': 3}, {'n_estimators': 100, 'max_features': None, 'max_depth': 2, 'min_samples_split': 5, 'max_leaf_nodes': 6}, {'n_estimators': 100, 'max_features': None, 'max_depth': 2, 'min_samples_split': 5, 'max_leaf_nodes': 9}, {'n_estimators': 100, 'max_features': None, 'max_depth': 2, 'min_samples_split': 10, 'max_leaf_nodes': 3}, {'n_estimators': 100, 'max_features': None, 'max_depth': 2, 'min_samples_split': 10, 'max_leaf_nodes': 6}, {'n_estimators': 100, 'max_features': None, 'max_depth': 2, 'min_samples_split': 10, 'max_leaf_nodes': 9}, {'n_estimators': 100, 'max_features': None, 'max_depth': 2, 'min_samples_split': None, 'max_leaf_nodes': 3}, {'n_estimators': 100, 'max_features': None, 'max_depth': 2, 'min_samples_split': None, 'max_leaf_nodes': 6}, {'n_estimators': 100, 'max_features': None, 'max_depth': 2, 'min_samples_split': None, 'max_leaf_nodes': 9}, {'n_estimators': 100, 'max_features': None, 'max_depth': 4, 'min_samples_split': 2, 'max_leaf_nodes': 3}, {'n_estimators': 100, 'max_features': None, 'max_depth': 4, 'min_samples_split': 2, 'max_leaf_nodes': 6}, {'n_estimators': 100, 'max_features': None, 'max_depth': 4, 'min_samples_split': 2, 'max_leaf_nodes': 9}, {'n_estimators': 100, 'max_features': None, 'max_depth': 4, 'min_samples_split': 5, 'max_leaf_nodes': 3}, {'n_estimators': 100, 'max_features': None, 'max_depth': 4, 'min_samples_split': 5, 'max_leaf_nodes': 6}, {'n_estimators': 100, 'max_features': None, 'max_depth': 4, 'min_samples_split': 5, 'max_leaf_nodes': 9}, {'n_estimators': 100, 'max_features': None, 'max_depth': 4, 'min_samples_split': 10, 'max_leaf_nodes': 3}, {'n_estimators': 100, 'max_features': None, 'max_depth': 4, 'min_samples_split': 10, 'max_leaf_nodes': 6}, {'n_estimators': 100, 'max_features': None, 'max_depth': 4, 'min_samples_split': 10, 'max_leaf_nodes': 9}, {'n_estimators': 100, 'max_features': None, 'max_depth': 4, 'min_samples_split': None, 'max_leaf_nodes': 3}, {'n_estimators': 100, 'max_features': None, 'max_depth': 4, 'min_samples_split': None, 'max_leaf_nodes': 6}, {'n_estimators': 100, 'max_features': None, 'max_depth': 4, 'min_samples_split': None, 'max_leaf_nodes': 9}, {'n_estimators': 100, 'max_features': None, 'max_depth': 8, 'min_samples_split': 2, 'max_leaf_nodes': 3}, {'n_estimators': 100, 'max_features': None, 'max_depth': 8, 'min_samples_split': 2, 'max_leaf_nodes': 6}, {'n_estimators': 100, 'max_features': None, 'max_depth': 8, 'min_samples_split': 2, 'max_leaf_nodes': 9}, {'n_estimators': 100, 'max_features': None, 'max_depth': 8, 'min_samples_split': 5, 'max_leaf_nodes': 3}, {'n_estimators': 100, 'max_features': None, 'max_depth': 8, 'min_samples_split': 5, 'max_leaf_nodes': 6}, {'n_estimators': 100, 'max_features': None, 'max_depth': 8, 'min_samples_split': 5, 'max_leaf_nodes': 9}, {'n_estimators': 100, 'max_features': None, 'max_depth': 8, 'min_samples_split': 10, 'max_leaf_nodes': 3}, {'n_estimators': 100, 'max_features': None, 'max_depth': 8, 'min_samples_split': 10, 'max_leaf_nodes': 6}, {'n_estimators': 100, 'max_features': None, 'max_depth': 8, 'min_samples_split': 10, 'max_leaf_nodes': 9}, {'n_estimators': 100, 'max_features': None, 'max_depth': 8, 'min_samples_split': None, 'max_leaf_nodes': 3}, {'n_estimators': 100, 'max_features': None, 'max_depth': 8, 'min_samples_split': None, 'max_leaf_nodes': 6}, {'n_estimators': 100, 'max_features': None, 'max_depth': 8, 'min_samples_split': None, 'max_leaf_nodes': 9}, {'n_estimators': 100, 'max_features': None, 'max_depth': None, 'min_samples_split': 2, 'max_leaf_nodes': 3}, {'n_estimators': 100, 'max_features': None, 'max_depth': None, 'min_samples_split': 2, 'max_leaf_nodes': 6}, {'n_estimators': 100, 'max_features': None, 'max_depth': None, 'min_samples_split': 2, 'max_leaf_nodes': 9}, {'n_estimators': 100, 'max_features': None, 'max_depth': None, 'min_samples_split': 5, 'max_leaf_nodes': 3}, {'n_estimators': 100, 'max_features': None, 'max_depth': None, 'min_samples_split': 5, 'max_leaf_nodes': 6}, {'n_estimators': 100, 'max_features': None, 'max_depth': None, 'min_samples_split': 5, 'max_leaf_nodes': 9}, {'n_estimators': 100, 'max_features': None, 'max_depth': None, 'min_samples_split': 10, 'max_leaf_nodes': 3}, {'n_estimators': 100, 'max_features': None, 'max_depth': None, 'min_samples_split': 10, 'max_leaf_nodes': 6}, {'n_estimators': 100, 'max_features': None, 'max_depth': None, 'min_samples_split': 10, 'max_leaf_nodes': 9}, {'n_estimators': 100, 'max_features': None, 'max_depth': None, 'min_samples_split': None, 'max_leaf_nodes': 3}, {'n_estimators': 100, 'max_features': None, 'max_depth': None, 'min_samples_split': None, 'max_leaf_nodes': 6}, {'n_estimators': 100, 'max_features': None, 'max_depth': None, 'min_samples_split': None, 'max_leaf_nodes': 9}, {'n_estimators': 200, 'max_features': 'sqrt', 'max_depth': 2, 'min_samples_split': 2, 'max_leaf_nodes': 3}, {'n_estimators': 200, 'max_features': 'sqrt', 'max_depth': 2, 'min_samples_split': 2, 'max_leaf_nodes': 6}, {'n_estimators': 200, 'max_features': 'sqrt', 'max_depth': 2, 'min_samples_split': 2, 'max_leaf_nodes': 9}, {'n_estimators': 200, 'max_features': 'sqrt', 'max_depth': 2, 'min_samples_split': 5, 'max_leaf_nodes': 3}, {'n_estimators': 200, 'max_features': 'sqrt', 'max_depth': 2, 'min_samples_split': 5, 'max_leaf_nodes': 6}, {'n_estimators': 200, 'max_features': 'sqrt', 'max_depth': 2, 'min_samples_split': 5, 'max_leaf_nodes': 9}, {'n_estimators': 200, 'max_features': 'sqrt', 'max_depth': 2, 'min_samples_split': 10, 'max_leaf_nodes': 3}, {'n_estimators': 200, 'max_features': 'sqrt', 'max_depth': 2, 'min_samples_split': 10, 'max_leaf_nodes': 6}, {'n_estimators': 200, 'max_features': 'sqrt', 'max_depth': 2, 'min_samples_split': 10, 'max_leaf_nodes': 9}, {'n_estimators': 200, 'max_features': 'sqrt', 'max_depth': 2, 'min_samples_split': None, 'max_leaf_nodes': 3}, {'n_estimators': 200, 'max_features': 'sqrt', 'max_depth': 2, 'min_samples_split': None, 'max_leaf_nodes': 6}, {'n_estimators': 200, 'max_features': 'sqrt', 'max_depth': 2, 'min_samples_split': None, 'max_leaf_nodes': 9}, {'n_estimators': 200, 'max_features': 'sqrt', 'max_depth': 4, 'min_samples_split': 2, 'max_leaf_nodes': 3}, {'n_estimators': 200, 'max_features': 'sqrt', 'max_depth': 4, 'min_samples_split': 2, 'max_leaf_nodes': 6}, {'n_estimators': 200, 'max_features': 'sqrt', 'max_depth': 4, 'min_samples_split': 2, 'max_leaf_nodes': 9}, {'n_estimators': 200, 'max_features': 'sqrt', 'max_depth': 4, 'min_samples_split': 5, 'max_leaf_nodes': 3}, {'n_estimators': 200, 'max_features': 'sqrt', 'max_depth': 4, 'min_samples_split': 5, 'max_leaf_nodes': 6}, {'n_estimators': 200, 'max_features': 'sqrt', 'max_depth': 4, 'min_samples_split': 5, 'max_leaf_nodes': 9}, {'n_estimators': 200, 'max_features': 'sqrt', 'max_depth': 4, 'min_samples_split': 10, 'max_leaf_nodes': 3}, {'n_estimators': 200, 'max_features': 'sqrt', 'max_depth': 4, 'min_samples_split': 10, 'max_leaf_nodes': 6}, {'n_estimators': 200, 'max_features': 'sqrt', 'max_depth': 4, 'min_samples_split': 10, 'max_leaf_nodes': 9}, {'n_estimators': 200, 'max_features': 'sqrt', 'max_depth': 4, 'min_samples_split': None, 'max_leaf_nodes': 3}, {'n_estimators': 200, 'max_features': 'sqrt', 'max_depth': 4, 'min_samples_split': None, 'max_leaf_nodes': 6}, {'n_estimators': 200, 'max_features': 'sqrt', 'max_depth': 4, 'min_samples_split': None, 'max_leaf_nodes': 9}, {'n_estimators': 200, 'max_features': 'sqrt', 'max_depth': 8, 'min_samples_split': 2, 'max_leaf_nodes': 3}, {'n_estimators': 200, 'max_features': 'sqrt', 'max_depth': 8, 'min_samples_split': 2, 'max_leaf_nodes': 6}, {'n_estimators': 200, 'max_features': 'sqrt', 'max_depth': 8, 'min_samples_split': 2, 'max_leaf_nodes': 9}, {'n_estimators': 200, 'max_features': 'sqrt', 'max_depth': 8, 'min_samples_split': 5, 'max_leaf_nodes': 3}, {'n_estimators': 200, 'max_features': 'sqrt', 'max_depth': 8, 'min_samples_split': 5, 'max_leaf_nodes': 6}, {'n_estimators': 200, 'max_features': 'sqrt', 'max_depth': 8, 'min_samples_split': 5, 'max_leaf_nodes': 9}, {'n_estimators': 200, 'max_features': 'sqrt', 'max_depth': 8, 'min_samples_split': 10, 'max_leaf_nodes': 3}, {'n_estimators': 200, 'max_features': 'sqrt', 'max_depth': 8, 'min_samples_split': 10, 'max_leaf_nodes': 6}, {'n_estimators': 200, 'max_features': 'sqrt', 'max_depth': 8, 'min_samples_split': 10, 'max_leaf_nodes': 9}, {'n_estimators': 200, 'max_features': 'sqrt', 'max_depth': 8, 'min_samples_split': None, 'max_leaf_nodes': 3}, {'n_estimators': 200, 'max_features': 'sqrt', 'max_depth': 8, 'min_samples_split': None, 'max_leaf_nodes': 6}, {'n_estimators': 200, 'max_features': 'sqrt', 'max_depth': 8, 'min_samples_split': None, 'max_leaf_nodes': 9}, {'n_estimators': 200, 'max_features': 'sqrt', 'max_depth': None, 'min_samples_split': 2, 'max_leaf_nodes': 3}, {'n_estimators': 200, 'max_features': 'sqrt', 'max_depth': None, 'min_samples_split': 2, 'max_leaf_nodes': 6}, {'n_estimators': 200, 'max_features': 'sqrt', 'max_depth': None, 'min_samples_split': 2, 'max_leaf_nodes': 9}, {'n_estimators': 200, 'max_features': 'sqrt', 'max_depth': None, 'min_samples_split': 5, 'max_leaf_nodes': 3}, {'n_estimators': 200, 'max_features': 'sqrt', 'max_depth': None, 'min_samples_split': 5, 'max_leaf_nodes': 6}, {'n_estimators': 200, 'max_features': 'sqrt', 'max_depth': None, 'min_samples_split': 5, 'max_leaf_nodes': 9}, {'n_estimators': 200, 'max_features': 'sqrt', 'max_depth': None, 'min_samples_split': 10, 'max_leaf_nodes': 3}, {'n_estimators': 200, 'max_features': 'sqrt', 'max_depth': None, 'min_samples_split': 10, 'max_leaf_nodes': 6}, {'n_estimators': 200, 'max_features': 'sqrt', 'max_depth': None, 'min_samples_split': 10, 'max_leaf_nodes': 9}, {'n_estimators': 200, 'max_features': 'sqrt', 'max_depth': None, 'min_samples_split': None, 'max_leaf_nodes': 3}, {'n_estimators': 200, 'max_features': 'sqrt', 'max_depth': None, 'min_samples_split': None, 'max_leaf_nodes': 6}, {'n_estimators': 200, 'max_features': 'sqrt', 'max_depth': None, 'min_samples_split': None, 'max_leaf_nodes': 9}, {'n_estimators': 200, 'max_features': 'log2', 'max_depth': 2, 'min_samples_split': 2, 'max_leaf_nodes': 3}, {'n_estimators': 200, 'max_features': 'log2', 'max_depth': 2, 'min_samples_split': 2, 'max_leaf_nodes': 6}, {'n_estimators': 200, 'max_features': 'log2', 'max_depth': 2, 'min_samples_split': 2, 'max_leaf_nodes': 9}, {'n_estimators': 200, 'max_features': 'log2', 'max_depth': 2, 'min_samples_split': 5, 'max_leaf_nodes': 3}, {'n_estimators': 200, 'max_features': 'log2', 'max_depth': 2, 'min_samples_split': 5, 'max_leaf_nodes': 6}, {'n_estimators': 200, 'max_features': 'log2', 'max_depth': 2, 'min_samples_split': 5, 'max_leaf_nodes': 9}, {'n_estimators': 200, 'max_features': 'log2', 'max_depth': 2, 'min_samples_split': 10, 'max_leaf_nodes': 3}, {'n_estimators': 200, 'max_features': 'log2', 'max_depth': 2, 'min_samples_split': 10, 'max_leaf_nodes': 6}, {'n_estimators': 200, 'max_features': 'log2', 'max_depth': 2, 'min_samples_split': 10, 'max_leaf_nodes': 9}, {'n_estimators': 200, 'max_features': 'log2', 'max_depth': 2, 'min_samples_split': None, 'max_leaf_nodes': 3}, {'n_estimators': 200, 'max_features': 'log2', 'max_depth': 2, 'min_samples_split': None, 'max_leaf_nodes': 6}, {'n_estimators': 200, 'max_features': 'log2', 'max_depth': 2, 'min_samples_split': None, 'max_leaf_nodes': 9}, {'n_estimators': 200, 'max_features': 'log2', 'max_depth': 4, 'min_samples_split': 2, 'max_leaf_nodes': 3}, {'n_estimators': 200, 'max_features': 'log2', 'max_depth': 4, 'min_samples_split': 2, 'max_leaf_nodes': 6}, {'n_estimators': 200, 'max_features': 'log2', 'max_depth': 4, 'min_samples_split': 2, 'max_leaf_nodes': 9}, {'n_estimators': 200, 'max_features': 'log2', 'max_depth': 4, 'min_samples_split': 5, 'max_leaf_nodes': 3}, {'n_estimators': 200, 'max_features': 'log2', 'max_depth': 4, 'min_samples_split': 5, 'max_leaf_nodes': 6}, {'n_estimators': 200, 'max_features': 'log2', 'max_depth': 4, 'min_samples_split': 5, 'max_leaf_nodes': 9}, {'n_estimators': 200, 'max_features': 'log2', 'max_depth': 4, 'min_samples_split': 10, 'max_leaf_nodes': 3}, {'n_estimators': 200, 'max_features': 'log2', 'max_depth': 4, 'min_samples_split': 10, 'max_leaf_nodes': 6}, {'n_estimators': 200, 'max_features': 'log2', 'max_depth': 4, 'min_samples_split': 10, 'max_leaf_nodes': 9}, {'n_estimators': 200, 'max_features': 'log2', 'max_depth': 4, 'min_samples_split': None, 'max_leaf_nodes': 3}, {'n_estimators': 200, 'max_features': 'log2', 'max_depth': 4, 'min_samples_split': None, 'max_leaf_nodes': 6}, {'n_estimators': 200, 'max_features': 'log2', 'max_depth': 4, 'min_samples_split': None, 'max_leaf_nodes': 9}, {'n_estimators': 200, 'max_features': 'log2', 'max_depth': 8, 'min_samples_split': 2, 'max_leaf_nodes': 3}, {'n_estimators': 200, 'max_features': 'log2', 'max_depth': 8, 'min_samples_split': 2, 'max_leaf_nodes': 6}, {'n_estimators': 200, 'max_features': 'log2', 'max_depth': 8, 'min_samples_split': 2, 'max_leaf_nodes': 9}, {'n_estimators': 200, 'max_features': 'log2', 'max_depth': 8, 'min_samples_split': 5, 'max_leaf_nodes': 3}, {'n_estimators': 200, 'max_features': 'log2', 'max_depth': 8, 'min_samples_split': 5, 'max_leaf_nodes': 6}, {'n_estimators': 200, 'max_features': 'log2', 'max_depth': 8, 'min_samples_split': 5, 'max_leaf_nodes': 9}, {'n_estimators': 200, 'max_features': 'log2', 'max_depth': 8, 'min_samples_split': 10, 'max_leaf_nodes': 3}, {'n_estimators': 200, 'max_features': 'log2', 'max_depth': 8, 'min_samples_split': 10, 'max_leaf_nodes': 6}, {'n_estimators': 200, 'max_features': 'log2', 'max_depth': 8, 'min_samples_split': 10, 'max_leaf_nodes': 9}, {'n_estimators': 200, 'max_features': 'log2', 'max_depth': 8, 'min_samples_split': None, 'max_leaf_nodes': 3}, {'n_estimators': 200, 'max_features': 'log2', 'max_depth': 8, 'min_samples_split': None, 'max_leaf_nodes': 6}, {'n_estimators': 200, 'max_features': 'log2', 'max_depth': 8, 'min_samples_split': None, 'max_leaf_nodes': 9}, {'n_estimators': 200, 'max_features': 'log2', 'max_depth': None, 'min_samples_split': 2, 'max_leaf_nodes': 3}, {'n_estimators': 200, 'max_features': 'log2', 'max_depth': None, 'min_samples_split': 2, 'max_leaf_nodes': 6}, {'n_estimators': 200, 'max_features': 'log2', 'max_depth': None, 'min_samples_split': 2, 'max_leaf_nodes': 9}, {'n_estimators': 200, 'max_features': 'log2', 'max_depth': None, 'min_samples_split': 5, 'max_leaf_nodes': 3}, {'n_estimators': 200, 'max_features': 'log2', 'max_depth': None, 'min_samples_split': 5, 'max_leaf_nodes': 6}, {'n_estimators': 200, 'max_features': 'log2', 'max_depth': None, 'min_samples_split': 5, 'max_leaf_nodes': 9}, {'n_estimators': 200, 'max_features': 'log2', 'max_depth': None, 'min_samples_split': 10, 'max_leaf_nodes': 3}, {'n_estimators': 200, 'max_features': 'log2', 'max_depth': None, 'min_samples_split': 10, 'max_leaf_nodes': 6}, {'n_estimators': 200, 'max_features': 'log2', 'max_depth': None, 'min_samples_split': 10, 'max_leaf_nodes': 9}, {'n_estimators': 200, 'max_features': 'log2', 'max_depth': None, 'min_samples_split': None, 'max_leaf_nodes': 3}, {'n_estimators': 200, 'max_features': 'log2', 'max_depth': None, 'min_samples_split': None, 'max_leaf_nodes': 6}, {'n_estimators': 200, 'max_features': 'log2', 'max_depth': None, 'min_samples_split': None, 'max_leaf_nodes': 9}, {'n_estimators': 200, 'max_features': None, 'max_depth': 2, 'min_samples_split': 2, 'max_leaf_nodes': 3}, {'n_estimators': 200, 'max_features': None, 'max_depth': 2, 'min_samples_split': 2, 'max_leaf_nodes': 6}, {'n_estimators': 200, 'max_features': None, 'max_depth': 2, 'min_samples_split': 2, 'max_leaf_nodes': 9}, {'n_estimators': 200, 'max_features': None, 'max_depth': 2, 'min_samples_split': 5, 'max_leaf_nodes': 3}, {'n_estimators': 200, 'max_features': None, 'max_depth': 2, 'min_samples_split': 5, 'max_leaf_nodes': 6}, {'n_estimators': 200, 'max_features': None, 'max_depth': 2, 'min_samples_split': 5, 'max_leaf_nodes': 9}, {'n_estimators': 200, 'max_features': None, 'max_depth': 2, 'min_samples_split': 10, 'max_leaf_nodes': 3}, {'n_estimators': 200, 'max_features': None, 'max_depth': 2, 'min_samples_split': 10, 'max_leaf_nodes': 6}, {'n_estimators': 200, 'max_features': None, 'max_depth': 2, 'min_samples_split': 10, 'max_leaf_nodes': 9}, {'n_estimators': 200, 'max_features': None, 'max_depth': 2, 'min_samples_split': None, 'max_leaf_nodes': 3}, {'n_estimators': 200, 'max_features': None, 'max_depth': 2, 'min_samples_split': None, 'max_leaf_nodes': 6}, {'n_estimators': 200, 'max_features': None, 'max_depth': 2, 'min_samples_split': None, 'max_leaf_nodes': 9}, {'n_estimators': 200, 'max_features': None, 'max_depth': 4, 'min_samples_split': 2, 'max_leaf_nodes': 3}, {'n_estimators': 200, 'max_features': None, 'max_depth': 4, 'min_samples_split': 2, 'max_leaf_nodes': 6}, {'n_estimators': 200, 'max_features': None, 'max_depth': 4, 'min_samples_split': 2, 'max_leaf_nodes': 9}, {'n_estimators': 200, 'max_features': None, 'max_depth': 4, 'min_samples_split': 5, 'max_leaf_nodes': 3}, {'n_estimators': 200, 'max_features': None, 'max_depth': 4, 'min_samples_split': 5, 'max_leaf_nodes': 6}, {'n_estimators': 200, 'max_features': None, 'max_depth': 4, 'min_samples_split': 5, 'max_leaf_nodes': 9}, {'n_estimators': 200, 'max_features': None, 'max_depth': 4, 'min_samples_split': 10, 'max_leaf_nodes': 3}, {'n_estimators': 200, 'max_features': None, 'max_depth': 4, 'min_samples_split': 10, 'max_leaf_nodes': 6}, {'n_estimators': 200, 'max_features': None, 'max_depth': 4, 'min_samples_split': 10, 'max_leaf_nodes': 9}, {'n_estimators': 200, 'max_features': None, 'max_depth': 4, 'min_samples_split': None, 'max_leaf_nodes': 3}, {'n_estimators': 200, 'max_features': None, 'max_depth': 4, 'min_samples_split': None, 'max_leaf_nodes': 6}, {'n_estimators': 200, 'max_features': None, 'max_depth': 4, 'min_samples_split': None, 'max_leaf_nodes': 9}, {'n_estimators': 200, 'max_features': None, 'max_depth': 8, 'min_samples_split': 2, 'max_leaf_nodes': 3}, {'n_estimators': 200, 'max_features': None, 'max_depth': 8, 'min_samples_split': 2, 'max_leaf_nodes': 6}, {'n_estimators': 200, 'max_features': None, 'max_depth': 8, 'min_samples_split': 2, 'max_leaf_nodes': 9}, {'n_estimators': 200, 'max_features': None, 'max_depth': 8, 'min_samples_split': 5, 'max_leaf_nodes': 3}, {'n_estimators': 200, 'max_features': None, 'max_depth': 8, 'min_samples_split': 5, 'max_leaf_nodes': 6}, {'n_estimators': 200, 'max_features': None, 'max_depth': 8, 'min_samples_split': 5, 'max_leaf_nodes': 9}, {'n_estimators': 200, 'max_features': None, 'max_depth': 8, 'min_samples_split': 10, 'max_leaf_nodes': 3}, {'n_estimators': 200, 'max_features': None, 'max_depth': 8, 'min_samples_split': 10, 'max_leaf_nodes': 6}, {'n_estimators': 200, 'max_features': None, 'max_depth': 8, 'min_samples_split': 10, 'max_leaf_nodes': 9}, {'n_estimators': 200, 'max_features': None, 'max_depth': 8, 'min_samples_split': None, 'max_leaf_nodes': 3}, {'n_estimators': 200, 'max_features': None, 'max_depth': 8, 'min_samples_split': None, 'max_leaf_nodes': 6}, {'n_estimators': 200, 'max_features': None, 'max_depth': 8, 'min_samples_split': None, 'max_leaf_nodes': 9}, {'n_estimators': 200, 'max_features': None, 'max_depth': None, 'min_samples_split': 2, 'max_leaf_nodes': 3}, {'n_estimators': 200, 'max_features': None, 'max_depth': None, 'min_samples_split': 2, 'max_leaf_nodes': 6}, {'n_estimators': 200, 'max_features': None, 'max_depth': None, 'min_samples_split': 2, 'max_leaf_nodes': 9}, {'n_estimators': 200, 'max_features': None, 'max_depth': None, 'min_samples_split': 5, 'max_leaf_nodes': 3}, {'n_estimators': 200, 'max_features': None, 'max_depth': None, 'min_samples_split': 5, 'max_leaf_nodes': 6}, {'n_estimators': 200, 'max_features': None, 'max_depth': None, 'min_samples_split': 5, 'max_leaf_nodes': 9}, {'n_estimators': 200, 'max_features': None, 'max_depth': None, 'min_samples_split': 10, 'max_leaf_nodes': 3}, {'n_estimators': 200, 'max_features': None, 'max_depth': None, 'min_samples_split': 10, 'max_leaf_nodes': 6}, {'n_estimators': 200, 'max_features': None, 'max_depth': None, 'min_samples_split': 10, 'max_leaf_nodes': 9}, {'n_estimators': 200, 'max_features': None, 'max_depth': None, 'min_samples_split': None, 'max_leaf_nodes': 3}, {'n_estimators': 200, 'max_features': None, 'max_depth': None, 'min_samples_split': None, 'max_leaf_nodes': 6}, {'n_estimators': 200, 'max_features': None, 'max_depth': None, 'min_samples_split': None, 'max_leaf_nodes': 9}, {'n_estimators': 300, 'max_features': 'sqrt', 'max_depth': 2, 'min_samples_split': 2, 'max_leaf_nodes': 3}, {'n_estimators': 300, 'max_features': 'sqrt', 'max_depth': 2, 'min_samples_split': 2, 'max_leaf_nodes': 6}, {'n_estimators': 300, 'max_features': 'sqrt', 'max_depth': 2, 'min_samples_split': 2, 'max_leaf_nodes': 9}, {'n_estimators': 300, 'max_features': 'sqrt', 'max_depth': 2, 'min_samples_split': 5, 'max_leaf_nodes': 3}, {'n_estimators': 300, 'max_features': 'sqrt', 'max_depth': 2, 'min_samples_split': 5, 'max_leaf_nodes': 6}, {'n_estimators': 300, 'max_features': 'sqrt', 'max_depth': 2, 'min_samples_split': 5, 'max_leaf_nodes': 9}, {'n_estimators': 300, 'max_features': 'sqrt', 'max_depth': 2, 'min_samples_split': 10, 'max_leaf_nodes': 3}, {'n_estimators': 300, 'max_features': 'sqrt', 'max_depth': 2, 'min_samples_split': 10, 'max_leaf_nodes': 6}, {'n_estimators': 300, 'max_features': 'sqrt', 'max_depth': 2, 'min_samples_split': 10, 'max_leaf_nodes': 9}, {'n_estimators': 300, 'max_features': 'sqrt', 'max_depth': 2, 'min_samples_split': None, 'max_leaf_nodes': 3}, {'n_estimators': 300, 'max_features': 'sqrt', 'max_depth': 2, 'min_samples_split': None, 'max_leaf_nodes': 6}, {'n_estimators': 300, 'max_features': 'sqrt', 'max_depth': 2, 'min_samples_split': None, 'max_leaf_nodes': 9}, {'n_estimators': 300, 'max_features': 'sqrt', 'max_depth': 4, 'min_samples_split': 2, 'max_leaf_nodes': 3}, {'n_estimators': 300, 'max_features': 'sqrt', 'max_depth': 4, 'min_samples_split': 2, 'max_leaf_nodes': 6}, {'n_estimators': 300, 'max_features': 'sqrt', 'max_depth': 4, 'min_samples_split': 2, 'max_leaf_nodes': 9}, {'n_estimators': 300, 'max_features': 'sqrt', 'max_depth': 4, 'min_samples_split': 5, 'max_leaf_nodes': 3}, {'n_estimators': 300, 'max_features': 'sqrt', 'max_depth': 4, 'min_samples_split': 5, 'max_leaf_nodes': 6}, {'n_estimators': 300, 'max_features': 'sqrt', 'max_depth': 4, 'min_samples_split': 5, 'max_leaf_nodes': 9}, {'n_estimators': 300, 'max_features': 'sqrt', 'max_depth': 4, 'min_samples_split': 10, 'max_leaf_nodes': 3}, {'n_estimators': 300, 'max_features': 'sqrt', 'max_depth': 4, 'min_samples_split': 10, 'max_leaf_nodes': 6}, {'n_estimators': 300, 'max_features': 'sqrt', 'max_depth': 4, 'min_samples_split': 10, 'max_leaf_nodes': 9}, {'n_estimators': 300, 'max_features': 'sqrt', 'max_depth': 4, 'min_samples_split': None, 'max_leaf_nodes': 3}, {'n_estimators': 300, 'max_features': 'sqrt', 'max_depth': 4, 'min_samples_split': None, 'max_leaf_nodes': 6}, {'n_estimators': 300, 'max_features': 'sqrt', 'max_depth': 4, 'min_samples_split': None, 'max_leaf_nodes': 9}, {'n_estimators': 300, 'max_features': 'sqrt', 'max_depth': 8, 'min_samples_split': 2, 'max_leaf_nodes': 3}, {'n_estimators': 300, 'max_features': 'sqrt', 'max_depth': 8, 'min_samples_split': 2, 'max_leaf_nodes': 6}, {'n_estimators': 300, 'max_features': 'sqrt', 'max_depth': 8, 'min_samples_split': 2, 'max_leaf_nodes': 9}, {'n_estimators': 300, 'max_features': 'sqrt', 'max_depth': 8, 'min_samples_split': 5, 'max_leaf_nodes': 3}, {'n_estimators': 300, 'max_features': 'sqrt', 'max_depth': 8, 'min_samples_split': 5, 'max_leaf_nodes': 6}, {'n_estimators': 300, 'max_features': 'sqrt', 'max_depth': 8, 'min_samples_split': 5, 'max_leaf_nodes': 9}, {'n_estimators': 300, 'max_features': 'sqrt', 'max_depth': 8, 'min_samples_split': 10, 'max_leaf_nodes': 3}, {'n_estimators': 300, 'max_features': 'sqrt', 'max_depth': 8, 'min_samples_split': 10, 'max_leaf_nodes': 6}, {'n_estimators': 300, 'max_features': 'sqrt', 'max_depth': 8, 'min_samples_split': 10, 'max_leaf_nodes': 9}, {'n_estimators': 300, 'max_features': 'sqrt', 'max_depth': 8, 'min_samples_split': None, 'max_leaf_nodes': 3}, {'n_estimators': 300, 'max_features': 'sqrt', 'max_depth': 8, 'min_samples_split': None, 'max_leaf_nodes': 6}, {'n_estimators': 300, 'max_features': 'sqrt', 'max_depth': 8, 'min_samples_split': None, 'max_leaf_nodes': 9}, {'n_estimators': 300, 'max_features': 'sqrt', 'max_depth': None, 'min_samples_split': 2, 'max_leaf_nodes': 3}, {'n_estimators': 300, 'max_features': 'sqrt', 'max_depth': None, 'min_samples_split': 2, 'max_leaf_nodes': 6}, {'n_estimators': 300, 'max_features': 'sqrt', 'max_depth': None, 'min_samples_split': 2, 'max_leaf_nodes': 9}, {'n_estimators': 300, 'max_features': 'sqrt', 'max_depth': None, 'min_samples_split': 5, 'max_leaf_nodes': 3}, {'n_estimators': 300, 'max_features': 'sqrt', 'max_depth': None, 'min_samples_split': 5, 'max_leaf_nodes': 6}, {'n_estimators': 300, 'max_features': 'sqrt', 'max_depth': None, 'min_samples_split': 5, 'max_leaf_nodes': 9}, {'n_estimators': 300, 'max_features': 'sqrt', 'max_depth': None, 'min_samples_split': 10, 'max_leaf_nodes': 3}, {'n_estimators': 300, 'max_features': 'sqrt', 'max_depth': None, 'min_samples_split': 10, 'max_leaf_nodes': 6}, {'n_estimators': 300, 'max_features': 'sqrt', 'max_depth': None, 'min_samples_split': 10, 'max_leaf_nodes': 9}, {'n_estimators': 300, 'max_features': 'sqrt', 'max_depth': None, 'min_samples_split': None, 'max_leaf_nodes': 3}, {'n_estimators': 300, 'max_features': 'sqrt', 'max_depth': None, 'min_samples_split': None, 'max_leaf_nodes': 6}, {'n_estimators': 300, 'max_features': 'sqrt', 'max_depth': None, 'min_samples_split': None, 'max_leaf_nodes': 9}, {'n_estimators': 300, 'max_features': 'log2', 'max_depth': 2, 'min_samples_split': 2, 'max_leaf_nodes': 3}, {'n_estimators': 300, 'max_features': 'log2', 'max_depth': 2, 'min_samples_split': 2, 'max_leaf_nodes': 6}, {'n_estimators': 300, 'max_features': 'log2', 'max_depth': 2, 'min_samples_split': 2, 'max_leaf_nodes': 9}, {'n_estimators': 300, 'max_features': 'log2', 'max_depth': 2, 'min_samples_split': 5, 'max_leaf_nodes': 3}, {'n_estimators': 300, 'max_features': 'log2', 'max_depth': 2, 'min_samples_split': 5, 'max_leaf_nodes': 6}, {'n_estimators': 300, 'max_features': 'log2', 'max_depth': 2, 'min_samples_split': 5, 'max_leaf_nodes': 9}, {'n_estimators': 300, 'max_features': 'log2', 'max_depth': 2, 'min_samples_split': 10, 'max_leaf_nodes': 3}, {'n_estimators': 300, 'max_features': 'log2', 'max_depth': 2, 'min_samples_split': 10, 'max_leaf_nodes': 6}, {'n_estimators': 300, 'max_features': 'log2', 'max_depth': 2, 'min_samples_split': 10, 'max_leaf_nodes': 9}, {'n_estimators': 300, 'max_features': 'log2', 'max_depth': 2, 'min_samples_split': None, 'max_leaf_nodes': 3}, {'n_estimators': 300, 'max_features': 'log2', 'max_depth': 2, 'min_samples_split': None, 'max_leaf_nodes': 6}, {'n_estimators': 300, 'max_features': 'log2', 'max_depth': 2, 'min_samples_split': None, 'max_leaf_nodes': 9}, {'n_estimators': 300, 'max_features': 'log2', 'max_depth': 4, 'min_samples_split': 2, 'max_leaf_nodes': 3}, {'n_estimators': 300, 'max_features': 'log2', 'max_depth': 4, 'min_samples_split': 2, 'max_leaf_nodes': 6}, {'n_estimators': 300, 'max_features': 'log2', 'max_depth': 4, 'min_samples_split': 2, 'max_leaf_nodes': 9}, {'n_estimators': 300, 'max_features': 'log2', 'max_depth': 4, 'min_samples_split': 5, 'max_leaf_nodes': 3}, {'n_estimators': 300, 'max_features': 'log2', 'max_depth': 4, 'min_samples_split': 5, 'max_leaf_nodes': 6}, {'n_estimators': 300, 'max_features': 'log2', 'max_depth': 4, 'min_samples_split': 5, 'max_leaf_nodes': 9}, {'n_estimators': 300, 'max_features': 'log2', 'max_depth': 4, 'min_samples_split': 10, 'max_leaf_nodes': 3}, {'n_estimators': 300, 'max_features': 'log2', 'max_depth': 4, 'min_samples_split': 10, 'max_leaf_nodes': 6}, {'n_estimators': 300, 'max_features': 'log2', 'max_depth': 4, 'min_samples_split': 10, 'max_leaf_nodes': 9}, {'n_estimators': 300, 'max_features': 'log2', 'max_depth': 4, 'min_samples_split': None, 'max_leaf_nodes': 3}, {'n_estimators': 300, 'max_features': 'log2', 'max_depth': 4, 'min_samples_split': None, 'max_leaf_nodes': 6}, {'n_estimators': 300, 'max_features': 'log2', 'max_depth': 4, 'min_samples_split': None, 'max_leaf_nodes': 9}, {'n_estimators': 300, 'max_features': 'log2', 'max_depth': 8, 'min_samples_split': 2, 'max_leaf_nodes': 3}, {'n_estimators': 300, 'max_features': 'log2', 'max_depth': 8, 'min_samples_split': 2, 'max_leaf_nodes': 6}, {'n_estimators': 300, 'max_features': 'log2', 'max_depth': 8, 'min_samples_split': 2, 'max_leaf_nodes': 9}, {'n_estimators': 300, 'max_features': 'log2', 'max_depth': 8, 'min_samples_split': 5, 'max_leaf_nodes': 3}, {'n_estimators': 300, 'max_features': 'log2', 'max_depth': 8, 'min_samples_split': 5, 'max_leaf_nodes': 6}, {'n_estimators': 300, 'max_features': 'log2', 'max_depth': 8, 'min_samples_split': 5, 'max_leaf_nodes': 9}, {'n_estimators': 300, 'max_features': 'log2', 'max_depth': 8, 'min_samples_split': 10, 'max_leaf_nodes': 3}, {'n_estimators': 300, 'max_features': 'log2', 'max_depth': 8, 'min_samples_split': 10, 'max_leaf_nodes': 6}, {'n_estimators': 300, 'max_features': 'log2', 'max_depth': 8, 'min_samples_split': 10, 'max_leaf_nodes': 9}, {'n_estimators': 300, 'max_features': 'log2', 'max_depth': 8, 'min_samples_split': None, 'max_leaf_nodes': 3}, {'n_estimators': 300, 'max_features': 'log2', 'max_depth': 8, 'min_samples_split': None, 'max_leaf_nodes': 6}, {'n_estimators': 300, 'max_features': 'log2', 'max_depth': 8, 'min_samples_split': None, 'max_leaf_nodes': 9}, {'n_estimators': 300, 'max_features': 'log2', 'max_depth': None, 'min_samples_split': 2, 'max_leaf_nodes': 3}, {'n_estimators': 300, 'max_features': 'log2', 'max_depth': None, 'min_samples_split': 2, 'max_leaf_nodes': 6}, {'n_estimators': 300, 'max_features': 'log2', 'max_depth': None, 'min_samples_split': 2, 'max_leaf_nodes': 9}, {'n_estimators': 300, 'max_features': 'log2', 'max_depth': None, 'min_samples_split': 5, 'max_leaf_nodes': 3}, {'n_estimators': 300, 'max_features': 'log2', 'max_depth': None, 'min_samples_split': 5, 'max_leaf_nodes': 6}, {'n_estimators': 300, 'max_features': 'log2', 'max_depth': None, 'min_samples_split': 5, 'max_leaf_nodes': 9}, {'n_estimators': 300, 'max_features': 'log2', 'max_depth': None, 'min_samples_split': 10, 'max_leaf_nodes': 3}, {'n_estimators': 300, 'max_features': 'log2', 'max_depth': None, 'min_samples_split': 10, 'max_leaf_nodes': 6}, {'n_estimators': 300, 'max_features': 'log2', 'max_depth': None, 'min_samples_split': 10, 'max_leaf_nodes': 9}, {'n_estimators': 300, 'max_features': 'log2', 'max_depth': None, 'min_samples_split': None, 'max_leaf_nodes': 3}, {'n_estimators': 300, 'max_features': 'log2', 'max_depth': None, 'min_samples_split': None, 'max_leaf_nodes': 6}, {'n_estimators': 300, 'max_features': 'log2', 'max_depth': None, 'min_samples_split': None, 'max_leaf_nodes': 9}, {'n_estimators': 300, 'max_features': None, 'max_depth': 2, 'min_samples_split': 2, 'max_leaf_nodes': 3}, {'n_estimators': 300, 'max_features': None, 'max_depth': 2, 'min_samples_split': 2, 'max_leaf_nodes': 6}, {'n_estimators': 300, 'max_features': None, 'max_depth': 2, 'min_samples_split': 2, 'max_leaf_nodes': 9}, {'n_estimators': 300, 'max_features': None, 'max_depth': 2, 'min_samples_split': 5, 'max_leaf_nodes': 3}, {'n_estimators': 300, 'max_features': None, 'max_depth': 2, 'min_samples_split': 5, 'max_leaf_nodes': 6}, {'n_estimators': 300, 'max_features': None, 'max_depth': 2, 'min_samples_split': 5, 'max_leaf_nodes': 9}, {'n_estimators': 300, 'max_features': None, 'max_depth': 2, 'min_samples_split': 10, 'max_leaf_nodes': 3}, {'n_estimators': 300, 'max_features': None, 'max_depth': 2, 'min_samples_split': 10, 'max_leaf_nodes': 6}, {'n_estimators': 300, 'max_features': None, 'max_depth': 2, 'min_samples_split': 10, 'max_leaf_nodes': 9}, {'n_estimators': 300, 'max_features': None, 'max_depth': 2, 'min_samples_split': None, 'max_leaf_nodes': 3}, {'n_estimators': 300, 'max_features': None, 'max_depth': 2, 'min_samples_split': None, 'max_leaf_nodes': 6}, {'n_estimators': 300, 'max_features': None, 'max_depth': 2, 'min_samples_split': None, 'max_leaf_nodes': 9}, {'n_estimators': 300, 'max_features': None, 'max_depth': 4, 'min_samples_split': 2, 'max_leaf_nodes': 3}, {'n_estimators': 300, 'max_features': None, 'max_depth': 4, 'min_samples_split': 2, 'max_leaf_nodes': 6}, {'n_estimators': 300, 'max_features': None, 'max_depth': 4, 'min_samples_split': 2, 'max_leaf_nodes': 9}, {'n_estimators': 300, 'max_features': None, 'max_depth': 4, 'min_samples_split': 5, 'max_leaf_nodes': 3}, {'n_estimators': 300, 'max_features': None, 'max_depth': 4, 'min_samples_split': 5, 'max_leaf_nodes': 6}, {'n_estimators': 300, 'max_features': None, 'max_depth': 4, 'min_samples_split': 5, 'max_leaf_nodes': 9}, {'n_estimators': 300, 'max_features': None, 'max_depth': 4, 'min_samples_split': 10, 'max_leaf_nodes': 3}, {'n_estimators': 300, 'max_features': None, 'max_depth': 4, 'min_samples_split': 10, 'max_leaf_nodes': 6}, {'n_estimators': 300, 'max_features': None, 'max_depth': 4, 'min_samples_split': 10, 'max_leaf_nodes': 9}, {'n_estimators': 300, 'max_features': None, 'max_depth': 4, 'min_samples_split': None, 'max_leaf_nodes': 3}, {'n_estimators': 300, 'max_features': None, 'max_depth': 4, 'min_samples_split': None, 'max_leaf_nodes': 6}, {'n_estimators': 300, 'max_features': None, 'max_depth': 4, 'min_samples_split': None, 'max_leaf_nodes': 9}, {'n_estimators': 300, 'max_features': None, 'max_depth': 8, 'min_samples_split': 2, 'max_leaf_nodes': 3}, {'n_estimators': 300, 'max_features': None, 'max_depth': 8, 'min_samples_split': 2, 'max_leaf_nodes': 6}, {'n_estimators': 300, 'max_features': None, 'max_depth': 8, 'min_samples_split': 2, 'max_leaf_nodes': 9}, {'n_estimators': 300, 'max_features': None, 'max_depth': 8, 'min_samples_split': 5, 'max_leaf_nodes': 3}, {'n_estimators': 300, 'max_features': None, 'max_depth': 8, 'min_samples_split': 5, 'max_leaf_nodes': 6}, {'n_estimators': 300, 'max_features': None, 'max_depth': 8, 'min_samples_split': 5, 'max_leaf_nodes': 9}, {'n_estimators': 300, 'max_features': None, 'max_depth': 8, 'min_samples_split': 10, 'max_leaf_nodes': 3}, {'n_estimators': 300, 'max_features': None, 'max_depth': 8, 'min_samples_split': 10, 'max_leaf_nodes': 6}, {'n_estimators': 300, 'max_features': None, 'max_depth': 8, 'min_samples_split': 10, 'max_leaf_nodes': 9}, {'n_estimators': 300, 'max_features': None, 'max_depth': 8, 'min_samples_split': None, 'max_leaf_nodes': 3}, {'n_estimators': 300, 'max_features': None, 'max_depth': 8, 'min_samples_split': None, 'max_leaf_nodes': 6}, {'n_estimators': 300, 'max_features': None, 'max_depth': 8, 'min_samples_split': None, 'max_leaf_nodes': 9}, {'n_estimators': 300, 'max_features': None, 'max_depth': None, 'min_samples_split': 2, 'max_leaf_nodes': 3}, {'n_estimators': 300, 'max_features': None, 'max_depth': None, 'min_samples_split': 2, 'max_leaf_nodes': 6}, {'n_estimators': 300, 'max_features': None, 'max_depth': None, 'min_samples_split': 2, 'max_leaf_nodes': 9}, {'n_estimators': 300, 'max_features': None, 'max_depth': None, 'min_samples_split': 5, 'max_leaf_nodes': 3}, {'n_estimators': 300, 'max_features': None, 'max_depth': None, 'min_samples_split': 5, 'max_leaf_nodes': 6}, {'n_estimators': 300, 'max_features': None, 'max_depth': None, 'min_samples_split': 5, 'max_leaf_nodes': 9}, {'n_estimators': 300, 'max_features': None, 'max_depth': None, 'min_samples_split': 10, 'max_leaf_nodes': 3}, {'n_estimators': 300, 'max_features': None, 'max_depth': None, 'min_samples_split': 10, 'max_leaf_nodes': 6}, {'n_estimators': 300, 'max_features': None, 'max_depth': None, 'min_samples_split': 10, 'max_leaf_nodes': 9}, {'n_estimators': 300, 'max_features': None, 'max_depth': None, 'min_samples_split': None, 'max_leaf_nodes': 3}, {'n_estimators': 300, 'max_features': None, 'max_depth': None, 'min_samples_split': None, 'max_leaf_nodes': 6}, {'n_estimators': 300, 'max_features': None, 'max_depth': None, 'min_samples_split': None, 'max_leaf_nodes': 9}]\n"
     ]
    }
   ],
   "source": [
    "from itertools import product\n",
    "hyperparams, values = zip(*param_grid.items())\n",
    "number_combinations = [dict(zip(hyperparams, v)) for v in product(*values)]\n",
    "\n",
    "print(len(number_combinations))\n",
    "print(number_combinations)"
   ]
  },
  {
   "cell_type": "code",
   "execution_count": 27,
   "metadata": {},
   "outputs": [],
   "source": [
    "from sklearn.model_selection import GridSearchCV\n",
    "\n",
    "gridsearch = GridSearchCV(RandomForestClassifier(random_state=42), param_grid,  scoring=\"f1_weighted\", refit=True, cv=StratifiedKFold(n_splits=5))"
   ]
  },
  {
   "cell_type": "code",
   "execution_count": 28,
   "metadata": {},
   "outputs": [],
   "source": [
    "gridsearch.fit(X_stand, y)"
   ]
  },
  {
   "cell_type": "markdown",
   "metadata": {},
   "source": [
    "## FINAL MODEL"
   ]
  },
  {
   "cell_type": "markdown",
   "metadata": {},
   "source": [
    "check out https://scikit-learn.org/stable/common_pitfalls.html"
   ]
  },
  {
   "cell_type": "markdown",
   "metadata": {},
   "source": [
    "nota: antes de hacer todo lo de pca y rfe tengo que splittear en test/train para evitar data leakage\n",
    "\n",
    "se splitea en train/test ANTES DE LA PIPELINE\n",
    "\n",
    "LA PIPELINE COGE SOLO TRAIN PARA SPLITTEAR\n",
    "\n",
    "HAVE A LOOK AT THE RANDOM STATE THING"
   ]
  },
  {
   "cell_type": "code",
   "execution_count": null,
   "metadata": {},
   "outputs": [],
   "source": [
    "# after splitting the train/test, save the scaler or just do a pipeline\n",
    "# can access this way: \n",
    "# # For example, get the first step of the pipeline steps[0]\n",
    "# then get the actual scaler object [1]\n",
    "# clf.steps[0][1].scale_"
   ]
  },
  {
   "cell_type": "markdown",
   "metadata": {},
   "source": [
    "## PIPELINE"
   ]
  },
  {
   "cell_type": "markdown",
   "metadata": {},
   "source": [
    "in: pieza de texto\n",
    "1. lftk para conseguir los features de rfe - funcion para crear X\n",
    "2. standard -  can save the scaler or manually set the mean/std\n",
    "3. predict - load model and .predict"
   ]
  },
  {
   "cell_type": "markdown",
   "metadata": {},
   "source": [
    "poner los imports dentro de la funcion o fuera? fuera i think right"
   ]
  },
  {
   "cell_type": "code",
   "execution_count": null,
   "metadata": {},
   "outputs": [],
   "source": [
    "import spacy\n",
    "\n",
    "nlp = spacy.load(\"en_core_web_sm\")"
   ]
  },
  {
   "cell_type": "code",
   "execution_count": null,
   "metadata": {},
   "outputs": [],
   "source": [
    "# make a json dict to translate features to the names and save the feature list form the keys of said dictionary\n",
    "\n",
    "feature_names = ['total_number_of_words_more_than_three_syllables', 'root_proper_nouns_variation', 'root_spaces_variation', 'corrected_punctuations_variation', 'uber_type_token_ratio_no_lemma', 'average_number_of_proper_nouns_per_sentence', 'smog_index']\n",
    "\n"
   ]
  },
  {
   "cell_type": "code",
   "execution_count": null,
   "metadata": {},
   "outputs": [],
   "source": [
    "def extract_linguistic_features(text):\n",
    "    \n",
    "    doc = nlp(text)\n",
    "    \n",
    "    features = ['t_syll3', 'root_propn_var', 'root_space_var', 'corr_punct_var', 'uber_ttr_no_lem', 'a_propn_ps', 'smog']\n",
    "    LFTK = lftk.Extractor(docs = doc)\n",
    "    LFTK.customize(stop_words = True, round_decimal = 2)\n",
    "    doc_features = LFTK.extract(features=features)\n",
    "    \n",
    "    X = pd.DataFrame(doc_features)\n",
    "    \n",
    "    return X"
   ]
  },
  {
   "cell_type": "code",
   "execution_count": null,
   "metadata": {},
   "outputs": [],
   "source": [
    "# probar con cargar la pipeline y pasar directamente la X generada por extract linguistic features\n",
    "\n",
    "def predict_text(text, scaler, model):\n",
    "    \n",
    "    X = extract_linguistic_features(text)\n",
    "    X_scaled = scaler.transform(text)\n",
    "    prediction = model.predict(X_scaled)\n",
    "    \n",
    "    return prediction"
   ]
  },
  {
   "cell_type": "code",
   "execution_count": null,
   "metadata": {},
   "outputs": [],
   "source": []
  }
 ],
 "metadata": {
  "kernelspec": {
   "display_name": "Python 3",
   "language": "python",
   "name": "python3"
  },
  "language_info": {
   "codemirror_mode": {
    "name": "ipython",
    "version": 3
   },
   "file_extension": ".py",
   "mimetype": "text/x-python",
   "name": "python",
   "nbconvert_exporter": "python",
   "pygments_lexer": "ipython3",
   "version": "3.12.0"
  }
 },
 "nbformat": 4,
 "nbformat_minor": 2
}
